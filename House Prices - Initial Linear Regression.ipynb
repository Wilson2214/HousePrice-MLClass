{
 "cells": [
  {
   "cell_type": "code",
   "execution_count": 1,
   "metadata": {},
   "outputs": [
    {
     "name": "stdout",
     "output_type": "stream",
     "text": [
      "Checking whether there is an H2O instance running at http://localhost:54321..... not found.\n",
      "Attempting to start a local H2O server...\n",
      "; OpenJDK 64-Bit Server VM (Zulu 8.20.0.5-win64) (build 25.121-b15, mixed mode)\n",
      "  Starting server from C:\\Users\\Davee\\Miniconda3\\lib\\site-packages\\h2o\\backend\\bin\\h2o.jar\n",
      "  Ice root: C:\\Users\\Davee\\AppData\\Local\\Temp\\tmpdimd9qwb\n",
      "  JVM stdout: C:\\Users\\Davee\\AppData\\Local\\Temp\\tmpdimd9qwb\\h2o_Davee_started_from_python.out\n",
      "  JVM stderr: C:\\Users\\Davee\\AppData\\Local\\Temp\\tmpdimd9qwb\\h2o_Davee_started_from_python.err\n",
      "  Server is running at http://127.0.0.1:54321\n",
      "Connecting to H2O server at http://127.0.0.1:54321... successful.\n"
     ]
    },
    {
     "data": {
      "text/html": [
       "<div style=\"overflow:auto\"><table style=\"width:50%\"><tr><td>H2O cluster uptime:</td>\n",
       "<td>07 secs</td></tr>\n",
       "<tr><td>H2O cluster timezone:</td>\n",
       "<td>America/New_York</td></tr>\n",
       "<tr><td>H2O data parsing timezone:</td>\n",
       "<td>UTC</td></tr>\n",
       "<tr><td>H2O cluster version:</td>\n",
       "<td>3.18.0.11</td></tr>\n",
       "<tr><td>H2O cluster version age:</td>\n",
       "<td>14 days, 11 hours and 34 minutes </td></tr>\n",
       "<tr><td>H2O cluster name:</td>\n",
       "<td>H2O_from_python_Davee_7rqdd1</td></tr>\n",
       "<tr><td>H2O cluster total nodes:</td>\n",
       "<td>1</td></tr>\n",
       "<tr><td>H2O cluster free memory:</td>\n",
       "<td>1.747 Gb</td></tr>\n",
       "<tr><td>H2O cluster total cores:</td>\n",
       "<td>4</td></tr>\n",
       "<tr><td>H2O cluster allowed cores:</td>\n",
       "<td>4</td></tr>\n",
       "<tr><td>H2O cluster status:</td>\n",
       "<td>accepting new members, healthy</td></tr>\n",
       "<tr><td>H2O connection url:</td>\n",
       "<td>http://127.0.0.1:54321</td></tr>\n",
       "<tr><td>H2O connection proxy:</td>\n",
       "<td>None</td></tr>\n",
       "<tr><td>H2O internal security:</td>\n",
       "<td>False</td></tr>\n",
       "<tr><td>H2O API Extensions:</td>\n",
       "<td>Algos, AutoML, Core V3, Core V4</td></tr>\n",
       "<tr><td>Python version:</td>\n",
       "<td>3.6.4 final</td></tr></table></div>"
      ],
      "text/plain": [
       "--------------------------  --------------------------------\n",
       "H2O cluster uptime:         07 secs\n",
       "H2O cluster timezone:       America/New_York\n",
       "H2O data parsing timezone:  UTC\n",
       "H2O cluster version:        3.18.0.11\n",
       "H2O cluster version age:    14 days, 11 hours and 34 minutes\n",
       "H2O cluster name:           H2O_from_python_Davee_7rqdd1\n",
       "H2O cluster total nodes:    1\n",
       "H2O cluster free memory:    1.747 Gb\n",
       "H2O cluster total cores:    4\n",
       "H2O cluster allowed cores:  4\n",
       "H2O cluster status:         accepting new members, healthy\n",
       "H2O connection url:         http://127.0.0.1:54321\n",
       "H2O connection proxy:\n",
       "H2O internal security:      False\n",
       "H2O API Extensions:         Algos, AutoML, Core V3, Core V4\n",
       "Python version:             3.6.4 final\n",
       "--------------------------  --------------------------------"
      ]
     },
     "metadata": {},
     "output_type": "display_data"
    }
   ],
   "source": [
    "import pandas as pd\n",
    "import matplotlib.pyplot as plt\n",
    "import numpy as np\n",
    "import seaborn as sns\n",
    "\n",
    "import h2o\n",
    "from h2o.estimators.glm import H2OGeneralizedLinearEstimator\n",
    "from h2o.estimators.glrm import H2OGeneralizedLowRankEstimator\n",
    "from h2o.grid.grid_search import H2OGridSearch\n",
    "h2o.init()\n",
    "h2o.no_progress()"
   ]
  },
  {
   "cell_type": "code",
   "execution_count": 2,
   "metadata": {},
   "outputs": [
    {
     "data": {
      "text/html": [
       "<div>\n",
       "<style scoped>\n",
       "    .dataframe tbody tr th:only-of-type {\n",
       "        vertical-align: middle;\n",
       "    }\n",
       "\n",
       "    .dataframe tbody tr th {\n",
       "        vertical-align: top;\n",
       "    }\n",
       "\n",
       "    .dataframe thead th {\n",
       "        text-align: right;\n",
       "    }\n",
       "</style>\n",
       "<table border=\"1\" class=\"dataframe\">\n",
       "  <thead>\n",
       "    <tr style=\"text-align: right;\">\n",
       "      <th></th>\n",
       "      <th>Id</th>\n",
       "      <th>MSSubClass</th>\n",
       "      <th>MSZoning</th>\n",
       "      <th>LotFrontage</th>\n",
       "      <th>LotArea</th>\n",
       "      <th>Street</th>\n",
       "      <th>Alley</th>\n",
       "      <th>LotShape</th>\n",
       "      <th>LandContour</th>\n",
       "      <th>Utilities</th>\n",
       "      <th>...</th>\n",
       "      <th>PoolArea</th>\n",
       "      <th>PoolQC</th>\n",
       "      <th>Fence</th>\n",
       "      <th>MiscFeature</th>\n",
       "      <th>MiscVal</th>\n",
       "      <th>MoSold</th>\n",
       "      <th>YrSold</th>\n",
       "      <th>SaleType</th>\n",
       "      <th>SaleCondition</th>\n",
       "      <th>SalePrice</th>\n",
       "    </tr>\n",
       "  </thead>\n",
       "  <tbody>\n",
       "    <tr>\n",
       "      <th>0</th>\n",
       "      <td>1</td>\n",
       "      <td>60</td>\n",
       "      <td>RL</td>\n",
       "      <td>65.0</td>\n",
       "      <td>8450</td>\n",
       "      <td>Pave</td>\n",
       "      <td>NaN</td>\n",
       "      <td>Reg</td>\n",
       "      <td>Lvl</td>\n",
       "      <td>AllPub</td>\n",
       "      <td>...</td>\n",
       "      <td>0</td>\n",
       "      <td>NaN</td>\n",
       "      <td>NaN</td>\n",
       "      <td>NaN</td>\n",
       "      <td>0</td>\n",
       "      <td>2</td>\n",
       "      <td>2008</td>\n",
       "      <td>WD</td>\n",
       "      <td>Normal</td>\n",
       "      <td>208500</td>\n",
       "    </tr>\n",
       "    <tr>\n",
       "      <th>1</th>\n",
       "      <td>2</td>\n",
       "      <td>20</td>\n",
       "      <td>RL</td>\n",
       "      <td>80.0</td>\n",
       "      <td>9600</td>\n",
       "      <td>Pave</td>\n",
       "      <td>NaN</td>\n",
       "      <td>Reg</td>\n",
       "      <td>Lvl</td>\n",
       "      <td>AllPub</td>\n",
       "      <td>...</td>\n",
       "      <td>0</td>\n",
       "      <td>NaN</td>\n",
       "      <td>NaN</td>\n",
       "      <td>NaN</td>\n",
       "      <td>0</td>\n",
       "      <td>5</td>\n",
       "      <td>2007</td>\n",
       "      <td>WD</td>\n",
       "      <td>Normal</td>\n",
       "      <td>181500</td>\n",
       "    </tr>\n",
       "    <tr>\n",
       "      <th>2</th>\n",
       "      <td>3</td>\n",
       "      <td>60</td>\n",
       "      <td>RL</td>\n",
       "      <td>68.0</td>\n",
       "      <td>11250</td>\n",
       "      <td>Pave</td>\n",
       "      <td>NaN</td>\n",
       "      <td>IR1</td>\n",
       "      <td>Lvl</td>\n",
       "      <td>AllPub</td>\n",
       "      <td>...</td>\n",
       "      <td>0</td>\n",
       "      <td>NaN</td>\n",
       "      <td>NaN</td>\n",
       "      <td>NaN</td>\n",
       "      <td>0</td>\n",
       "      <td>9</td>\n",
       "      <td>2008</td>\n",
       "      <td>WD</td>\n",
       "      <td>Normal</td>\n",
       "      <td>223500</td>\n",
       "    </tr>\n",
       "    <tr>\n",
       "      <th>3</th>\n",
       "      <td>4</td>\n",
       "      <td>70</td>\n",
       "      <td>RL</td>\n",
       "      <td>60.0</td>\n",
       "      <td>9550</td>\n",
       "      <td>Pave</td>\n",
       "      <td>NaN</td>\n",
       "      <td>IR1</td>\n",
       "      <td>Lvl</td>\n",
       "      <td>AllPub</td>\n",
       "      <td>...</td>\n",
       "      <td>0</td>\n",
       "      <td>NaN</td>\n",
       "      <td>NaN</td>\n",
       "      <td>NaN</td>\n",
       "      <td>0</td>\n",
       "      <td>2</td>\n",
       "      <td>2006</td>\n",
       "      <td>WD</td>\n",
       "      <td>Abnorml</td>\n",
       "      <td>140000</td>\n",
       "    </tr>\n",
       "    <tr>\n",
       "      <th>4</th>\n",
       "      <td>5</td>\n",
       "      <td>60</td>\n",
       "      <td>RL</td>\n",
       "      <td>84.0</td>\n",
       "      <td>14260</td>\n",
       "      <td>Pave</td>\n",
       "      <td>NaN</td>\n",
       "      <td>IR1</td>\n",
       "      <td>Lvl</td>\n",
       "      <td>AllPub</td>\n",
       "      <td>...</td>\n",
       "      <td>0</td>\n",
       "      <td>NaN</td>\n",
       "      <td>NaN</td>\n",
       "      <td>NaN</td>\n",
       "      <td>0</td>\n",
       "      <td>12</td>\n",
       "      <td>2008</td>\n",
       "      <td>WD</td>\n",
       "      <td>Normal</td>\n",
       "      <td>250000</td>\n",
       "    </tr>\n",
       "  </tbody>\n",
       "</table>\n",
       "<p>5 rows × 81 columns</p>\n",
       "</div>"
      ],
      "text/plain": [
       "   Id  MSSubClass MSZoning  LotFrontage  LotArea Street Alley LotShape  \\\n",
       "0   1          60       RL         65.0     8450   Pave   NaN      Reg   \n",
       "1   2          20       RL         80.0     9600   Pave   NaN      Reg   \n",
       "2   3          60       RL         68.0    11250   Pave   NaN      IR1   \n",
       "3   4          70       RL         60.0     9550   Pave   NaN      IR1   \n",
       "4   5          60       RL         84.0    14260   Pave   NaN      IR1   \n",
       "\n",
       "  LandContour Utilities    ...     PoolArea PoolQC Fence MiscFeature MiscVal  \\\n",
       "0         Lvl    AllPub    ...            0    NaN   NaN         NaN       0   \n",
       "1         Lvl    AllPub    ...            0    NaN   NaN         NaN       0   \n",
       "2         Lvl    AllPub    ...            0    NaN   NaN         NaN       0   \n",
       "3         Lvl    AllPub    ...            0    NaN   NaN         NaN       0   \n",
       "4         Lvl    AllPub    ...            0    NaN   NaN         NaN       0   \n",
       "\n",
       "  MoSold YrSold  SaleType  SaleCondition  SalePrice  \n",
       "0      2   2008        WD         Normal     208500  \n",
       "1      5   2007        WD         Normal     181500  \n",
       "2      9   2008        WD         Normal     223500  \n",
       "3      2   2006        WD        Abnorml     140000  \n",
       "4     12   2008        WD         Normal     250000  \n",
       "\n",
       "[5 rows x 81 columns]"
      ]
     },
     "execution_count": 2,
     "metadata": {},
     "output_type": "execute_result"
    }
   ],
   "source": [
    "# Read data\n",
    "train = pd.read_csv('train.csv')\n",
    "test = pd.read_csv('test.csv')\n",
    "train.head()"
   ]
  },
  {
   "cell_type": "code",
   "execution_count": 3,
   "metadata": {},
   "outputs": [],
   "source": [
    "# Use H2O to create training and validation sets before data pre-processing\n",
    "# Will now have three pandas data frames for test, training, and validation\n",
    "\n",
    "h2otrain = h2o.H2OFrame(train)\n",
    "h2otrain, h2ovalid = h2otrain.split_frame([0.7], seed=12345)\n",
    "train = h2otrain.as_data_frame()\n",
    "valid = h2ovalid.as_data_frame()"
   ]
  },
  {
   "cell_type": "code",
   "execution_count": 4,
   "metadata": {},
   "outputs": [],
   "source": [
    "# Categorical Values\n",
    "\n",
    "cat_train = train.select_dtypes(include=['object'])\n",
    "cat_valid = valid.select_dtypes(include=['object'])\n",
    "cat_test = test.select_dtypes(include=['object'])"
   ]
  },
  {
   "cell_type": "code",
   "execution_count": 5,
   "metadata": {},
   "outputs": [],
   "source": [
    "# Numerical Values\n",
    "\n",
    "num_train = train.select_dtypes(exclude=['object'])\n",
    "num_valid = valid.select_dtypes(exclude=['object'])\n",
    "num_test = test.select_dtypes(exclude=['object'])"
   ]
  },
  {
   "cell_type": "markdown",
   "metadata": {},
   "source": [
    "## Data Pre-Processing\n",
    "\n",
    "### Impute any NaN Values"
   ]
  },
  {
   "cell_type": "code",
   "execution_count": 6,
   "metadata": {},
   "outputs": [
    {
     "data": {
      "text/plain": [
       "<matplotlib.axes._subplots.AxesSubplot at 0x1bc096ab908>"
      ]
     },
     "execution_count": 6,
     "metadata": {},
     "output_type": "execute_result"
    },
    {
     "data": {
      "image/png": "[encoded data removed]",
      "text/plain": [
       "<Figure size 432x288 with 1 Axes>"
      ]
     },
     "metadata": {},
     "output_type": "display_data"
    }
   ],
   "source": [
    "# Visualize Missing Values (both Numerical and Categorical)\n",
    "\n",
    "trainmissing = train.isnull().sum()\n",
    "trainmissing = trainmissing[trainmissing>0]\n",
    "\n",
    "trainmissing\n",
    "trainmissing.plot.bar()"
   ]
  },
  {
   "cell_type": "code",
   "execution_count": 7,
   "metadata": {},
   "outputs": [
    {
     "name": "stdout",
     "output_type": "stream",
     "text": [
      "Training # Cols with NaN = 3\n",
      "['LotFrontage', 'MasVnrArea', 'GarageYrBlt']\n",
      "\n",
      "Validation # Cols with NaN = 3\n",
      "['LotFrontage', 'MasVnrArea', 'GarageYrBlt']\n",
      "\n",
      "Testing # Cols with NaN = 11\n",
      "['LotFrontage', 'MasVnrArea', 'BsmtFinSF1', 'BsmtFinSF2', 'BsmtUnfSF', 'TotalBsmtSF', 'BsmtFullBath', 'BsmtHalfBath', 'GarageYrBlt', 'GarageCars', 'GarageArea']\n"
     ]
    }
   ],
   "source": [
    "# Numerical values I will impute NaN with the median (per professors code)\n",
    "# Determine which columns have NaN\n",
    "\n",
    "trcols = num_train.columns[num_train.isna().any()].tolist()\n",
    "vacols = num_valid.columns[num_valid.isna().any()].tolist()\n",
    "tecols = num_test.columns[num_test.isna().any()].tolist()\n",
    "\n",
    "# Impute the median value for LotFrontage and GarageYrBlt\n",
    "\n",
    "print('Training # Cols with NaN =', len(trcols))\n",
    "print(trcols)\n",
    "print()\n",
    "print('Validation # Cols with NaN =', len(vacols))\n",
    "print(vacols)\n",
    "print()\n",
    "print('Testing # Cols with NaN =', len(tecols))\n",
    "print(tecols)"
   ]
  },
  {
   "cell_type": "code",
   "execution_count": 8,
   "metadata": {},
   "outputs": [
    {
     "name": "stdout",
     "output_type": "stream",
     "text": [
      "Total Missing Values of LotFrontage in Training = 179\n"
     ]
    }
   ],
   "source": [
    "# Lot Frontage: Linear feet of street connected to property\n",
    "out1 = num_train['LotFrontage'].isna().sum()\n",
    "\n",
    "print('Total Missing Values of LotFrontage in Training =', out1)"
   ]
  },
  {
   "cell_type": "markdown",
   "metadata": {},
   "source": [
    "To impute the 179 missing values of LotFrontage, we can use the median of a related categorical factor. We looked at BldgType and MSZoning as we assumed both would relate to the linear feet of street connected to the property. Building type median seems to have the best correlation to LotFrontage and we will use it to impute our missing values"
   ]
  },
  {
   "cell_type": "code",
   "execution_count": 9,
   "metadata": {},
   "outputs": [
    {
     "data": {
      "image/png": "[encoded data removed]",
      "text/plain": [
       "<Figure size 432x288 with 1 Axes>"
      ]
     },
     "metadata": {},
     "output_type": "display_data"
    }
   ],
   "source": [
    "# This shows a bar plot of the median value per group with an error bar showing one standard deviation (to show variability)\n",
    "\n",
    "sns.barplot(data=train,x='BldgType',y='LotFrontage', estimator=np.median)\n",
    "plt.xticks(rotation=90)\n",
    "plt.show()"
   ]
  },
  {
   "cell_type": "code",
   "execution_count": 10,
   "metadata": {},
   "outputs": [
    {
     "data": {
      "image/png": "[encoded data removed]",
      "text/plain": [
       "<Figure size 432x288 with 1 Axes>"
      ]
     },
     "metadata": {},
     "output_type": "display_data"
    }
   ],
   "source": [
    "sns.barplot(data=train,x='MSZoning',y='LotFrontage', estimator=np.median)\n",
    "plt.xticks(rotation=90)\n",
    "plt.show()"
   ]
  },
  {
   "cell_type": "code",
   "execution_count": 11,
   "metadata": {},
   "outputs": [],
   "source": [
    "# Assistance in creating this formula\n",
    "# https://stackoverflow.com/questions/19966018/pandas-filling-missing-values-by-mean-in-each-group\n",
    "\n",
    "train['LotFrontage'] = train.groupby('BldgType')['LotFrontage'].transform(lambda x: x.fillna(x.median()))\n",
    "\n",
    "# Must also apply this to validation and testing data\n",
    "\n",
    "valid['LotFrontage'] = valid.groupby('BldgType')['LotFrontage'].transform(lambda x: x.fillna(x.median()))\n",
    "test['LotFrontage'] = test.groupby('BldgType')['LotFrontage'].transform(lambda x: x.fillna(x.median()))"
   ]
  },
  {
   "cell_type": "code",
   "execution_count": 12,
   "metadata": {},
   "outputs": [
    {
     "name": "stdout",
     "output_type": "stream",
     "text": [
      "Total Missing Values of MasVnrArea in Training = 7\n"
     ]
    }
   ],
   "source": [
    "# MasVnrArea: Masonry veneer area in square feet\n",
    "\n",
    "out2 = num_train['MasVnrArea'].isna().sum()\n",
    "\n",
    "print('Total Missing Values of MasVnrArea in Training =', out2)"
   ]
  },
  {
   "cell_type": "code",
   "execution_count": 13,
   "metadata": {},
   "outputs": [
    {
     "data": {
      "text/plain": [
       "163    NaN\n",
       "371    NaN\n",
       "446    NaN\n",
       "646    NaN\n",
       "672    NaN\n",
       "676    NaN\n",
       "855    NaN\n",
       "Name: MasVnrType, dtype: object"
      ]
     },
     "execution_count": 13,
     "metadata": {},
     "output_type": "execute_result"
    }
   ],
   "source": [
    "# These 7 missing values also have a missing veneer type\n",
    "\n",
    "vnr = train[num_train['MasVnrArea'].isna()]\n",
    "vnr['MasVnrType']"
   ]
  },
  {
   "cell_type": "code",
   "execution_count": 14,
   "metadata": {},
   "outputs": [],
   "source": [
    "# We can simply replace all missing values here with 0\n",
    "# Note, we also must do this for our validation and test data\n",
    "\n",
    "train['MasVnrArea'] = train['MasVnrArea'].fillna(0)\n",
    "valid['MasVnrArea'] = valid['MasVnrArea'].fillna(0)\n",
    "test['MasVnrArea'] = test['MasVnrArea'].fillna(0)"
   ]
  },
  {
   "cell_type": "code",
   "execution_count": 15,
   "metadata": {},
   "outputs": [
    {
     "name": "stdout",
     "output_type": "stream",
     "text": [
      "Total Missing Values of GarageYrBlt in Training = 48\n"
     ]
    },
    {
     "data": {
      "text/plain": [
       "28     NaN\n",
       "35     NaN\n",
       "55     NaN\n",
       "63     NaN\n",
       "64     NaN\n",
       "89     NaN\n",
       "98     NaN\n",
       "103    NaN\n",
       "108    NaN\n",
       "113    NaN\n",
       "115    NaN\n",
       "149    NaN\n",
       "166    NaN\n",
       "202    NaN\n",
       "269    NaN\n",
       "274    NaN\n",
       "309    NaN\n",
       "346    NaN\n",
       "370    NaN\n",
       "392    NaN\n",
       "408    NaN\n",
       "430    NaN\n",
       "439    NaN\n",
       "440    NaN\n",
       "508    NaN\n",
       "518    NaN\n",
       "567    NaN\n",
       "578    NaN\n",
       "636    NaN\n",
       "659    NaN\n",
       "669    NaN\n",
       "675    NaN\n",
       "700    NaN\n",
       "720    NaN\n",
       "762    NaN\n",
       "782    NaN\n",
       "807    NaN\n",
       "840    NaN\n",
       "841    NaN\n",
       "848    NaN\n",
       "867    NaN\n",
       "884    NaN\n",
       "909    NaN\n",
       "911    NaN\n",
       "919    NaN\n",
       "963    NaN\n",
       "994    NaN\n",
       "997    NaN\n",
       "Name: GarageType, dtype: object"
      ]
     },
     "execution_count": 15,
     "metadata": {},
     "output_type": "execute_result"
    }
   ],
   "source": [
    "# GarageYrBlt: Year garage was built\n",
    "out3 = num_train['GarageYrBlt'].isna().sum()\n",
    "\n",
    "print('Total Missing Values of GarageYrBlt in Training =', out3)\n",
    "\n",
    "garg = train[num_train['GarageYrBlt'].isna()]\n",
    "garg['GarageType']\n",
    "\n",
    "# Similar to before, these values all have a missing garage type meaning there is no garage and we can impute with 0"
   ]
  },
  {
   "cell_type": "code",
   "execution_count": 16,
   "metadata": {},
   "outputs": [],
   "source": [
    "# We can simply replace all missing values here with 0\n",
    "# Note, we also must do this for our validation and test data\n",
    "\n",
    "train['GarageYrBlt'] = train['GarageYrBlt'].fillna(0)\n",
    "valid['GarageYrBlt'] = valid['GarageYrBlt'].fillna(0)\n",
    "test['GarageYrBlt'] = test['GarageYrBlt'].fillna(0)\n",
    "\n",
    "# We will do the same for Garage Cars and Garage Area that are missing in our test data set\n",
    "# We cannot look at this data to determine if this is correct, but we must perform the actions based on our test data\n",
    "\n",
    "train['GarageCars'] = train['GarageCars'].fillna(0)\n",
    "valid['GarageCars'] = valid['GarageCars'].fillna(0)\n",
    "test['GarageCars'] = test['GarageCars'].fillna(0)\n",
    "\n",
    "train['GarageArea'] = train['GarageArea'].fillna(0)\n",
    "valid['GarageArea'] = valid['GarageArea'].fillna(0)\n",
    "test['GarageArea'] = test['GarageArea'].fillna(0)"
   ]
  },
  {
   "cell_type": "code",
   "execution_count": 17,
   "metadata": {},
   "outputs": [],
   "source": [
    "# Finally, although there are no missing values in the test set for items related to the basement of a home\n",
    "# our test data does have these issues. We will simply replace these missing values with zero assuming there is no\n",
    "# basement at this location\n",
    "# 'BsmtFinSF1', 'BsmtFinSF2', 'BsmtUnfSF', 'TotalBsmtSF', 'BsmtFullBath', 'BsmtHalfBath'\n",
    "\n",
    "train['BsmtFinSF1'] = train['BsmtFinSF1'].fillna(0)\n",
    "valid['BsmtFinSF1'] = valid['BsmtFinSF1'].fillna(0)\n",
    "test['BsmtFinSF1'] = test['BsmtFinSF1'].fillna(0)\n",
    "\n",
    "train['BsmtFinSF2'] = train['BsmtFinSF2'].fillna(0)\n",
    "valid['BsmtFinSF2'] = valid['BsmtFinSF2'].fillna(0)\n",
    "test['BsmtFinSF2'] = test['BsmtFinSF2'].fillna(0)\n",
    "\n",
    "train['BsmtUnfSF'] = train['BsmtUnfSF'].fillna(0)\n",
    "valid['BsmtUnfSF'] = valid['BsmtUnfSF'].fillna(0)\n",
    "test['BsmtUnfSF'] = test['BsmtUnfSF'].fillna(0)\n",
    "\n",
    "train['TotalBsmtSF'] = train['TotalBsmtSF'].fillna(0)\n",
    "valid['TotalBsmtSF'] = valid['TotalBsmtSF'].fillna(0)\n",
    "test['TotalBsmtSF'] = test['TotalBsmtSF'].fillna(0)\n",
    "\n",
    "train['BsmtFullBath'] = train['BsmtFullBath'].fillna(0)\n",
    "valid['BsmtFullBath'] = valid['BsmtFullBath'].fillna(0)\n",
    "test['BsmtFullBath'] = test['BsmtFullBath'].fillna(0)\n",
    "\n",
    "train['BsmtHalfBath'] = train['BsmtHalfBath'].fillna(0)\n",
    "valid['BsmtHalfBath'] = valid['BsmtHalfBath'].fillna(0)\n",
    "test['BsmtHalfBath'] = test['BsmtHalfBath'].fillna(0)"
   ]
  },
  {
   "cell_type": "code",
   "execution_count": 18,
   "metadata": {},
   "outputs": [
    {
     "name": "stdout",
     "output_type": "stream",
     "text": [
      "Training # Cols with NaN = 0\n",
      "[]\n",
      "\n",
      "Validation # Cols with NaN = 0\n",
      "[]\n",
      "\n",
      "Testing # Cols with NaN = 0\n",
      "[]\n"
     ]
    }
   ],
   "source": [
    "# Finally, we double check to make sure we have no more missing numerical values\n",
    "\n",
    "num_train = train.select_dtypes(exclude=['object'])\n",
    "num_valid = valid.select_dtypes(exclude=['object'])\n",
    "num_test = test.select_dtypes(exclude=['object'])\n",
    "\n",
    "trcols = num_train.columns[num_train.isna().any()].tolist()\n",
    "vacols = num_valid.columns[num_valid.isna().any()].tolist()\n",
    "tecols = num_test.columns[num_test.isna().any()].tolist()\n",
    "\n",
    "print('Training # Cols with NaN =', len(trcols))\n",
    "print(trcols)\n",
    "print()\n",
    "print('Validation # Cols with NaN =', len(vacols))\n",
    "print(vacols)\n",
    "print()\n",
    "print('Testing # Cols with NaN =', len(tecols))\n",
    "print(tecols)"
   ]
  },
  {
   "cell_type": "code",
   "execution_count": 19,
   "metadata": {},
   "outputs": [
    {
     "name": "stdout",
     "output_type": "stream",
     "text": [
      "Training # Cols with NaN = 16\n",
      "['Alley', 'MasVnrType', 'BsmtQual', 'BsmtCond', 'BsmtExposure', 'BsmtFinType1', 'BsmtFinType2', 'Electrical', 'FireplaceQu', 'GarageType', 'GarageFinish', 'GarageQual', 'GarageCond', 'PoolQC', 'Fence', 'MiscFeature']\n",
      "\n",
      "Validation # Cols with NaN = 15\n",
      "['Alley', 'MasVnrType', 'BsmtQual', 'BsmtCond', 'BsmtExposure', 'BsmtFinType1', 'BsmtFinType2', 'FireplaceQu', 'GarageType', 'GarageFinish', 'GarageQual', 'GarageCond', 'PoolQC', 'Fence', 'MiscFeature']\n",
      "\n",
      "Testing # Cols with NaN = 22\n",
      "['MSZoning', 'Alley', 'Utilities', 'Exterior1st', 'Exterior2nd', 'MasVnrType', 'BsmtQual', 'BsmtCond', 'BsmtExposure', 'BsmtFinType1', 'BsmtFinType2', 'KitchenQual', 'Functional', 'FireplaceQu', 'GarageType', 'GarageFinish', 'GarageQual', 'GarageCond', 'PoolQC', 'Fence', 'MiscFeature', 'SaleType']\n"
     ]
    }
   ],
   "source": [
    "# Categorial values we will have to do case by case\n",
    "# Start by determining which columns have NaN and what they should be replaced by\n",
    "# For example: If no basement, all basement related will be NaN but they should say No Basement...\n",
    "\n",
    "# Determine which columns have NaN\n",
    "\n",
    "trcols = cat_train.columns[cat_train.isna().any()].tolist()\n",
    "vacols = cat_valid.columns[cat_valid.isna().any()].tolist()\n",
    "tecols = cat_test.columns[cat_test.isna().any()].tolist()\n",
    "\n",
    "print('Training # Cols with NaN =', len(trcols))\n",
    "print(trcols)\n",
    "print()\n",
    "print('Validation # Cols with NaN =', len(vacols))\n",
    "print(vacols)\n",
    "print()\n",
    "print('Testing # Cols with NaN =', len(tecols))\n",
    "print(tecols)"
   ]
  },
  {
   "cell_type": "code",
   "execution_count": 20,
   "metadata": {},
   "outputs": [],
   "source": [
    "# Alley: Type of alley access to property where NA equals No Alley\n",
    "\n",
    "train['Alley'] = train['Alley'].fillna('NoAlley')\n",
    "valid['Alley'] = valid['Alley'].fillna('NoAlley')\n",
    "test['Alley'] = test['Alley'].fillna('NoAlley')"
   ]
  },
  {
   "cell_type": "code",
   "execution_count": 21,
   "metadata": {},
   "outputs": [],
   "source": [
    "# MasVnrType: Masonry veneer type where we will assume NA equals None\n",
    "\n",
    "train['MasVnrType'] = train['MasVnrType'].fillna('None')\n",
    "valid['MasVnrType'] = valid['MasVnrType'].fillna('None')\n",
    "test['MasVnrType'] = test['MasVnrType'].fillna('None')"
   ]
  },
  {
   "cell_type": "code",
   "execution_count": 22,
   "metadata": {},
   "outputs": [
    {
     "name": "stdout",
     "output_type": "stream",
     "text": [
      "Total Missing Values of Utilities in Training = 0\n"
     ]
    },
    {
     "data": {
      "text/plain": [
       "<matplotlib.axes._subplots.AxesSubplot at 0x1bc0989fd68>"
      ]
     },
     "execution_count": 22,
     "metadata": {},
     "output_type": "execute_result"
    },
    {
     "data": {
      "image/png": "[encoded data removed]",
      "text/plain": [
       "<Figure size 432x288 with 1 Axes>"
      ]
     },
     "metadata": {},
     "output_type": "display_data"
    }
   ],
   "source": [
    "# Utilities: Type of utilities available\n",
    "# There are no utility missing values in the training data, but we will replace this with all utilities available as\n",
    "# all properties in the test set have all utilities available\n",
    "\n",
    "out4 = cat_train['Utilities'].isna().sum()\n",
    "\n",
    "print('Total Missing Values of Utilities in Training =', out4)\n",
    "\n",
    "sns.countplot(x='Utilities', data=train)"
   ]
  },
  {
   "cell_type": "code",
   "execution_count": 23,
   "metadata": {},
   "outputs": [],
   "source": [
    "train['Utilities'] = train['Utilities'].fillna('AllPub')\n",
    "valid['Utilities'] = valid['Utilities'].fillna('AllPub')\n",
    "test['Utilities'] = test['Utilities'].fillna('AllPub')"
   ]
  },
  {
   "cell_type": "code",
   "execution_count": 24,
   "metadata": {},
   "outputs": [
    {
     "name": "stdout",
     "output_type": "stream",
     "text": [
      "Total Missing Values of Basement Quality in Training = 25\n"
     ]
    },
    {
     "data": {
      "text/plain": [
       "12     0\n",
       "28     0\n",
       "65     0\n",
       "72     0\n",
       "109    0\n",
       "128    0\n",
       "179    0\n",
       "235    0\n",
       "249    0\n",
       "255    0\n",
       "273    0\n",
       "385    0\n",
       "444    0\n",
       "517    0\n",
       "535    0\n",
       "614    0\n",
       "683    0\n",
       "717    0\n",
       "725    0\n",
       "728    0\n",
       "758    0\n",
       "838    0\n",
       "840    0\n",
       "847    0\n",
       "967    0\n",
       "Name: TotalBsmtSF, dtype: int64"
      ]
     },
     "execution_count": 24,
     "metadata": {},
     "output_type": "execute_result"
    }
   ],
   "source": [
    "# Similar to our numerical data, we will assume all basement related missing values means there is no basement\n",
    "# We confirm this below by looking at the numerical values about basements for those entries whose categorical basement values\n",
    "# contains an NaN\n",
    "\n",
    "out5 = cat_train['BsmtQual'].isna().sum()\n",
    "\n",
    "print('Total Missing Values of Basement Quality in Training =', out5)\n",
    "\n",
    "bsmt = train[cat_train['BsmtQual'].isna()]\n",
    "bsmt['TotalBsmtSF']"
   ]
  },
  {
   "cell_type": "code",
   "execution_count": 25,
   "metadata": {},
   "outputs": [],
   "source": [
    "# NoBasement is confirmed and can be replaced in our set\n",
    "# 'BsmtQual', 'BsmtCond', 'BsmtExposure', 'BsmtFinType1', 'BsmtFinType2'\n",
    "\n",
    "train['BsmtQual'] = train['BsmtQual'].fillna('NoBasement')\n",
    "valid['BsmtQual'] = valid['BsmtQual'].fillna('NoBasement')\n",
    "test['BsmtQual'] = test['BsmtQual'].fillna('NoBasement')\n",
    "\n",
    "train['BsmtCond'] = train['BsmtCond'].fillna('NoBasement')\n",
    "valid['BsmtCond'] = valid['BsmtCond'].fillna('NoBasement')\n",
    "test['BsmtCond'] = test['BsmtCond'].fillna('NoBasement')\n",
    "\n",
    "train['BsmtExposure'] = train['BsmtExposure'].fillna('NoBasement')\n",
    "valid['BsmtExposure'] = valid['BsmtExposure'].fillna('NoBasement')\n",
    "test['BsmtExposure'] = test['BsmtExposure'].fillna('NoBasement')\n",
    "\n",
    "train['BsmtFinType1'] = train['BsmtFinType1'].fillna('NoBasement')\n",
    "valid['BsmtFinType1'] = valid['BsmtFinType1'].fillna('NoBasement')\n",
    "test['BsmtFinType1'] = test['BsmtFinType1'].fillna('NoBasement')\n",
    "\n",
    "train['BsmtFinType2'] = train['BsmtFinType2'].fillna('NoBasement')\n",
    "valid['BsmtFinType2'] = valid['BsmtFinType2'].fillna('NoBasement')\n",
    "test['BsmtFinType2'] = test['BsmtFinType2'].fillna('NoBasement')"
   ]
  },
  {
   "cell_type": "code",
   "execution_count": 26,
   "metadata": {},
   "outputs": [
    {
     "name": "stdout",
     "output_type": "stream",
     "text": [
      "Total Missing Values of Electrical in Training = 1\n"
     ]
    },
    {
     "data": {
      "text/plain": [
       "<matplotlib.axes._subplots.AxesSubplot at 0x1bc09918898>"
      ]
     },
     "execution_count": 26,
     "metadata": {},
     "output_type": "execute_result"
    },
    {
     "data": {
      "image/png": "[encoded data removed]",
      "text/plain": [
       "<Figure size 432x288 with 1 Axes>"
      ]
     },
     "metadata": {},
     "output_type": "display_data"
    }
   ],
   "source": [
    "# Electrical: Electrical system\n",
    "\n",
    "out6 = cat_train['Electrical'].isna().sum()\n",
    "\n",
    "print('Total Missing Values of Electrical in Training =', out6)\n",
    "\n",
    "elec = train[cat_train['Electrical'].isna()]\n",
    "elec\n",
    "\n",
    "sns.countplot(x='Electrical', data=train)"
   ]
  },
  {
   "cell_type": "code",
   "execution_count": 27,
   "metadata": {},
   "outputs": [],
   "source": [
    "# There is only one missing electrical value in the test data.\n",
    "# We will impute this and all others with a standard configuration as this is the most common configuration\n",
    "\n",
    "train['Electrical'] = train['Electrical'].fillna('SBrkr')\n",
    "valid['Electrical'] = valid['Electrical'].fillna('SBrkr')\n",
    "test['Electrical'] = test['Electrical'].fillna('SBrkr')"
   ]
  },
  {
   "cell_type": "code",
   "execution_count": 28,
   "metadata": {},
   "outputs": [
    {
     "name": "stdout",
     "output_type": "stream",
     "text": [
      "Total Missing Values of FireplaceQu in Training = 466\n"
     ]
    },
    {
     "data": {
      "text/plain": [
       "<matplotlib.axes._subplots.AxesSubplot at 0x1bc099636d8>"
      ]
     },
     "execution_count": 28,
     "metadata": {},
     "output_type": "execute_result"
    },
    {
     "data": {
      "image/png": "[encoded data removed]",
      "text/plain": [
       "<Figure size 432x288 with 1 Axes>"
      ]
     },
     "metadata": {},
     "output_type": "display_data"
    }
   ],
   "source": [
    "# 'FireplaceQu': Fireplace quality\n",
    "\n",
    "out7 = cat_train['FireplaceQu'].isna().sum()\n",
    "\n",
    "print('Total Missing Values of FireplaceQu in Training =', out7)\n",
    "\n",
    "fire = train[cat_train['FireplaceQu'].isna()]\n",
    "\n",
    "sns.countplot(x='Fireplaces', data=fire)"
   ]
  },
  {
   "cell_type": "code",
   "execution_count": 29,
   "metadata": {},
   "outputs": [],
   "source": [
    "# As shown above, all missing fireplace quality values have 0 fireplaces\n",
    "\n",
    "train['FireplaceQu'] = train['FireplaceQu'].fillna('NoFire')\n",
    "valid['FireplaceQu'] = valid['FireplaceQu'].fillna('NoFire')\n",
    "test['FireplaceQu'] = test['FireplaceQu'].fillna('NoFire')"
   ]
  },
  {
   "cell_type": "code",
   "execution_count": 30,
   "metadata": {},
   "outputs": [
    {
     "name": "stdout",
     "output_type": "stream",
     "text": [
      "Total Missing Values of PoolQC in Training = 995\n"
     ]
    },
    {
     "data": {
      "text/plain": [
       "<matplotlib.axes._subplots.AxesSubplot at 0x1bc099ba128>"
      ]
     },
     "execution_count": 30,
     "metadata": {},
     "output_type": "execute_result"
    },
    {
     "data": {
      "image/png": "[encoded data removed]",
      "text/plain": [
       "<Figure size 432x288 with 1 Axes>"
      ]
     },
     "metadata": {},
     "output_type": "display_data"
    }
   ],
   "source": [
    "# 'PoolQC'\n",
    "\n",
    "out8 = cat_train['PoolQC'].isna().sum()\n",
    "\n",
    "print('Total Missing Values of PoolQC in Training =', out8)\n",
    "\n",
    "pool = train[cat_train['PoolQC'].isna()]\n",
    "\n",
    "sns.countplot(x='PoolArea', data=pool)"
   ]
  },
  {
   "cell_type": "code",
   "execution_count": 31,
   "metadata": {},
   "outputs": [],
   "source": [
    "# As shown above, all missing pool quality values have 0 pools\n",
    "\n",
    "train['PoolQC'] = train['PoolQC'].fillna('NoPool')\n",
    "valid['PoolQC'] = valid['PoolQC'].fillna('NoPool')\n",
    "test['PoolQC'] = test['PoolQC'].fillna('NoPool')"
   ]
  },
  {
   "cell_type": "code",
   "execution_count": 32,
   "metadata": {},
   "outputs": [],
   "source": [
    "# 'Fence': Fence quality where NA equals no fence\n",
    "\n",
    "train['Fence'] = train['Fence'].fillna('NoFence')\n",
    "valid['Fence'] = valid['Fence'].fillna('NoFence')\n",
    "test['Fence'] = test['Fence'].fillna('NoFence')"
   ]
  },
  {
   "cell_type": "code",
   "execution_count": 33,
   "metadata": {},
   "outputs": [],
   "source": [
    "# 'MiscFeature': Miscellaneous feature not covered in other categories where NA equals None\n",
    "\n",
    "train['MiscFeature'] = train['MiscFeature'].fillna('NoMisc')\n",
    "valid['MiscFeature'] = valid['MiscFeature'].fillna('NoMisc')\n",
    "test['MiscFeature'] = test['MiscFeature'].fillna('NoMisc')"
   ]
  },
  {
   "cell_type": "code",
   "execution_count": 34,
   "metadata": {},
   "outputs": [
    {
     "name": "stdout",
     "output_type": "stream",
     "text": [
      "Total Missing Values of GarageType in Training = 48\n"
     ]
    },
    {
     "data": {
      "text/plain": [
       "28     0\n",
       "35     0\n",
       "55     0\n",
       "63     0\n",
       "64     0\n",
       "89     0\n",
       "98     0\n",
       "103    0\n",
       "108    0\n",
       "113    0\n",
       "115    0\n",
       "149    0\n",
       "166    0\n",
       "202    0\n",
       "269    0\n",
       "274    0\n",
       "309    0\n",
       "346    0\n",
       "370    0\n",
       "392    0\n",
       "408    0\n",
       "430    0\n",
       "439    0\n",
       "440    0\n",
       "508    0\n",
       "518    0\n",
       "567    0\n",
       "578    0\n",
       "636    0\n",
       "659    0\n",
       "669    0\n",
       "675    0\n",
       "700    0\n",
       "720    0\n",
       "762    0\n",
       "782    0\n",
       "807    0\n",
       "840    0\n",
       "841    0\n",
       "848    0\n",
       "867    0\n",
       "884    0\n",
       "909    0\n",
       "911    0\n",
       "919    0\n",
       "963    0\n",
       "994    0\n",
       "997    0\n",
       "Name: GarageArea, dtype: int64"
      ]
     },
     "execution_count": 34,
     "metadata": {},
     "output_type": "execute_result"
    }
   ],
   "source": [
    "# Similar to our numerical data, we will assume all garage related missing values means there is no garage\n",
    "# We confirm this below by looking at the numerical values about garages for those entries whose categorical garage values\n",
    "# contains an NaN\n",
    "\n",
    "out9 = cat_train['GarageType'].isna().sum()\n",
    "\n",
    "print('Total Missing Values of GarageType in Training =', out9)\n",
    "\n",
    "gara = train[cat_train['GarageType'].isna()]\n",
    "gara['GarageArea']"
   ]
  },
  {
   "cell_type": "code",
   "execution_count": 35,
   "metadata": {},
   "outputs": [],
   "source": [
    "# NoBasement is confirmed and can be replaced in our set\n",
    "# 'GarageType', 'GarageFinish', 'GarageQual', 'GarageCond'\n",
    "\n",
    "train['GarageType'] = train['GarageType'].fillna('NoGarage')\n",
    "valid['GarageType'] = valid['GarageType'].fillna('NoGarage')\n",
    "test['GarageType'] = test['GarageType'].fillna('NoGarage')\n",
    "\n",
    "train['GarageFinish'] = train['GarageFinish'].fillna('NoGarage')\n",
    "valid['GarageFinish'] = valid['GarageFinish'].fillna('NoGarage')\n",
    "test['GarageFinish'] = test['GarageFinish'].fillna('NoGarage')\n",
    "\n",
    "train['GarageQual'] = train['GarageQual'].fillna('NoGarage')\n",
    "valid['GarageQual'] = valid['GarageQual'].fillna('NoGarage')\n",
    "test['GarageQual'] = test['GarageQual'].fillna('NoGarage')\n",
    "\n",
    "train['GarageCond'] = train['GarageCond'].fillna('NoGarage')\n",
    "valid['GarageCond'] = valid['GarageCond'].fillna('NoGarage')\n",
    "test['GarageCond'] = test['GarageCond'].fillna('NoGarage')"
   ]
  },
  {
   "cell_type": "code",
   "execution_count": 45,
   "metadata": {},
   "outputs": [],
   "source": [
    "# These features were not missing in the Training data but were missing in the Test Data\n",
    "# 'MSZoning', 'Utilities', 'Exterior1st', 'Exterior2nd', 'KitchenQual', 'Functional', 'SaleType'\n",
    "\n",
    "# 'MSZoning', Utilities', 'Functional', 'KitchenQual' will replace with most frequent value\n",
    "\n",
    "train['MSZoning'] = train['MSZoning'].transform(lambda x: x.fillna(x.value_counts().index[0]))\n",
    "valid['MSZoning'] = valid['MSZoning'].transform(lambda x: x.fillna(x.value_counts().index[0]))\n",
    "test['MSZoning'] = test['MSZoning'].transform(lambda x: x.fillna(x.value_counts().index[0]))\n",
    "\n",
    "train['Utilities'] = train['Utilities'].transform(lambda x: x.fillna(x.value_counts().index[0]))\n",
    "valid['Utilities'] = valid['Utilities'].transform(lambda x: x.fillna(x.value_counts().index[0]))\n",
    "test['Utilities'] = test['Utilities'].transform(lambda x: x.fillna(x.value_counts().index[0]))\n",
    "\n",
    "train['Functional'] = train['Functional'].transform(lambda x: x.fillna(x.value_counts().index[0]))\n",
    "valid['Functional'] = valid['Functional'].transform(lambda x: x.fillna(x.value_counts().index[0]))\n",
    "test['Functional'] = test['Functional'].transform(lambda x: x.fillna(x.value_counts().index[0]))\n",
    "\n",
    "train['KitchenQual'] = train['KitchenQual'].transform(lambda x: x.fillna(x.value_counts().index[0]))\n",
    "valid['KitchenQual'] = valid['KitchenQual'].transform(lambda x: x.fillna(x.value_counts().index[0]))\n",
    "test['KitchenQual'] = test['KitchenQual'].transform(lambda x: x.fillna(x.value_counts().index[0]))\n",
    "\n",
    "# 'Exterior1st', 'Exterior2nd', 'SaleType' will replace with Other\n",
    "\n",
    "train['Exterior1st'] = train['Exterior1st'].fillna('Other')\n",
    "valid['Exterior1st'] = valid['Exterior1st'].fillna('Other')\n",
    "test['Exterior1st'] = test['Exterior1st'].fillna('Other')\n",
    "\n",
    "train['Exterior2nd'] = train['Exterior2nd'].fillna('Other')\n",
    "valid['Exterior2nd'] = valid['Exterior2nd'].fillna('Other')\n",
    "test['Exterior2nd'] = test['Exterior2nd'].fillna('Other')\n",
    "\n",
    "train['SaleType'] = train['SaleType'].fillna('Other')\n",
    "valid['SaleType'] = valid['SaleType'].fillna('Other')\n",
    "test['SaleType'] = test['SaleType'].fillna('Other')"
   ]
  },
  {
   "cell_type": "code",
   "execution_count": 47,
   "metadata": {},
   "outputs": [
    {
     "name": "stdout",
     "output_type": "stream",
     "text": [
      "Training # Cols with NaN = 0\n",
      "[]\n",
      "\n",
      "Validation # Cols with NaN = 0\n",
      "[]\n",
      "\n",
      "Testing # Cols with NaN = 0\n",
      "[]\n"
     ]
    }
   ],
   "source": [
    "# Confirm I have removed all NaNs\n",
    "\n",
    "trcols = train.columns[train.isna().any()].tolist()\n",
    "vacols = valid.columns[valid.isna().any()].tolist()\n",
    "tecols = test.columns[test.isna().any()].tolist()\n",
    "\n",
    "print('Training # Cols with NaN =', len(trcols))\n",
    "print(trcols)\n",
    "print()\n",
    "print('Validation # Cols with NaN =', len(vacols))\n",
    "print(vacols)\n",
    "print()\n",
    "print('Testing # Cols with NaN =', len(tecols))\n",
    "print(tecols)"
   ]
  },
  {
   "cell_type": "code",
   "execution_count": 56,
   "metadata": {
    "scrolled": false
   },
   "outputs": [
    {
     "data": {
      "text/plain": [
       "<matplotlib.axes._subplots.AxesSubplot at 0x19715184c50>"
      ]
     },
     "execution_count": 56,
     "metadata": {},
     "output_type": "execute_result"
    },
    {
     "data": {
      "image/png": "[encoded data removed]",
      "text/plain": [
       "<Figure size 3600x1080 with 2 Axes>"
      ]
     },
     "metadata": {},
     "output_type": "display_data"
    }
   ],
   "source": [
    "corrmat = train.corr()\n",
    "f, ax = plt.subplots(figsize=(50, 15))\n",
    "sns.heatmap(corrmat, vmax=0.8, square=True,center=0)"
   ]
  },
  {
   "cell_type": "code",
   "execution_count": null,
   "metadata": {},
   "outputs": [],
   "source": [
    "# Remove outliers based on housing price"
   ]
  },
  {
   "cell_type": "code",
   "execution_count": null,
   "metadata": {},
   "outputs": [],
   "source": [
    "# One-hot encoding of categorical variables"
   ]
  },
  {
   "cell_type": "code",
   "execution_count": null,
   "metadata": {},
   "outputs": [],
   "source": [
    "# Normalize home prices (log transform per notes)"
   ]
  },
  {
   "cell_type": "code",
   "execution_count": null,
   "metadata": {},
   "outputs": [],
   "source": [
    "# Encoding Categorical Variables: http://helios.mm.di.uoa.gr/~rouvas/ssi/sigkdd/sigkdd.vol3.1/barreca.pdf"
   ]
  },
  {
   "cell_type": "code",
   "execution_count": null,
   "metadata": {},
   "outputs": [],
   "source": [
    "# Attributes\n",
    "# https://storage.googleapis.com/kaggle-competitions-data/kaggle/5407/data_description.txt?GoogleAccessId=web-data@kaggle-161607.iam.gserviceaccount.com&Expires=1528663190&Signature=p78MJZCh4BpUig9U0qXM3PcGKdJeLXuqOzmBfqxO%2Fcit5iH1QRzYDMa8UKe0j5pCZE2jJyQQ32c4pPg4QVzEnS%2BYkXhTnqCxXOOcy%2BvVywsc084gXUfHiCT7T0llYHsthHDIOVyQE5zKYdvEuIfMnZFIk2l7AZNSRLD8ROLrnleVE%2FgGbOtsCZeBcGvT7e6iPp70%2Fnfw0oWJ7H9a9cieMPl9BVs1VymWyQZ%2FMKx%2BoY8qHcGocSyLxG9zXzd8yPMJd%2BOLzBsLwBB1NCnFMdjWYblQP%2B5QFE0FOh7peID8KbqqX1gjDuyCmrNkz%2BZzUcP9CfTGwRNiJLbfGvsxSlwdLQ%3D%3D"
   ]
  }
 ],
 "metadata": {
  "celltoolbar": "Raw Cell Format",
  "kernelspec": {
   "display_name": "Python 3",
   "language": "python",
   "name": "python3"
  },
  "language_info": {
   "codemirror_mode": {
    "name": "ipython",
    "version": 3
   },
   "file_extension": ".py",
   "mimetype": "text/x-python",
   "name": "python",
   "nbconvert_exporter": "python",
   "pygments_lexer": "ipython3",
   "version": "3.6.4"
  }
 },
 "nbformat": 4,
 "nbformat_minor": 2
}
