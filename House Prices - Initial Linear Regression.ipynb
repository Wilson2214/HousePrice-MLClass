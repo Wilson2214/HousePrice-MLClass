{
 "cells": [
  {
   "cell_type": "code",
   "execution_count": 1,
   "metadata": {},
   "outputs": [
    {
     "name": "stdout",
     "output_type": "stream",
     "text": [
      "Checking whether there is an H2O instance running at http://localhost:54321..... not found.\n",
      "Attempting to start a local H2O server...\n",
      "; OpenJDK 64-Bit Server VM (Zulu 8.20.0.5-win64) (build 25.121-b15, mixed mode)\n",
      "  Starting server from C:\\Users\\Davee\\Miniconda3\\lib\\site-packages\\h2o\\backend\\bin\\h2o.jar\n",
      "  Ice root: C:\\Users\\Davee\\AppData\\Local\\Temp\\tmpkzhewppr\n",
      "  JVM stdout: C:\\Users\\Davee\\AppData\\Local\\Temp\\tmpkzhewppr\\h2o_Davee_started_from_python.out\n",
      "  JVM stderr: C:\\Users\\Davee\\AppData\\Local\\Temp\\tmpkzhewppr\\h2o_Davee_started_from_python.err\n",
      "  Server is running at http://127.0.0.1:54321\n",
      "Connecting to H2O server at http://127.0.0.1:54321... successful.\n"
     ]
    },
    {
     "data": {
      "text/html": [
       "<div style=\"overflow:auto\"><table style=\"width:50%\"><tr><td>H2O cluster uptime:</td>\n",
       "<td>06 secs</td></tr>\n",
       "<tr><td>H2O cluster timezone:</td>\n",
       "<td>America/New_York</td></tr>\n",
       "<tr><td>H2O data parsing timezone:</td>\n",
       "<td>UTC</td></tr>\n",
       "<tr><td>H2O cluster version:</td>\n",
       "<td>3.18.0.11</td></tr>\n",
       "<tr><td>H2O cluster version age:</td>\n",
       "<td>28 days, 9 hours and 18 minutes </td></tr>\n",
       "<tr><td>H2O cluster name:</td>\n",
       "<td>H2O_from_python_Davee_qpytap</td></tr>\n",
       "<tr><td>H2O cluster total nodes:</td>\n",
       "<td>1</td></tr>\n",
       "<tr><td>H2O cluster free memory:</td>\n",
       "<td>1.747 Gb</td></tr>\n",
       "<tr><td>H2O cluster total cores:</td>\n",
       "<td>4</td></tr>\n",
       "<tr><td>H2O cluster allowed cores:</td>\n",
       "<td>4</td></tr>\n",
       "<tr><td>H2O cluster status:</td>\n",
       "<td>accepting new members, healthy</td></tr>\n",
       "<tr><td>H2O connection url:</td>\n",
       "<td>http://127.0.0.1:54321</td></tr>\n",
       "<tr><td>H2O connection proxy:</td>\n",
       "<td>None</td></tr>\n",
       "<tr><td>H2O internal security:</td>\n",
       "<td>False</td></tr>\n",
       "<tr><td>H2O API Extensions:</td>\n",
       "<td>Algos, AutoML, Core V3, Core V4</td></tr>\n",
       "<tr><td>Python version:</td>\n",
       "<td>3.6.4 final</td></tr></table></div>"
      ],
      "text/plain": [
       "--------------------------  -------------------------------\n",
       "H2O cluster uptime:         06 secs\n",
       "H2O cluster timezone:       America/New_York\n",
       "H2O data parsing timezone:  UTC\n",
       "H2O cluster version:        3.18.0.11\n",
       "H2O cluster version age:    28 days, 9 hours and 18 minutes\n",
       "H2O cluster name:           H2O_from_python_Davee_qpytap\n",
       "H2O cluster total nodes:    1\n",
       "H2O cluster free memory:    1.747 Gb\n",
       "H2O cluster total cores:    4\n",
       "H2O cluster allowed cores:  4\n",
       "H2O cluster status:         accepting new members, healthy\n",
       "H2O connection url:         http://127.0.0.1:54321\n",
       "H2O connection proxy:\n",
       "H2O internal security:      False\n",
       "H2O API Extensions:         Algos, AutoML, Core V3, Core V4\n",
       "Python version:             3.6.4 final\n",
       "--------------------------  -------------------------------"
      ]
     },
     "metadata": {},
     "output_type": "display_data"
    }
   ],
   "source": [
    "import pandas as pd\n",
    "import matplotlib.pyplot as plt\n",
    "import numpy as np\n",
    "import seaborn as sns\n",
    "\n",
    "import h2o\n",
    "from h2o.estimators.glm import H2OGeneralizedLinearEstimator\n",
    "from h2o.estimators.glrm import H2OGeneralizedLowRankEstimator\n",
    "from h2o.grid.grid_search import H2OGridSearch\n",
    "from h2o.estimators.gbm import H2OGradientBoostingEstimator \n",
    "from h2o.estimators.random_forest import H2ORandomForestEstimator\n",
    "from h2o.grid.grid_search import H2OGridSearch \n",
    "from h2o.estimators.xgboost import H2OXGBoostEstimator\n",
    "from h2o.estimators.stackedensemble import H2OStackedEnsembleEstimator\n",
    "import xgboost as xgb\n",
    "h2o.init()\n",
    "h2o.no_progress()"
   ]
  },
  {
   "cell_type": "code",
   "execution_count": 2,
   "metadata": {},
   "outputs": [
    {
     "data": {
      "text/html": [
       "<div>\n",
       "<style scoped>\n",
       "    .dataframe tbody tr th:only-of-type {\n",
       "        vertical-align: middle;\n",
       "    }\n",
       "\n",
       "    .dataframe tbody tr th {\n",
       "        vertical-align: top;\n",
       "    }\n",
       "\n",
       "    .dataframe thead th {\n",
       "        text-align: right;\n",
       "    }\n",
       "</style>\n",
       "<table border=\"1\" class=\"dataframe\">\n",
       "  <thead>\n",
       "    <tr style=\"text-align: right;\">\n",
       "      <th></th>\n",
       "      <th>Id</th>\n",
       "      <th>MSSubClass</th>\n",
       "      <th>MSZoning</th>\n",
       "      <th>LotFrontage</th>\n",
       "      <th>LotArea</th>\n",
       "      <th>Street</th>\n",
       "      <th>Alley</th>\n",
       "      <th>LotShape</th>\n",
       "      <th>LandContour</th>\n",
       "      <th>Utilities</th>\n",
       "      <th>...</th>\n",
       "      <th>PoolArea</th>\n",
       "      <th>PoolQC</th>\n",
       "      <th>Fence</th>\n",
       "      <th>MiscFeature</th>\n",
       "      <th>MiscVal</th>\n",
       "      <th>MoSold</th>\n",
       "      <th>YrSold</th>\n",
       "      <th>SaleType</th>\n",
       "      <th>SaleCondition</th>\n",
       "      <th>SalePrice</th>\n",
       "    </tr>\n",
       "  </thead>\n",
       "  <tbody>\n",
       "    <tr>\n",
       "      <th>0</th>\n",
       "      <td>1</td>\n",
       "      <td>60</td>\n",
       "      <td>RL</td>\n",
       "      <td>65.0</td>\n",
       "      <td>8450</td>\n",
       "      <td>Pave</td>\n",
       "      <td>NaN</td>\n",
       "      <td>Reg</td>\n",
       "      <td>Lvl</td>\n",
       "      <td>AllPub</td>\n",
       "      <td>...</td>\n",
       "      <td>0</td>\n",
       "      <td>NaN</td>\n",
       "      <td>NaN</td>\n",
       "      <td>NaN</td>\n",
       "      <td>0</td>\n",
       "      <td>2</td>\n",
       "      <td>2008</td>\n",
       "      <td>WD</td>\n",
       "      <td>Normal</td>\n",
       "      <td>208500</td>\n",
       "    </tr>\n",
       "    <tr>\n",
       "      <th>1</th>\n",
       "      <td>2</td>\n",
       "      <td>20</td>\n",
       "      <td>RL</td>\n",
       "      <td>80.0</td>\n",
       "      <td>9600</td>\n",
       "      <td>Pave</td>\n",
       "      <td>NaN</td>\n",
       "      <td>Reg</td>\n",
       "      <td>Lvl</td>\n",
       "      <td>AllPub</td>\n",
       "      <td>...</td>\n",
       "      <td>0</td>\n",
       "      <td>NaN</td>\n",
       "      <td>NaN</td>\n",
       "      <td>NaN</td>\n",
       "      <td>0</td>\n",
       "      <td>5</td>\n",
       "      <td>2007</td>\n",
       "      <td>WD</td>\n",
       "      <td>Normal</td>\n",
       "      <td>181500</td>\n",
       "    </tr>\n",
       "    <tr>\n",
       "      <th>2</th>\n",
       "      <td>3</td>\n",
       "      <td>60</td>\n",
       "      <td>RL</td>\n",
       "      <td>68.0</td>\n",
       "      <td>11250</td>\n",
       "      <td>Pave</td>\n",
       "      <td>NaN</td>\n",
       "      <td>IR1</td>\n",
       "      <td>Lvl</td>\n",
       "      <td>AllPub</td>\n",
       "      <td>...</td>\n",
       "      <td>0</td>\n",
       "      <td>NaN</td>\n",
       "      <td>NaN</td>\n",
       "      <td>NaN</td>\n",
       "      <td>0</td>\n",
       "      <td>9</td>\n",
       "      <td>2008</td>\n",
       "      <td>WD</td>\n",
       "      <td>Normal</td>\n",
       "      <td>223500</td>\n",
       "    </tr>\n",
       "    <tr>\n",
       "      <th>3</th>\n",
       "      <td>4</td>\n",
       "      <td>70</td>\n",
       "      <td>RL</td>\n",
       "      <td>60.0</td>\n",
       "      <td>9550</td>\n",
       "      <td>Pave</td>\n",
       "      <td>NaN</td>\n",
       "      <td>IR1</td>\n",
       "      <td>Lvl</td>\n",
       "      <td>AllPub</td>\n",
       "      <td>...</td>\n",
       "      <td>0</td>\n",
       "      <td>NaN</td>\n",
       "      <td>NaN</td>\n",
       "      <td>NaN</td>\n",
       "      <td>0</td>\n",
       "      <td>2</td>\n",
       "      <td>2006</td>\n",
       "      <td>WD</td>\n",
       "      <td>Abnorml</td>\n",
       "      <td>140000</td>\n",
       "    </tr>\n",
       "    <tr>\n",
       "      <th>4</th>\n",
       "      <td>5</td>\n",
       "      <td>60</td>\n",
       "      <td>RL</td>\n",
       "      <td>84.0</td>\n",
       "      <td>14260</td>\n",
       "      <td>Pave</td>\n",
       "      <td>NaN</td>\n",
       "      <td>IR1</td>\n",
       "      <td>Lvl</td>\n",
       "      <td>AllPub</td>\n",
       "      <td>...</td>\n",
       "      <td>0</td>\n",
       "      <td>NaN</td>\n",
       "      <td>NaN</td>\n",
       "      <td>NaN</td>\n",
       "      <td>0</td>\n",
       "      <td>12</td>\n",
       "      <td>2008</td>\n",
       "      <td>WD</td>\n",
       "      <td>Normal</td>\n",
       "      <td>250000</td>\n",
       "    </tr>\n",
       "  </tbody>\n",
       "</table>\n",
       "<p>5 rows × 81 columns</p>\n",
       "</div>"
      ],
      "text/plain": [
       "   Id  MSSubClass MSZoning  LotFrontage  LotArea Street Alley LotShape  \\\n",
       "0   1          60       RL         65.0     8450   Pave   NaN      Reg   \n",
       "1   2          20       RL         80.0     9600   Pave   NaN      Reg   \n",
       "2   3          60       RL         68.0    11250   Pave   NaN      IR1   \n",
       "3   4          70       RL         60.0     9550   Pave   NaN      IR1   \n",
       "4   5          60       RL         84.0    14260   Pave   NaN      IR1   \n",
       "\n",
       "  LandContour Utilities    ...     PoolArea PoolQC Fence MiscFeature MiscVal  \\\n",
       "0         Lvl    AllPub    ...            0    NaN   NaN         NaN       0   \n",
       "1         Lvl    AllPub    ...            0    NaN   NaN         NaN       0   \n",
       "2         Lvl    AllPub    ...            0    NaN   NaN         NaN       0   \n",
       "3         Lvl    AllPub    ...            0    NaN   NaN         NaN       0   \n",
       "4         Lvl    AllPub    ...            0    NaN   NaN         NaN       0   \n",
       "\n",
       "  MoSold YrSold  SaleType  SaleCondition  SalePrice  \n",
       "0      2   2008        WD         Normal     208500  \n",
       "1      5   2007        WD         Normal     181500  \n",
       "2      9   2008        WD         Normal     223500  \n",
       "3      2   2006        WD        Abnorml     140000  \n",
       "4     12   2008        WD         Normal     250000  \n",
       "\n",
       "[5 rows x 81 columns]"
      ]
     },
     "execution_count": 2,
     "metadata": {},
     "output_type": "execute_result"
    }
   ],
   "source": [
    "# Read data into a pandas dataframe\n",
    "train = pd.read_csv('train.csv')\n",
    "test = pd.read_csv('test.csv')\n",
    "train.head()"
   ]
  },
  {
   "cell_type": "code",
   "execution_count": 3,
   "metadata": {},
   "outputs": [],
   "source": [
    "# Use H2O to create training and validation sets before data pre-processing\n",
    "# Will now have three pandas data frames for test, training, and validation\n",
    "\n",
    "h2otrain = h2o.H2OFrame(train)\n",
    "h2otrain, h2ovalid = h2otrain.split_frame([0.7], seed=12345)\n",
    "train = h2otrain.as_data_frame()\n",
    "valid = h2ovalid.as_data_frame()"
   ]
  },
  {
   "cell_type": "code",
   "execution_count": 4,
   "metadata": {},
   "outputs": [],
   "source": [
    "# Categorical Values\n",
    "\n",
    "cat_train = train.select_dtypes(include=['object'])\n",
    "cat_valid = valid.select_dtypes(include=['object'])\n",
    "cat_test = test.select_dtypes(include=['object'])"
   ]
  },
  {
   "cell_type": "code",
   "execution_count": 5,
   "metadata": {},
   "outputs": [],
   "source": [
    "# Numerical Values\n",
    "\n",
    "num_train = train.select_dtypes(exclude=['object'])\n",
    "num_valid = valid.select_dtypes(exclude=['object'])\n",
    "num_test = test.select_dtypes(exclude=['object'])"
   ]
  },
  {
   "cell_type": "markdown",
   "metadata": {},
   "source": [
    "## Data Pre-Processing\n",
    "\n",
    "### Impute any NaN Values"
   ]
  },
  {
   "cell_type": "code",
   "execution_count": 6,
   "metadata": {},
   "outputs": [
    {
     "data": {
      "text/plain": [
       "<matplotlib.axes._subplots.AxesSubplot at 0x27157bc8550>"
      ]
     },
     "execution_count": 6,
     "metadata": {},
     "output_type": "execute_result"
    },
    {
     "data": {
      "image/png": "[encoded data removed]",
      "text/plain": [
       "<Figure size 432x288 with 1 Axes>"
      ]
     },
     "metadata": {},
     "output_type": "display_data"
    }
   ],
   "source": [
    "# Visualize Missing Values (both Numerical and Categorical)\n",
    "\n",
    "trainmissing = train.isnull().sum()\n",
    "trainmissing = trainmissing[trainmissing>0]\n",
    "\n",
    "trainmissing\n",
    "trainmissing.plot.bar()"
   ]
  },
  {
   "cell_type": "code",
   "execution_count": 7,
   "metadata": {},
   "outputs": [
    {
     "name": "stdout",
     "output_type": "stream",
     "text": [
      "Training # Cols with NaN = 3\n",
      "['LotFrontage', 'MasVnrArea', 'GarageYrBlt']\n",
      "\n",
      "Validation # Cols with NaN = 3\n",
      "['LotFrontage', 'MasVnrArea', 'GarageYrBlt']\n",
      "\n",
      "Testing # Cols with NaN = 11\n",
      "['LotFrontage', 'MasVnrArea', 'BsmtFinSF1', 'BsmtFinSF2', 'BsmtUnfSF', 'TotalBsmtSF', 'BsmtFullBath', 'BsmtHalfBath', 'GarageYrBlt', 'GarageCars', 'GarageArea']\n"
     ]
    }
   ],
   "source": [
    "# Numerical values I will impute NaN with the median (per professors code)\n",
    "# Determine which columns have NaN\n",
    "\n",
    "trcols = num_train.columns[num_train.isna().any()].tolist()\n",
    "vacols = num_valid.columns[num_valid.isna().any()].tolist()\n",
    "tecols = num_test.columns[num_test.isna().any()].tolist()\n",
    "\n",
    "# Impute the median value for LotFrontage and GarageYrBlt\n",
    "\n",
    "print('Training # Cols with NaN =', len(trcols))\n",
    "print(trcols)\n",
    "print()\n",
    "print('Validation # Cols with NaN =', len(vacols))\n",
    "print(vacols)\n",
    "print()\n",
    "print('Testing # Cols with NaN =', len(tecols))\n",
    "print(tecols)"
   ]
  },
  {
   "cell_type": "code",
   "execution_count": 8,
   "metadata": {},
   "outputs": [
    {
     "name": "stdout",
     "output_type": "stream",
     "text": [
      "Total Missing Values of LotFrontage in Training = 179\n"
     ]
    }
   ],
   "source": [
    "# Lot Frontage: Linear feet of street connected to property\n",
    "out1 = num_train['LotFrontage'].isna().sum()\n",
    "\n",
    "print('Total Missing Values of LotFrontage in Training =', out1)"
   ]
  },
  {
   "cell_type": "markdown",
   "metadata": {},
   "source": [
    "To impute the 179 missing values of LotFrontage, we can use the median of a related categorical factor. We looked at BldgType and MSZoning as we assumed both would relate to the linear feet of street connected to the property. Building type median seems to have the best correlation to LotFrontage and we will use it to impute our missing values"
   ]
  },
  {
   "cell_type": "code",
   "execution_count": 9,
   "metadata": {},
   "outputs": [
    {
     "data": {
      "image/png": "[encoded data removed]",
      "text/plain": [
       "<Figure size 432x288 with 1 Axes>"
      ]
     },
     "metadata": {},
     "output_type": "display_data"
    }
   ],
   "source": [
    "# This shows a bar plot of the median value per group with an error bar showing one standard deviation (to show variability)\n",
    "\n",
    "sns.barplot(data=train,x='BldgType',y='LotFrontage', estimator=np.median)\n",
    "plt.xticks(rotation=90)\n",
    "plt.show()"
   ]
  },
  {
   "cell_type": "code",
   "execution_count": 10,
   "metadata": {},
   "outputs": [
    {
     "data": {
      "image/png": "[encoded data removed]",
      "text/plain": [
       "<Figure size 432x288 with 1 Axes>"
      ]
     },
     "metadata": {},
     "output_type": "display_data"
    }
   ],
   "source": [
    "sns.barplot(data=train,x='MSZoning',y='LotFrontage', estimator=np.median)\n",
    "plt.xticks(rotation=90)\n",
    "plt.show()"
   ]
  },
  {
   "cell_type": "code",
   "execution_count": 11,
   "metadata": {},
   "outputs": [],
   "source": [
    "# Assistance in creating this formula\n",
    "# https://stackoverflow.com/questions/19966018/pandas-filling-missing-values-by-mean-in-each-group\n",
    "\n",
    "train['LotFrontage'] = train.groupby('BldgType')['LotFrontage'].transform(lambda x: x.fillna(x.median()))\n",
    "\n",
    "# Must also apply this to validation and testing data\n",
    "\n",
    "valid['LotFrontage'] = valid.groupby('BldgType')['LotFrontage'].transform(lambda x: x.fillna(x.median()))\n",
    "test['LotFrontage'] = test.groupby('BldgType')['LotFrontage'].transform(lambda x: x.fillna(x.median()))"
   ]
  },
  {
   "cell_type": "code",
   "execution_count": 12,
   "metadata": {},
   "outputs": [
    {
     "name": "stdout",
     "output_type": "stream",
     "text": [
      "Total Missing Values of MasVnrArea in Training = 7\n"
     ]
    }
   ],
   "source": [
    "# MasVnrArea: Masonry veneer area in square feet\n",
    "\n",
    "out2 = num_train['MasVnrArea'].isna().sum()\n",
    "\n",
    "print('Total Missing Values of MasVnrArea in Training =', out2)"
   ]
  },
  {
   "cell_type": "code",
   "execution_count": 13,
   "metadata": {},
   "outputs": [
    {
     "data": {
      "text/plain": [
       "163    NaN\n",
       "371    NaN\n",
       "446    NaN\n",
       "646    NaN\n",
       "672    NaN\n",
       "676    NaN\n",
       "855    NaN\n",
       "Name: MasVnrType, dtype: object"
      ]
     },
     "execution_count": 13,
     "metadata": {},
     "output_type": "execute_result"
    }
   ],
   "source": [
    "# These 7 missing values also have a missing veneer type\n",
    "\n",
    "vnr = train[num_train['MasVnrArea'].isna()]\n",
    "vnr['MasVnrType']"
   ]
  },
  {
   "cell_type": "code",
   "execution_count": 14,
   "metadata": {},
   "outputs": [],
   "source": [
    "# We can simply replace all missing values here with 0\n",
    "# Note, we also must do this for our validation and test data\n",
    "\n",
    "train['MasVnrArea'] = train['MasVnrArea'].fillna(0)\n",
    "valid['MasVnrArea'] = valid['MasVnrArea'].fillna(0)\n",
    "test['MasVnrArea'] = test['MasVnrArea'].fillna(0)"
   ]
  },
  {
   "cell_type": "code",
   "execution_count": 15,
   "metadata": {},
   "outputs": [
    {
     "name": "stdout",
     "output_type": "stream",
     "text": [
      "Total Missing Values of GarageYrBlt in Training = 48\n"
     ]
    },
    {
     "data": {
      "text/plain": [
       "28     NaN\n",
       "35     NaN\n",
       "55     NaN\n",
       "63     NaN\n",
       "64     NaN\n",
       "89     NaN\n",
       "98     NaN\n",
       "103    NaN\n",
       "108    NaN\n",
       "113    NaN\n",
       "115    NaN\n",
       "149    NaN\n",
       "166    NaN\n",
       "202    NaN\n",
       "269    NaN\n",
       "274    NaN\n",
       "309    NaN\n",
       "346    NaN\n",
       "370    NaN\n",
       "392    NaN\n",
       "408    NaN\n",
       "430    NaN\n",
       "439    NaN\n",
       "440    NaN\n",
       "508    NaN\n",
       "518    NaN\n",
       "567    NaN\n",
       "578    NaN\n",
       "636    NaN\n",
       "659    NaN\n",
       "669    NaN\n",
       "675    NaN\n",
       "700    NaN\n",
       "720    NaN\n",
       "762    NaN\n",
       "782    NaN\n",
       "807    NaN\n",
       "840    NaN\n",
       "841    NaN\n",
       "848    NaN\n",
       "867    NaN\n",
       "884    NaN\n",
       "909    NaN\n",
       "911    NaN\n",
       "919    NaN\n",
       "963    NaN\n",
       "994    NaN\n",
       "997    NaN\n",
       "Name: GarageType, dtype: object"
      ]
     },
     "execution_count": 15,
     "metadata": {},
     "output_type": "execute_result"
    }
   ],
   "source": [
    "# GarageYrBlt: Year garage was built\n",
    "out3 = num_train['GarageYrBlt'].isna().sum()\n",
    "\n",
    "print('Total Missing Values of GarageYrBlt in Training =', out3)\n",
    "\n",
    "garg = train[num_train['GarageYrBlt'].isna()]\n",
    "garg['GarageType']"
   ]
  },
  {
   "cell_type": "code",
   "execution_count": 16,
   "metadata": {},
   "outputs": [],
   "source": [
    "# Similar to before, these values all have a missing garage type meaning there is no garage and we can impute with 0\n",
    "# Problematically, you cannot simply assign a year to 0. For our purposes we will use the date in which the house was\n",
    "# built as the value for when the garage would have been built if there was a garage\n",
    "# Note, we also must do this for our validation and test data\n",
    "\n",
    "# train['GarageYrBlt'] = train['GarageYrBlt'].fillna(train['YearBuilt'])\n",
    "# valid['GarageYrBlt'] = valid['GarageYrBlt'].fillna(train['YearBuilt'])\n",
    "# test['GarageYrBlt'] = test['GarageYrBlt'].fillna(train['YearBuilt'])\n",
    "\n",
    "# Decided to change and use the median value of GarageYrBlt for these missing values\n",
    "\n",
    "train['GarageYrBlt'] = train['GarageYrBlt'].transform(lambda x: x.fillna(x.median()))\n",
    "valid['GarageYrBlt'] = valid['GarageYrBlt'].transform(lambda x: x.fillna(x.median()))\n",
    "test['GarageYrBlt'] = test['GarageYrBlt'].transform(lambda x: x.fillna(x.median()))"
   ]
  },
  {
   "cell_type": "code",
   "execution_count": 17,
   "metadata": {},
   "outputs": [],
   "source": [
    "# We will do the same for Garage Cars and Garage Area that are missing in our test data set\n",
    "# We cannot look at this data to determine if this is correct, but we must perform the actions based on our test data\n",
    "\n",
    "train['GarageCars'] = train['GarageCars'].fillna(0)\n",
    "valid['GarageCars'] = valid['GarageCars'].fillna(0)\n",
    "test['GarageCars'] = test['GarageCars'].fillna(0)\n",
    "\n",
    "train['GarageArea'] = train['GarageArea'].fillna(0)\n",
    "valid['GarageArea'] = valid['GarageArea'].fillna(0)\n",
    "test['GarageArea'] = test['GarageArea'].fillna(0)"
   ]
  },
  {
   "cell_type": "code",
   "execution_count": 18,
   "metadata": {},
   "outputs": [],
   "source": [
    "# Finally, although there are no missing values in the test set for items related to the basement of a home\n",
    "# our test data does have these issues. We will simply replace these missing values with zero assuming there is no\n",
    "# basement at this location\n",
    "# 'BsmtFinSF1', 'BsmtFinSF2', 'BsmtUnfSF', 'TotalBsmtSF', 'BsmtFullBath', 'BsmtHalfBath'\n",
    "\n",
    "train['BsmtFinSF1'] = train['BsmtFinSF1'].fillna(0)\n",
    "valid['BsmtFinSF1'] = valid['BsmtFinSF1'].fillna(0)\n",
    "test['BsmtFinSF1'] = test['BsmtFinSF1'].fillna(0)\n",
    "\n",
    "train['BsmtFinSF2'] = train['BsmtFinSF2'].fillna(0)\n",
    "valid['BsmtFinSF2'] = valid['BsmtFinSF2'].fillna(0)\n",
    "test['BsmtFinSF2'] = test['BsmtFinSF2'].fillna(0)\n",
    "\n",
    "train['BsmtUnfSF'] = train['BsmtUnfSF'].fillna(0)\n",
    "valid['BsmtUnfSF'] = valid['BsmtUnfSF'].fillna(0)\n",
    "test['BsmtUnfSF'] = test['BsmtUnfSF'].fillna(0)\n",
    "\n",
    "train['TotalBsmtSF'] = train['TotalBsmtSF'].fillna(0)\n",
    "valid['TotalBsmtSF'] = valid['TotalBsmtSF'].fillna(0)\n",
    "test['TotalBsmtSF'] = test['TotalBsmtSF'].fillna(0)\n",
    "\n",
    "train['BsmtFullBath'] = train['BsmtFullBath'].fillna(0)\n",
    "valid['BsmtFullBath'] = valid['BsmtFullBath'].fillna(0)\n",
    "test['BsmtFullBath'] = test['BsmtFullBath'].fillna(0)\n",
    "\n",
    "train['BsmtHalfBath'] = train['BsmtHalfBath'].fillna(0)\n",
    "valid['BsmtHalfBath'] = valid['BsmtHalfBath'].fillna(0)\n",
    "test['BsmtHalfBath'] = test['BsmtHalfBath'].fillna(0)"
   ]
  },
  {
   "cell_type": "code",
   "execution_count": 19,
   "metadata": {},
   "outputs": [
    {
     "name": "stdout",
     "output_type": "stream",
     "text": [
      "Training # Cols with NaN = 0\n",
      "[]\n",
      "\n",
      "Validation # Cols with NaN = 0\n",
      "[]\n",
      "\n",
      "Testing # Cols with NaN = 0\n",
      "[]\n"
     ]
    }
   ],
   "source": [
    "# Finally, we double check to make sure we have no more missing numerical values\n",
    "\n",
    "num_train = train.select_dtypes(exclude=['object'])\n",
    "num_valid = valid.select_dtypes(exclude=['object'])\n",
    "num_test = test.select_dtypes(exclude=['object'])\n",
    "\n",
    "trcols = num_train.columns[num_train.isna().any()].tolist()\n",
    "vacols = num_valid.columns[num_valid.isna().any()].tolist()\n",
    "tecols = num_test.columns[num_test.isna().any()].tolist()\n",
    "\n",
    "print('Training # Cols with NaN =', len(trcols))\n",
    "print(trcols)\n",
    "print()\n",
    "print('Validation # Cols with NaN =', len(vacols))\n",
    "print(vacols)\n",
    "print()\n",
    "print('Testing # Cols with NaN =', len(tecols))\n",
    "print(tecols)"
   ]
  },
  {
   "cell_type": "code",
   "execution_count": 20,
   "metadata": {},
   "outputs": [
    {
     "name": "stdout",
     "output_type": "stream",
     "text": [
      "Training # Cols with NaN = 16\n",
      "['Alley', 'MasVnrType', 'BsmtQual', 'BsmtCond', 'BsmtExposure', 'BsmtFinType1', 'BsmtFinType2', 'Electrical', 'FireplaceQu', 'GarageType', 'GarageFinish', 'GarageQual', 'GarageCond', 'PoolQC', 'Fence', 'MiscFeature']\n",
      "\n",
      "Validation # Cols with NaN = 15\n",
      "['Alley', 'MasVnrType', 'BsmtQual', 'BsmtCond', 'BsmtExposure', 'BsmtFinType1', 'BsmtFinType2', 'FireplaceQu', 'GarageType', 'GarageFinish', 'GarageQual', 'GarageCond', 'PoolQC', 'Fence', 'MiscFeature']\n",
      "\n",
      "Testing # Cols with NaN = 22\n",
      "['MSZoning', 'Alley', 'Utilities', 'Exterior1st', 'Exterior2nd', 'MasVnrType', 'BsmtQual', 'BsmtCond', 'BsmtExposure', 'BsmtFinType1', 'BsmtFinType2', 'KitchenQual', 'Functional', 'FireplaceQu', 'GarageType', 'GarageFinish', 'GarageQual', 'GarageCond', 'PoolQC', 'Fence', 'MiscFeature', 'SaleType']\n"
     ]
    }
   ],
   "source": [
    "# Categorial values we will have to do case by case\n",
    "# Start by determining which columns have NaN and what they should be replaced by\n",
    "# For example: If no basement, all basement related will be NaN but they should say No Basement...\n",
    "\n",
    "# Determine which columns have NaN\n",
    "\n",
    "trcols = cat_train.columns[cat_train.isna().any()].tolist()\n",
    "vacols = cat_valid.columns[cat_valid.isna().any()].tolist()\n",
    "tecols = cat_test.columns[cat_test.isna().any()].tolist()\n",
    "\n",
    "print('Training # Cols with NaN =', len(trcols))\n",
    "print(trcols)\n",
    "print()\n",
    "print('Validation # Cols with NaN =', len(vacols))\n",
    "print(vacols)\n",
    "print()\n",
    "print('Testing # Cols with NaN =', len(tecols))\n",
    "print(tecols)"
   ]
  },
  {
   "cell_type": "code",
   "execution_count": 21,
   "metadata": {},
   "outputs": [],
   "source": [
    "# Alley: Type of alley access to property where NA equals No Alley\n",
    "\n",
    "train['Alley'] = train['Alley'].fillna('NoAlley')\n",
    "valid['Alley'] = valid['Alley'].fillna('NoAlley')\n",
    "test['Alley'] = test['Alley'].fillna('NoAlley')"
   ]
  },
  {
   "cell_type": "code",
   "execution_count": 22,
   "metadata": {},
   "outputs": [],
   "source": [
    "# MasVnrType: Masonry veneer type where we will assume NA equals None\n",
    "\n",
    "train['MasVnrType'] = train['MasVnrType'].fillna('None')\n",
    "valid['MasVnrType'] = valid['MasVnrType'].fillna('None')\n",
    "test['MasVnrType'] = test['MasVnrType'].fillna('None')"
   ]
  },
  {
   "cell_type": "code",
   "execution_count": 23,
   "metadata": {},
   "outputs": [
    {
     "name": "stdout",
     "output_type": "stream",
     "text": [
      "Total Missing Values of Utilities in Training = 0\n"
     ]
    },
    {
     "data": {
      "text/plain": [
       "<matplotlib.axes._subplots.AxesSubplot at 0x27157e47f98>"
      ]
     },
     "execution_count": 23,
     "metadata": {},
     "output_type": "execute_result"
    },
    {
     "data": {
      "image/png": "[encoded data removed]",
      "text/plain": [
       "<Figure size 432x288 with 1 Axes>"
      ]
     },
     "metadata": {},
     "output_type": "display_data"
    }
   ],
   "source": [
    "# Utilities: Type of utilities available\n",
    "# There are no utility missing values in the training data, but we will replace this with all utilities available as\n",
    "# all properties in the test set have all utilities available\n",
    "\n",
    "out4 = cat_train['Utilities'].isna().sum()\n",
    "\n",
    "print('Total Missing Values of Utilities in Training =', out4)\n",
    "\n",
    "sns.countplot(x='Utilities', data=train)"
   ]
  },
  {
   "cell_type": "code",
   "execution_count": 24,
   "metadata": {},
   "outputs": [],
   "source": [
    "train['Utilities'] = train['Utilities'].fillna('AllPub')\n",
    "valid['Utilities'] = valid['Utilities'].fillna('AllPub')\n",
    "test['Utilities'] = test['Utilities'].fillna('AllPub')"
   ]
  },
  {
   "cell_type": "code",
   "execution_count": 25,
   "metadata": {},
   "outputs": [
    {
     "name": "stdout",
     "output_type": "stream",
     "text": [
      "Total Missing Values of Basement Quality in Training = 25\n"
     ]
    },
    {
     "data": {
      "text/plain": [
       "12     0\n",
       "28     0\n",
       "65     0\n",
       "72     0\n",
       "109    0\n",
       "128    0\n",
       "179    0\n",
       "235    0\n",
       "249    0\n",
       "255    0\n",
       "273    0\n",
       "385    0\n",
       "444    0\n",
       "517    0\n",
       "535    0\n",
       "614    0\n",
       "683    0\n",
       "717    0\n",
       "725    0\n",
       "728    0\n",
       "758    0\n",
       "838    0\n",
       "840    0\n",
       "847    0\n",
       "967    0\n",
       "Name: TotalBsmtSF, dtype: int64"
      ]
     },
     "execution_count": 25,
     "metadata": {},
     "output_type": "execute_result"
    }
   ],
   "source": [
    "# Similar to our numerical data, we will assume all basement related missing values means there is no basement\n",
    "# We confirm this below by looking at the numerical values about basements for those entries whose categorical basement values\n",
    "# contains an NaN\n",
    "\n",
    "out5 = cat_train['BsmtQual'].isna().sum()\n",
    "\n",
    "print('Total Missing Values of Basement Quality in Training =', out5)\n",
    "\n",
    "bsmt = train[cat_train['BsmtQual'].isna()]\n",
    "bsmt['TotalBsmtSF']"
   ]
  },
  {
   "cell_type": "code",
   "execution_count": 26,
   "metadata": {},
   "outputs": [],
   "source": [
    "# NoBasement is confirmed and can be replaced in our set\n",
    "# 'BsmtQual', 'BsmtCond', 'BsmtExposure', 'BsmtFinType1', 'BsmtFinType2'\n",
    "\n",
    "train['BsmtQual'] = train['BsmtQual'].fillna('NoBasement')\n",
    "valid['BsmtQual'] = valid['BsmtQual'].fillna('NoBasement')\n",
    "test['BsmtQual'] = test['BsmtQual'].fillna('NoBasement')\n",
    "\n",
    "train['BsmtCond'] = train['BsmtCond'].fillna('NoBasement')\n",
    "valid['BsmtCond'] = valid['BsmtCond'].fillna('NoBasement')\n",
    "test['BsmtCond'] = test['BsmtCond'].fillna('NoBasement')\n",
    "\n",
    "train['BsmtExposure'] = train['BsmtExposure'].fillna('NoBasement')\n",
    "valid['BsmtExposure'] = valid['BsmtExposure'].fillna('NoBasement')\n",
    "test['BsmtExposure'] = test['BsmtExposure'].fillna('NoBasement')\n",
    "\n",
    "train['BsmtFinType1'] = train['BsmtFinType1'].fillna('NoBasement')\n",
    "valid['BsmtFinType1'] = valid['BsmtFinType1'].fillna('NoBasement')\n",
    "test['BsmtFinType1'] = test['BsmtFinType1'].fillna('NoBasement')\n",
    "\n",
    "train['BsmtFinType2'] = train['BsmtFinType2'].fillna('NoBasement')\n",
    "valid['BsmtFinType2'] = valid['BsmtFinType2'].fillna('NoBasement')\n",
    "test['BsmtFinType2'] = test['BsmtFinType2'].fillna('NoBasement')"
   ]
  },
  {
   "cell_type": "code",
   "execution_count": 27,
   "metadata": {},
   "outputs": [
    {
     "name": "stdout",
     "output_type": "stream",
     "text": [
      "Total Missing Values of Electrical in Training = 1\n"
     ]
    },
    {
     "data": {
      "text/plain": [
       "<matplotlib.axes._subplots.AxesSubplot at 0x27157eb8a58>"
      ]
     },
     "execution_count": 27,
     "metadata": {},
     "output_type": "execute_result"
    },
    {
     "data": {
      "image/png": "[encoded data removed]",
      "text/plain": [
       "<Figure size 432x288 with 1 Axes>"
      ]
     },
     "metadata": {},
     "output_type": "display_data"
    }
   ],
   "source": [
    "# Electrical: Electrical system\n",
    "\n",
    "out6 = cat_train['Electrical'].isna().sum()\n",
    "\n",
    "print('Total Missing Values of Electrical in Training =', out6)\n",
    "\n",
    "elec = train[cat_train['Electrical'].isna()]\n",
    "elec\n",
    "\n",
    "sns.countplot(x='Electrical', data=train)"
   ]
  },
  {
   "cell_type": "code",
   "execution_count": 28,
   "metadata": {},
   "outputs": [],
   "source": [
    "# There is only one missing electrical value in the test data.\n",
    "# We will impute this and all others with a standard configuration as this is the most common configuration\n",
    "\n",
    "train['Electrical'] = train['Electrical'].fillna('SBrkr')\n",
    "valid['Electrical'] = valid['Electrical'].fillna('SBrkr')\n",
    "test['Electrical'] = test['Electrical'].fillna('SBrkr')"
   ]
  },
  {
   "cell_type": "code",
   "execution_count": 29,
   "metadata": {},
   "outputs": [
    {
     "name": "stdout",
     "output_type": "stream",
     "text": [
      "Total Missing Values of FireplaceQu in Training = 466\n"
     ]
    },
    {
     "data": {
      "text/plain": [
       "<matplotlib.axes._subplots.AxesSubplot at 0x27157f1b160>"
      ]
     },
     "execution_count": 29,
     "metadata": {},
     "output_type": "execute_result"
    },
    {
     "data": {
      "image/png": "[encoded data removed]",
      "text/plain": [
       "<Figure size 432x288 with 1 Axes>"
      ]
     },
     "metadata": {},
     "output_type": "display_data"
    }
   ],
   "source": [
    "# 'FireplaceQu': Fireplace quality\n",
    "\n",
    "out7 = cat_train['FireplaceQu'].isna().sum()\n",
    "\n",
    "print('Total Missing Values of FireplaceQu in Training =', out7)\n",
    "\n",
    "fire = train[cat_train['FireplaceQu'].isna()]\n",
    "\n",
    "sns.countplot(x='Fireplaces', data=fire)"
   ]
  },
  {
   "cell_type": "code",
   "execution_count": 30,
   "metadata": {},
   "outputs": [],
   "source": [
    "# As shown above, all missing fireplace quality values have 0 fireplaces\n",
    "\n",
    "train['FireplaceQu'] = train['FireplaceQu'].fillna('NoFire')\n",
    "valid['FireplaceQu'] = valid['FireplaceQu'].fillna('NoFire')\n",
    "test['FireplaceQu'] = test['FireplaceQu'].fillna('NoFire')"
   ]
  },
  {
   "cell_type": "code",
   "execution_count": 31,
   "metadata": {},
   "outputs": [
    {
     "name": "stdout",
     "output_type": "stream",
     "text": [
      "Total Missing Values of PoolQC in Training = 995\n"
     ]
    },
    {
     "data": {
      "text/plain": [
       "<matplotlib.axes._subplots.AxesSubplot at 0x27157f567f0>"
      ]
     },
     "execution_count": 31,
     "metadata": {},
     "output_type": "execute_result"
    },
    {
     "data": {
      "image/png": "[encoded data removed]",
      "text/plain": [
       "<Figure size 432x288 with 1 Axes>"
      ]
     },
     "metadata": {},
     "output_type": "display_data"
    }
   ],
   "source": [
    "# 'PoolQC'\n",
    "\n",
    "out8 = cat_train['PoolQC'].isna().sum()\n",
    "\n",
    "print('Total Missing Values of PoolQC in Training =', out8)\n",
    "\n",
    "pool = train[cat_train['PoolQC'].isna()]\n",
    "\n",
    "sns.countplot(x='PoolArea', data=pool)"
   ]
  },
  {
   "cell_type": "code",
   "execution_count": 32,
   "metadata": {},
   "outputs": [],
   "source": [
    "# As shown above, all missing pool quality values have 0 pools\n",
    "\n",
    "train['PoolQC'] = train['PoolQC'].fillna('NoPool')\n",
    "valid['PoolQC'] = valid['PoolQC'].fillna('NoPool')\n",
    "test['PoolQC'] = test['PoolQC'].fillna('NoPool')"
   ]
  },
  {
   "cell_type": "code",
   "execution_count": 33,
   "metadata": {},
   "outputs": [],
   "source": [
    "# 'Fence': Fence quality where NA equals no fence\n",
    "\n",
    "train['Fence'] = train['Fence'].fillna('NoFence')\n",
    "valid['Fence'] = valid['Fence'].fillna('NoFence')\n",
    "test['Fence'] = test['Fence'].fillna('NoFence')"
   ]
  },
  {
   "cell_type": "code",
   "execution_count": 34,
   "metadata": {},
   "outputs": [],
   "source": [
    "# 'MiscFeature': Miscellaneous feature not covered in other categories where NA equals None\n",
    "\n",
    "train['MiscFeature'] = train['MiscFeature'].fillna('NoMisc')\n",
    "valid['MiscFeature'] = valid['MiscFeature'].fillna('NoMisc')\n",
    "test['MiscFeature'] = test['MiscFeature'].fillna('NoMisc')"
   ]
  },
  {
   "cell_type": "code",
   "execution_count": 35,
   "metadata": {},
   "outputs": [
    {
     "name": "stdout",
     "output_type": "stream",
     "text": [
      "Total Missing Values of GarageType in Training = 48\n"
     ]
    },
    {
     "data": {
      "text/plain": [
       "28     0\n",
       "35     0\n",
       "55     0\n",
       "63     0\n",
       "64     0\n",
       "89     0\n",
       "98     0\n",
       "103    0\n",
       "108    0\n",
       "113    0\n",
       "115    0\n",
       "149    0\n",
       "166    0\n",
       "202    0\n",
       "269    0\n",
       "274    0\n",
       "309    0\n",
       "346    0\n",
       "370    0\n",
       "392    0\n",
       "408    0\n",
       "430    0\n",
       "439    0\n",
       "440    0\n",
       "508    0\n",
       "518    0\n",
       "567    0\n",
       "578    0\n",
       "636    0\n",
       "659    0\n",
       "669    0\n",
       "675    0\n",
       "700    0\n",
       "720    0\n",
       "762    0\n",
       "782    0\n",
       "807    0\n",
       "840    0\n",
       "841    0\n",
       "848    0\n",
       "867    0\n",
       "884    0\n",
       "909    0\n",
       "911    0\n",
       "919    0\n",
       "963    0\n",
       "994    0\n",
       "997    0\n",
       "Name: GarageArea, dtype: int64"
      ]
     },
     "execution_count": 35,
     "metadata": {},
     "output_type": "execute_result"
    }
   ],
   "source": [
    "# Similar to our numerical data, we will assume all garage related missing values means there is no garage\n",
    "# We confirm this below by looking at the numerical values about garages for those entries whose categorical garage values\n",
    "# contains an NaN\n",
    "\n",
    "out9 = cat_train['GarageType'].isna().sum()\n",
    "\n",
    "print('Total Missing Values of GarageType in Training =', out9)\n",
    "\n",
    "gara = train[cat_train['GarageType'].isna()]\n",
    "gara['GarageArea']"
   ]
  },
  {
   "cell_type": "code",
   "execution_count": 36,
   "metadata": {},
   "outputs": [],
   "source": [
    "# NoBasement is confirmed and can be replaced in our set\n",
    "# 'GarageType', 'GarageFinish', 'GarageQual', 'GarageCond'\n",
    "\n",
    "train['GarageType'] = train['GarageType'].fillna('NoGarage')\n",
    "valid['GarageType'] = valid['GarageType'].fillna('NoGarage')\n",
    "test['GarageType'] = test['GarageType'].fillna('NoGarage')\n",
    "\n",
    "train['GarageFinish'] = train['GarageFinish'].fillna('NoGarage')\n",
    "valid['GarageFinish'] = valid['GarageFinish'].fillna('NoGarage')\n",
    "test['GarageFinish'] = test['GarageFinish'].fillna('NoGarage')\n",
    "\n",
    "train['GarageQual'] = train['GarageQual'].fillna('NoGarage')\n",
    "valid['GarageQual'] = valid['GarageQual'].fillna('NoGarage')\n",
    "test['GarageQual'] = test['GarageQual'].fillna('NoGarage')\n",
    "\n",
    "train['GarageCond'] = train['GarageCond'].fillna('NoGarage')\n",
    "valid['GarageCond'] = valid['GarageCond'].fillna('NoGarage')\n",
    "test['GarageCond'] = test['GarageCond'].fillna('NoGarage')"
   ]
  },
  {
   "cell_type": "code",
   "execution_count": 37,
   "metadata": {},
   "outputs": [],
   "source": [
    "# These features were not missing in the Training data but were missing in the Test Data\n",
    "# 'MSZoning', 'Utilities', 'Exterior1st', 'Exterior2nd', 'KitchenQual', 'Functional', 'SaleType'\n",
    "\n",
    "# 'MSZoning', Utilities', 'Functional', 'KitchenQual' will replace with most frequent value\n",
    "\n",
    "train['MSZoning'] = train['MSZoning'].transform(lambda x: x.fillna(x.value_counts().index[0]))\n",
    "valid['MSZoning'] = valid['MSZoning'].transform(lambda x: x.fillna(x.value_counts().index[0]))\n",
    "test['MSZoning'] = test['MSZoning'].transform(lambda x: x.fillna(x.value_counts().index[0]))\n",
    "\n",
    "train['Utilities'] = train['Utilities'].transform(lambda x: x.fillna(x.value_counts().index[0]))\n",
    "valid['Utilities'] = valid['Utilities'].transform(lambda x: x.fillna(x.value_counts().index[0]))\n",
    "test['Utilities'] = test['Utilities'].transform(lambda x: x.fillna(x.value_counts().index[0]))\n",
    "\n",
    "train['Functional'] = train['Functional'].transform(lambda x: x.fillna(x.value_counts().index[0]))\n",
    "valid['Functional'] = valid['Functional'].transform(lambda x: x.fillna(x.value_counts().index[0]))\n",
    "test['Functional'] = test['Functional'].transform(lambda x: x.fillna(x.value_counts().index[0]))\n",
    "\n",
    "train['KitchenQual'] = train['KitchenQual'].transform(lambda x: x.fillna(x.value_counts().index[0]))\n",
    "valid['KitchenQual'] = valid['KitchenQual'].transform(lambda x: x.fillna(x.value_counts().index[0]))\n",
    "test['KitchenQual'] = test['KitchenQual'].transform(lambda x: x.fillna(x.value_counts().index[0]))\n",
    "\n",
    "# 'Exterior1st', 'Exterior2nd', 'SaleType' will replace with Other\n",
    "\n",
    "train['Exterior1st'] = train['Exterior1st'].fillna('Other')\n",
    "valid['Exterior1st'] = valid['Exterior1st'].fillna('Other')\n",
    "test['Exterior1st'] = test['Exterior1st'].fillna('Other')\n",
    "\n",
    "train['Exterior2nd'] = train['Exterior2nd'].fillna('Other')\n",
    "valid['Exterior2nd'] = valid['Exterior2nd'].fillna('Other')\n",
    "test['Exterior2nd'] = test['Exterior2nd'].fillna('Other')\n",
    "\n",
    "train['SaleType'] = train['SaleType'].fillna('Other')\n",
    "valid['SaleType'] = valid['SaleType'].fillna('Other')\n",
    "test['SaleType'] = test['SaleType'].fillna('Other')"
   ]
  },
  {
   "cell_type": "code",
   "execution_count": 38,
   "metadata": {},
   "outputs": [
    {
     "name": "stdout",
     "output_type": "stream",
     "text": [
      "Training # Cols with NaN = 0\n",
      "[]\n",
      "\n",
      "Validation # Cols with NaN = 0\n",
      "[]\n",
      "\n",
      "Testing # Cols with NaN = 0\n",
      "[]\n"
     ]
    }
   ],
   "source": [
    "# Confirm I have removed all NaNs\n",
    "\n",
    "trcols = train.columns[train.isna().any()].tolist()\n",
    "vacols = valid.columns[valid.isna().any()].tolist()\n",
    "tecols = test.columns[test.isna().any()].tolist()\n",
    "\n",
    "print('Training # Cols with NaN =', len(trcols))\n",
    "print(trcols)\n",
    "print()\n",
    "print('Validation # Cols with NaN =', len(vacols))\n",
    "print(vacols)\n",
    "print()\n",
    "print('Testing # Cols with NaN =', len(tecols))\n",
    "print(tecols)"
   ]
  },
  {
   "cell_type": "markdown",
   "metadata": {},
   "source": [
    "### Remove Outliers"
   ]
  },
  {
   "cell_type": "code",
   "execution_count": 39,
   "metadata": {},
   "outputs": [
    {
     "data": {
      "text/plain": [
       "['Id',\n",
       " 'MSSubClass',\n",
       " 'LotFrontage',\n",
       " 'LotArea',\n",
       " 'OverallQual',\n",
       " 'OverallCond',\n",
       " 'YearBuilt',\n",
       " 'YearRemodAdd',\n",
       " 'MasVnrArea',\n",
       " 'BsmtFinSF1',\n",
       " 'BsmtFinSF2',\n",
       " 'BsmtUnfSF',\n",
       " 'TotalBsmtSF',\n",
       " '1stFlrSF',\n",
       " '2ndFlrSF',\n",
       " 'LowQualFinSF',\n",
       " 'GrLivArea',\n",
       " 'BsmtFullBath',\n",
       " 'BsmtHalfBath',\n",
       " 'FullBath',\n",
       " 'HalfBath',\n",
       " 'BedroomAbvGr',\n",
       " 'KitchenAbvGr',\n",
       " 'TotRmsAbvGrd',\n",
       " 'Fireplaces',\n",
       " 'GarageYrBlt',\n",
       " 'GarageCars',\n",
       " 'GarageArea',\n",
       " 'WoodDeckSF',\n",
       " 'OpenPorchSF',\n",
       " 'EnclosedPorch',\n",
       " '3SsnPorch',\n",
       " 'ScreenPorch',\n",
       " 'PoolArea',\n",
       " 'MiscVal',\n",
       " 'MoSold',\n",
       " 'YrSold',\n",
       " 'SalePrice']"
      ]
     },
     "execution_count": 39,
     "metadata": {},
     "output_type": "execute_result"
    }
   ],
   "source": [
    "num_train = train.select_dtypes(exclude=['object'])\n",
    "trcols = num_train.columns.tolist()\n",
    "trcols"
   ]
  },
  {
   "cell_type": "code",
   "execution_count": 40,
   "metadata": {},
   "outputs": [
    {
     "data": {
      "text/plain": [
       "<seaborn.axisgrid.PairGrid at 0x27157df1588>"
      ]
     },
     "execution_count": 40,
     "metadata": {},
     "output_type": "execute_result"
    },
    {
     "data": {
      "image/png": "[encoded data removed]",
      "text/plain": [
       "<Figure size 900x180 with 5 Axes>"
      ]
     },
     "metadata": {},
     "output_type": "display_data"
    }
   ],
   "source": [
    "# Start by graphing all of the numerical values\n",
    "# Remove outliers based on housing price\n",
    "\n",
    "sns.pairplot(data=train,\n",
    "                  y_vars=['SalePrice'],\n",
    "                  x_vars=['MSSubClass', 'LotFrontage', 'LotArea', 'OverallQual', 'OverallCond'])"
   ]
  },
  {
   "cell_type": "code",
   "execution_count": 41,
   "metadata": {},
   "outputs": [
    {
     "data": {
      "text/plain": [
       "<seaborn.axisgrid.PairGrid at 0x2715800deb8>"
      ]
     },
     "execution_count": 41,
     "metadata": {},
     "output_type": "execute_result"
    },
    {
     "data": {
      "image/png": "[encoded data removed]",
      "text/plain": [
       "<Figure size 900x180 with 5 Axes>"
      ]
     },
     "metadata": {},
     "output_type": "display_data"
    }
   ],
   "source": [
    "sns.pairplot(data=train,\n",
    "                  y_vars=['SalePrice'],\n",
    "                  x_vars=['YearBuilt', 'YearRemodAdd', 'MasVnrArea', 'BsmtFinSF1', 'BsmtFinSF2'])"
   ]
  },
  {
   "cell_type": "code",
   "execution_count": 42,
   "metadata": {},
   "outputs": [
    {
     "data": {
      "text/plain": [
       "<seaborn.axisgrid.PairGrid at 0x27158038b70>"
      ]
     },
     "execution_count": 42,
     "metadata": {},
     "output_type": "execute_result"
    },
    {
     "data": {
      "image/png": "[encoded data removed]",
      "text/plain": [
       "<Figure size 900x180 with 5 Axes>"
      ]
     },
     "metadata": {},
     "output_type": "display_data"
    }
   ],
   "source": [
    "sns.pairplot(data=train,\n",
    "                  y_vars=['SalePrice'],\n",
    "                  x_vars=['BsmtUnfSF', 'TotalBsmtSF', '1stFlrSF', '2ndFlrSF', 'LowQualFinSF'])"
   ]
  },
  {
   "cell_type": "code",
   "execution_count": 43,
   "metadata": {},
   "outputs": [
    {
     "data": {
      "text/plain": [
       "<seaborn.axisgrid.PairGrid at 0x271592d4f28>"
      ]
     },
     "execution_count": 43,
     "metadata": {},
     "output_type": "execute_result"
    },
    {
     "data": {
      "image/png": "[encoded data removed]",
      "text/plain": [
       "<Figure size 900x180 with 5 Axes>"
      ]
     },
     "metadata": {},
     "output_type": "display_data"
    }
   ],
   "source": [
    "sns.pairplot(data=train,\n",
    "                  y_vars=['SalePrice'],\n",
    "                  x_vars=['GrLivArea', 'BsmtFullBath', 'BsmtHalfBath', 'FullBath', 'HalfBath'])"
   ]
  },
  {
   "cell_type": "code",
   "execution_count": 44,
   "metadata": {},
   "outputs": [
    {
     "data": {
      "text/plain": [
       "<seaborn.axisgrid.PairGrid at 0x2715943b5f8>"
      ]
     },
     "execution_count": 44,
     "metadata": {},
     "output_type": "execute_result"
    },
    {
     "data": {
      "image/png": "[encoded data removed]",
      "text/plain": [
       "<Figure size 900x180 with 5 Axes>"
      ]
     },
     "metadata": {},
     "output_type": "display_data"
    }
   ],
   "source": [
    "sns.pairplot(data=train,\n",
    "                  y_vars=['SalePrice'],\n",
    "                  x_vars=['BedroomAbvGr', 'KitchenAbvGr', 'TotRmsAbvGrd', 'Fireplaces', 'GarageYrBlt'])"
   ]
  },
  {
   "cell_type": "code",
   "execution_count": 45,
   "metadata": {},
   "outputs": [
    {
     "data": {
      "text/plain": [
       "<seaborn.axisgrid.PairGrid at 0x271595b5470>"
      ]
     },
     "execution_count": 45,
     "metadata": {},
     "output_type": "execute_result"
    },
    {
     "data": {
      "image/png": "[encoded data removed]",
      "text/plain": [
       "<Figure size 900x180 with 5 Axes>"
      ]
     },
     "metadata": {},
     "output_type": "display_data"
    }
   ],
   "source": [
    "sns.pairplot(data=train,\n",
    "                  y_vars=['SalePrice'],\n",
    "                  x_vars=['GarageCars', 'GarageArea', 'WoodDeckSF', 'OpenPorchSF', 'EnclosedPorch'])"
   ]
  },
  {
   "cell_type": "code",
   "execution_count": 46,
   "metadata": {},
   "outputs": [
    {
     "data": {
      "text/plain": [
       "<seaborn.axisgrid.PairGrid at 0x2715974a240>"
      ]
     },
     "execution_count": 46,
     "metadata": {},
     "output_type": "execute_result"
    },
    {
     "data": {
      "image/png": "[encoded data removed]",
      "text/plain": [
       "<Figure size 1080x180 with 6 Axes>"
      ]
     },
     "metadata": {},
     "output_type": "display_data"
    }
   ],
   "source": [
    "sns.pairplot(data=train,\n",
    "                  y_vars=['SalePrice'],\n",
    "                  x_vars=['3SsnPorch', 'ScreenPorch', 'PoolArea', 'MiscVal', 'MoSold', 'YrSold'])"
   ]
  },
  {
   "cell_type": "code",
   "execution_count": 47,
   "metadata": {},
   "outputs": [],
   "source": [
    "# Outliers are as follows (only removed from training data)\n",
    "# LotFrontage > 300, LotArea > 100000, BsmtFinSF1 > 4000, TotalBsmtSF > 4000, 1stFlrSF > 4000\n",
    "# GrLivArea > 4600, 3SsnPorch > 400, MiscVal > 10000\n",
    "\n",
    "train = train.drop(train[(train['LotFrontage']>300) |\n",
    "                         (train['LotArea']>100000) |\n",
    "                         (train['BsmtFinSF1']>4000) |\n",
    "                         (train['TotalBsmtSF']>4000) |\n",
    "                         (train['1stFlrSF']>4000) |\n",
    "                         (train['GrLivArea']>4600) |\n",
    "                         (train['3SsnPorch']>400) |\n",
    "                         (train['MiscVal']>10000)].index)\n",
    "\n",
    "valid = valid.drop(valid[(valid['LotFrontage']>300) |\n",
    "                         (valid['LotArea']>100000) |\n",
    "                         (valid['BsmtFinSF1']>4000) |\n",
    "                         (valid['TotalBsmtSF']>4000) |\n",
    "                         (valid['1stFlrSF']>4000) |\n",
    "                         (valid['GrLivArea']>4600) |\n",
    "                         (valid['3SsnPorch']>400) |\n",
    "                         (valid['MiscVal']>10000)].index)"
   ]
  },
  {
   "cell_type": "markdown",
   "metadata": {},
   "source": [
    "## Issues with Training and Validation Set\n",
    "After running model an initial time, a number of the test columns contained values not seen in the Test / Validation set. In order to fix this, we create a value 'Other' and impute those values with few entries."
   ]
  },
  {
   "cell_type": "code",
   "execution_count": 48,
   "metadata": {},
   "outputs": [
    {
     "data": {
      "text/plain": [
       "(array([ 0,  1,  2,  3,  4,  5,  6,  7,  8,  9, 10, 11, 12, 13, 14]),\n",
       " <a list of 15 Text xticklabel objects>)"
      ]
     },
     "execution_count": 48,
     "metadata": {},
     "output_type": "execute_result"
    },
    {
     "data": {
      "image/png": "[encoded data removed]",
      "text/plain": [
       "<Figure size 432x288 with 1 Axes>"
      ]
     },
     "metadata": {},
     "output_type": "display_data"
    }
   ],
   "source": [
    "# Test/Validation dataset column 'Exterior2nd' has levels not trained on: [CBlock]\n",
    "\n",
    "sns.countplot(x='Exterior2nd', data=train)\n",
    "plt.xticks(rotation=90)"
   ]
  },
  {
   "cell_type": "code",
   "execution_count": 49,
   "metadata": {},
   "outputs": [],
   "source": [
    "# Add value CBlock to Other in all three test sets\n",
    "\n",
    "train['Exterior2nd'] = train['Exterior2nd'].replace('CBlock', 'Other')\n",
    "valid['Exterior2nd'] = valid['Exterior2nd'].replace('CBlock', 'Other')\n",
    "test['Exterior2nd'] = test['Exterior2nd'].replace('CBlock', 'Other')"
   ]
  },
  {
   "cell_type": "code",
   "execution_count": 50,
   "metadata": {},
   "outputs": [
    {
     "data": {
      "text/plain": [
       "(array([ 0,  1,  2,  3,  4,  5,  6,  7,  8,  9, 10, 11, 12]),\n",
       " <a list of 13 Text xticklabel objects>)"
      ]
     },
     "execution_count": 50,
     "metadata": {},
     "output_type": "execute_result"
    },
    {
     "data": {
      "image/png": "[encoded data removed]",
      "text/plain": [
       "<Figure size 432x288 with 1 Axes>"
      ]
     },
     "metadata": {},
     "output_type": "display_data"
    }
   ],
   "source": [
    "# Test/Validation dataset column 'Exterior1st' has levels not trained on: [AsphShn, CBlock]\n",
    "# Test/Validation dataset column 'Exterior1st' has levels not trained on: [AsphShn, CBlock, Other]\n",
    "\n",
    "sns.countplot(x='Exterior1st', data=train)\n",
    "plt.xticks(rotation=90)"
   ]
  },
  {
   "cell_type": "code",
   "execution_count": 51,
   "metadata": {},
   "outputs": [],
   "source": [
    "train['Exterior1st'] = train['Exterior1st'].replace(['AsphShn', 'CBlock','ImStucc'], 'Other')\n",
    "valid['Exterior1st'] = valid['Exterior1st'].replace(['AsphShn', 'CBlock','ImStucc'], 'Other')\n",
    "test['Exterior1st'] = test['Exterior1st'].replace(['AsphShn', 'CBlock','ImStucc'], 'Other')"
   ]
  },
  {
   "cell_type": "code",
   "execution_count": 52,
   "metadata": {},
   "outputs": [
    {
     "data": {
      "text/plain": [
       "(array([0, 1, 2, 3, 4, 5, 6, 7]), <a list of 8 Text xticklabel objects>)"
      ]
     },
     "execution_count": 52,
     "metadata": {},
     "output_type": "execute_result"
    },
    {
     "data": {
      "image/png": "[encoded data removed]",
      "text/plain": [
       "<Figure size 432x288 with 1 Axes>"
      ]
     },
     "metadata": {},
     "output_type": "display_data"
    }
   ],
   "source": [
    "# Test/Validation dataset column 'Condition1' has levels not trained on: [RRNe]\n",
    "\n",
    "sns.countplot(x='Condition1', data=train)\n",
    "plt.xticks(rotation=90)"
   ]
  },
  {
   "cell_type": "code",
   "execution_count": 53,
   "metadata": {},
   "outputs": [],
   "source": [
    "train['Condition1'] = train['Condition1'].replace(['RRNn','RRNe'], 'Other')\n",
    "valid['Condition1'] = valid['Condition1'].replace(['RRNn','RRNe'], 'Other')\n",
    "test['Condition1'] = test['Condition1'].replace(['RRNn','RRNe'], 'Other')"
   ]
  },
  {
   "cell_type": "code",
   "execution_count": 54,
   "metadata": {},
   "outputs": [
    {
     "data": {
      "text/plain": [
       "(array([0, 1, 2, 3, 4, 5]), <a list of 6 Text xticklabel objects>)"
      ]
     },
     "execution_count": 54,
     "metadata": {},
     "output_type": "execute_result"
    },
    {
     "data": {
      "image/png": "[encoded data removed]",
      "text/plain": [
       "<Figure size 432x288 with 1 Axes>"
      ]
     },
     "metadata": {},
     "output_type": "display_data"
    }
   ],
   "source": [
    "# Test/Validation dataset column 'Condition2' has levels not trained on: [PosA, RRAe]\n",
    "# Test/Validation dataset column 'Condition2' has levels not trained on: [PosA]\n",
    "\n",
    "sns.countplot(x='Condition2', data=train)\n",
    "plt.xticks(rotation=90)"
   ]
  },
  {
   "cell_type": "code",
   "execution_count": 55,
   "metadata": {},
   "outputs": [],
   "source": [
    "train['Condition2'] = train['Condition2'].replace(['PosA','RRAe','RRNn'], 'Other')\n",
    "valid['Condition2'] = valid['Condition2'].replace(['PosA','RRAe','RRNn'], 'Other')\n",
    "test['Condition2'] = test['Condition2'].replace(['PosA','RRAe','RRNn'], 'Other')"
   ]
  },
  {
   "cell_type": "code",
   "execution_count": 56,
   "metadata": {},
   "outputs": [
    {
     "data": {
      "text/plain": [
       "(array([0, 1, 2, 3, 4]), <a list of 5 Text xticklabel objects>)"
      ]
     },
     "execution_count": 56,
     "metadata": {},
     "output_type": "execute_result"
    },
    {
     "data": {
      "image/png": "[encoded data removed]",
      "text/plain": [
       "<Figure size 432x288 with 1 Axes>"
      ]
     },
     "metadata": {},
     "output_type": "display_data"
    }
   ],
   "source": [
    "# Test/Validation dataset column 'Heating' has levels not trained on: [Floor]\n",
    "\n",
    "sns.countplot(x='Heating', data=train)\n",
    "plt.xticks(rotation=90)"
   ]
  },
  {
   "cell_type": "code",
   "execution_count": 57,
   "metadata": {},
   "outputs": [],
   "source": [
    "train['Heating'] = train['Heating'].replace(['Floor'], 'OthW')\n",
    "valid['Heating'] = valid['Heating'].replace(['Floor'], 'OthW')\n",
    "test['Heating'] = test['Heating'].replace(['Floor'], 'OthW')"
   ]
  },
  {
   "cell_type": "code",
   "execution_count": 58,
   "metadata": {},
   "outputs": [
    {
     "data": {
      "text/plain": [
       "(array([0, 1, 2]), <a list of 3 Text xticklabel objects>)"
      ]
     },
     "execution_count": 58,
     "metadata": {},
     "output_type": "execute_result"
    },
    {
     "data": {
      "image/png": "[encoded data removed]",
      "text/plain": [
       "<Figure size 432x288 with 1 Axes>"
      ]
     },
     "metadata": {},
     "output_type": "display_data"
    }
   ],
   "source": [
    "# Test/Validation dataset column 'ExterCond' has levels not trained on: [Ex, Po]\n",
    "\n",
    "sns.countplot(x='ExterCond', data=train)\n",
    "plt.xticks(rotation=90)"
   ]
  },
  {
   "cell_type": "code",
   "execution_count": 59,
   "metadata": {},
   "outputs": [],
   "source": [
    "train['ExterCond'] = train['ExterCond'].replace(['Ex','Po','Fa'], 'Other')\n",
    "valid['ExterCond'] = valid['ExterCond'].replace(['Ex','Po','Fa'], 'Other')\n",
    "test['ExterCond'] = test['ExterCond'].replace(['Ex','Po','Fa'], 'Other')"
   ]
  },
  {
   "cell_type": "code",
   "execution_count": 60,
   "metadata": {},
   "outputs": [
    {
     "data": {
      "text/plain": [
       "(array([0, 1, 2, 3, 4, 5, 6, 7, 8]), <a list of 9 Text xticklabel objects>)"
      ]
     },
     "execution_count": 60,
     "metadata": {},
     "output_type": "execute_result"
    },
    {
     "data": {
      "image/png": "[encoded data removed]",
      "text/plain": [
       "<Figure size 432x288 with 1 Axes>"
      ]
     },
     "metadata": {},
     "output_type": "display_data"
    }
   ],
   "source": [
    "# Test/Validation dataset column 'SaleType' has levels not trained on: [Other]\n",
    "\n",
    "sns.countplot(x='SaleType', data=train)\n",
    "plt.xticks(rotation=90)"
   ]
  },
  {
   "cell_type": "code",
   "execution_count": 61,
   "metadata": {},
   "outputs": [],
   "source": [
    "train['SaleType'] = train['SaleType'].replace('Other', 'Oth')\n",
    "valid['SaleType'] = valid['SaleType'].replace('Other', 'Oth')\n",
    "test['SaleType'] = test['SaleType'].replace('Other', 'Oth')"
   ]
  },
  {
   "cell_type": "code",
   "execution_count": 62,
   "metadata": {},
   "outputs": [
    {
     "data": {
      "text/plain": [
       "(array([0, 1, 2, 3]), <a list of 4 Text xticklabel objects>)"
      ]
     },
     "execution_count": 62,
     "metadata": {},
     "output_type": "execute_result"
    },
    {
     "data": {
      "image/png": "[encoded data removed]",
      "text/plain": [
       "<Figure size 432x288 with 1 Axes>"
      ]
     },
     "metadata": {},
     "output_type": "display_data"
    }
   ],
   "source": [
    "# Test/Validation dataset column 'HeatingQC' has levels not trained on: [Po]\n",
    "\n",
    "sns.countplot(x='HeatingQC', data=train)\n",
    "plt.xticks(rotation=90)"
   ]
  },
  {
   "cell_type": "code",
   "execution_count": 63,
   "metadata": {},
   "outputs": [],
   "source": [
    "train['HeatingQC'] = train['HeatingQC'].replace(['Po','Fa'], 'Other')\n",
    "valid['HeatingQC'] = valid['HeatingQC'].replace(['Po','Fa'], 'Other')\n",
    "test['HeatingQC'] = test['HeatingQC'].replace(['Po','Fa'], 'Other')"
   ]
  },
  {
   "cell_type": "code",
   "execution_count": 64,
   "metadata": {},
   "outputs": [
    {
     "data": {
      "text/plain": [
       "(array([0, 1, 2, 3]), <a list of 4 Text xticklabel objects>)"
      ]
     },
     "execution_count": 64,
     "metadata": {},
     "output_type": "execute_result"
    },
    {
     "data": {
      "image/png": "[encoded data removed]",
      "text/plain": [
       "<Figure size 432x288 with 1 Axes>"
      ]
     },
     "metadata": {},
     "output_type": "display_data"
    }
   ],
   "source": [
    "# Test/Validation dataset column 'MiscFeature' has levels not trained on: [Gar2]\n",
    "\n",
    "sns.countplot(x='MiscFeature', data=train)\n",
    "plt.xticks(rotation=90)"
   ]
  },
  {
   "cell_type": "code",
   "execution_count": 65,
   "metadata": {},
   "outputs": [],
   "source": [
    "train['MiscFeature'] = train['MiscFeature'].replace('Gar2', 'Othr')\n",
    "valid['MiscFeature'] = valid['MiscFeature'].replace('Gar2', 'Othr')\n",
    "test['MiscFeature'] = test['MiscFeature'].replace('Gar2', 'Othr')"
   ]
  },
  {
   "cell_type": "markdown",
   "metadata": {},
   "source": [
    "### Normalize home prices (log transform per notes)"
   ]
  },
  {
   "cell_type": "code",
   "execution_count": 66,
   "metadata": {},
   "outputs": [
    {
     "name": "stderr",
     "output_type": "stream",
     "text": [
      "C:\\Users\\Davee\\Miniconda3\\lib\\site-packages\\matplotlib\\axes\\_axes.py:6462: UserWarning: The 'normed' kwarg is deprecated, and has been replaced by the 'density' kwarg.\n",
      "  warnings.warn(\"The 'normed' kwarg is deprecated, and has been \"\n"
     ]
    },
    {
     "data": {
      "text/plain": [
       "<matplotlib.axes._subplots.AxesSubplot at 0x2715ac7ea90>"
      ]
     },
     "execution_count": 66,
     "metadata": {},
     "output_type": "execute_result"
    },
    {
     "data": {
      "image/png": "[encoded data removed]",
      "text/plain": [
       "<Figure size 432x288 with 1 Axes>"
      ]
     },
     "metadata": {},
     "output_type": "display_data"
    }
   ],
   "source": [
    "sns.distplot(train['SalePrice'])"
   ]
  },
  {
   "cell_type": "code",
   "execution_count": 67,
   "metadata": {},
   "outputs": [],
   "source": [
    "# Apply log transform\n",
    "train[\"SalePrice\"] = train[\"SalePrice\"].apply(np.log)\n",
    "valid[\"SalePrice\"] = valid[\"SalePrice\"].apply(np.log)"
   ]
  },
  {
   "cell_type": "code",
   "execution_count": 68,
   "metadata": {},
   "outputs": [
    {
     "name": "stderr",
     "output_type": "stream",
     "text": [
      "C:\\Users\\Davee\\Miniconda3\\lib\\site-packages\\matplotlib\\axes\\_axes.py:6462: UserWarning: The 'normed' kwarg is deprecated, and has been replaced by the 'density' kwarg.\n",
      "  warnings.warn(\"The 'normed' kwarg is deprecated, and has been \"\n"
     ]
    },
    {
     "data": {
      "text/plain": [
       "<matplotlib.axes._subplots.AxesSubplot at 0x2715adaebe0>"
      ]
     },
     "execution_count": 68,
     "metadata": {},
     "output_type": "execute_result"
    },
    {
     "data": {
      "image/png": "[encoded data removed]",
      "text/plain": [
       "<Figure size 432x288 with 1 Axes>"
      ]
     },
     "metadata": {},
     "output_type": "display_data"
    }
   ],
   "source": [
    "# Normalized data\n",
    "sns.distplot(train['SalePrice'])"
   ]
  },
  {
   "cell_type": "markdown",
   "metadata": {},
   "source": [
    "### One-Hot Encoding of Categorical Variables"
   ]
  },
  {
   "cell_type": "code",
   "execution_count": 69,
   "metadata": {},
   "outputs": [],
   "source": [
    "# Need to re-initialize my categorical dataframes with updated / imputed information\n",
    "\n",
    "cat_train = train.select_dtypes(include=['object'])\n",
    "cat_valid = valid.select_dtypes(include=['object'])\n",
    "cat_test = test.select_dtypes(include=['object'])"
   ]
  },
  {
   "cell_type": "code",
   "execution_count": 70,
   "metadata": {},
   "outputs": [
    {
     "name": "stdout",
     "output_type": "stream",
     "text": [
      "(993, 232)\n",
      "(457, 232)\n",
      "True\n",
      "(993, 228)\n",
      "(457, 228)\n",
      "True\n",
      "(993, 228)\n",
      "(457, 228)\n",
      "(1459, 228)\n",
      "True\n"
     ]
    }
   ],
   "source": [
    "# Taken directly from professor's code\n",
    "\n",
    "# one-hot encode training frame\n",
    "train_cats_df = cat_train\n",
    "train_cats_df_dummies = pd.get_dummies(train_cats_df)\n",
    "\n",
    "# one-hot encode validation frame\n",
    "valid_cats_df = cat_valid\n",
    "valid_cats_df_dummies = pd.get_dummies(valid_cats_df)\n",
    "\n",
    "# keep only the same new columns in the encoded new frames\n",
    "# (they different b/c of different levels in variables)\n",
    "train_diff_cols = list(set(train_cats_df_dummies.columns) - set(valid_cats_df_dummies.columns))\n",
    "valid_diff_cols = list(set(valid_cats_df_dummies.columns) - set(train_cats_df_dummies.columns))\n",
    "train_cats_df_dummies.drop(train_diff_cols, axis=1, inplace=True)\n",
    "valid_cats_df_dummies.drop(valid_diff_cols, axis=1, inplace=True)\n",
    "\n",
    "# check that columns are actually the same in both frames\n",
    "print(train_cats_df_dummies.shape)\n",
    "print(valid_cats_df_dummies.shape)\n",
    "print(all(train_cats_df_dummies.columns == valid_cats_df_dummies.columns))\n",
    "\n",
    "# one-hot encode test frame\n",
    "test_cats_df = cat_test\n",
    "test_cats_df_dummies = pd.get_dummies(test_cats_df)\n",
    "\n",
    "# keep only the same new columns in train and valid encoded frames\n",
    "# (they different b/c of different levels in variables)\n",
    "# remove columns in train and valid encoded frames not in encoded test frame\n",
    "# remember encoded train and valid now have same columns\n",
    "# so only need to check for train OR valid, not both\n",
    "train_diff_cols = list(set(train_cats_df_dummies.columns) - set(test_cats_df_dummies.columns))\n",
    "train_cats_df_dummies.drop(train_diff_cols, axis=1, inplace=True)\n",
    "valid_cats_df_dummies.drop(train_diff_cols, axis=1, inplace=True)\n",
    "\n",
    "# check that columns are actually the same in encoded train and valid frames\n",
    "print(train_cats_df_dummies.shape)\n",
    "print(valid_cats_df_dummies.shape)\n",
    "print(all(train_cats_df_dummies.columns == valid_cats_df_dummies.columns))\n",
    "\n",
    "# now remove columns in encoded test not in encoded train and valid\n",
    "# (they different b/c of different levels in variables)\n",
    "train_diff_cols = list(set(test_cats_df_dummies.columns) - set(train_cats_df_dummies.columns))\n",
    "test_cats_df_dummies.drop(train_diff_cols, axis=1, inplace=True)\n",
    "\n",
    "# check that columns are actually the same in all encoded frames\n",
    "print(train_cats_df_dummies.shape)\n",
    "print(valid_cats_df_dummies.shape)\n",
    "print(test_cats_df_dummies.shape)\n",
    "print(all(train_cats_df_dummies.columns == valid_cats_df_dummies.columns) and all(valid_cats_df_dummies.columns == test_cats_df_dummies.columns))"
   ]
  },
  {
   "cell_type": "code",
   "execution_count": 71,
   "metadata": {},
   "outputs": [],
   "source": [
    "# convert back to h2o to combine\n",
    "train_one_hot = h2o.H2OFrame(train_cats_df_dummies.as_matrix())\n",
    "train_one_hot.columns = list(train_cats_df_dummies.columns)\n",
    "train = h2o.H2OFrame(train)\n",
    "train = train.cbind(train_one_hot)\n",
    "\n",
    "valid_one_hot = h2o.H2OFrame(valid_cats_df_dummies.as_matrix())\n",
    "valid_one_hot.columns = list(valid_cats_df_dummies.columns)\n",
    "valid = h2o.H2OFrame(valid)\n",
    "valid = valid.cbind(valid_one_hot)\n",
    "\n",
    "test_one_hot = h2o.H2OFrame(test_cats_df_dummies.as_matrix())\n",
    "test_one_hot.columns = list(test_cats_df_dummies.columns)\n",
    "test = h2o.H2OFrame(test)\n",
    "test = test.cbind(test_one_hot)"
   ]
  },
  {
   "cell_type": "code",
   "execution_count": 72,
   "metadata": {},
   "outputs": [],
   "source": [
    "# Convert back to Pandas\n",
    "\n",
    "trainside = train.as_data_frame()\n",
    "validside = valid.as_data_frame()\n",
    "testside = test.as_data_frame()\n",
    "\n",
    "# Create only numeric\n",
    "\n",
    "num_train_fin = trainside.select_dtypes(exclude=['object'])\n",
    "num_valid_fin = validside.select_dtypes(exclude=['object'])\n",
    "num_test_fin = testside.select_dtypes(exclude=['object'])\n",
    "\n",
    "# Convert back to h2o\n",
    "\n",
    "num_train_fin = h2o.H2OFrame(num_train_fin)\n",
    "num_valid_fin = h2o.H2OFrame(num_valid_fin)\n",
    "num_test_fin = h2o.H2OFrame(num_test_fin)\n",
    "\n",
    "# Now we have two sets in H2O, all columns and numeric only"
   ]
  },
  {
   "cell_type": "code",
   "execution_count": 73,
   "metadata": {
    "scrolled": false
   },
   "outputs": [],
   "source": [
    "# Decided to simply use all columns in training\n",
    "# Using the heat map in this code, we could have worked on variable selection\n",
    "\n",
    "# corrmat = train.corr()\n",
    "# f, ax = plt.subplots(figsize=(50, 15))\n",
    "# sns.heatmap(corrmat, vmax=0.8, square=True,center=0)"
   ]
  },
  {
   "cell_type": "code",
   "execution_count": 74,
   "metadata": {},
   "outputs": [],
   "source": [
    "# Encoding Categorical Variables: http://helios.mm.di.uoa.gr/~rouvas/ssi/sigkdd/sigkdd.vol3.1/barreca.pdf\n",
    "\n",
    "# This is an option to try later on"
   ]
  },
  {
   "cell_type": "code",
   "execution_count": 75,
   "metadata": {},
   "outputs": [],
   "source": [
    "# Can also try the combined features from professor's code"
   ]
  },
  {
   "cell_type": "markdown",
   "metadata": {},
   "source": [
    "## Perform Analysis"
   ]
  },
  {
   "cell_type": "markdown",
   "metadata": {},
   "source": [
    "### Define GLM Model with Grid Search (per professor's code)"
   ]
  },
  {
   "cell_type": "code",
   "execution_count": 76,
   "metadata": {},
   "outputs": [],
   "source": [
    "def  glm_grid(X, y, train, valid):\n",
    "    \n",
    "    \"\"\" Wrapper function for penalized GLM with alpha and lambda search.\n",
    "    \n",
    "    :param X: List of inputs.\n",
    "    :param y: Name of target variable.\n",
    "    :param train: Name of training H2OFrame.\n",
    "    :param valid: Name of validation H2OFrame.\n",
    "    :return: Best H2Omodel from H2OGeneralizedLinearEstimator\n",
    "\n",
    "    \"\"\"\n",
    "    \n",
    "    alpha_opts = [0.01, 0.25, 0.5, 0.99] # always keep some L2\n",
    "    hyper_parameters = {'alpha': alpha_opts}\n",
    "\n",
    "    # initialize grid search\n",
    "    grid = H2OGridSearch(\n",
    "        H2OGeneralizedLinearEstimator(\n",
    "            family=\"gaussian\",\n",
    "            lambda_search=True,\n",
    "            seed=12345),\n",
    "        hyper_params=hyper_parameters)\n",
    "    \n",
    "    # train grid\n",
    "    grid.train(y=y,\n",
    "               x=X, \n",
    "               training_frame=train,\n",
    "               validation_frame=valid)\n",
    "\n",
    "    # show grid search results\n",
    "    print(grid.show())\n",
    "\n",
    "    best = grid.get_grid()[0]\n",
    "    print(best)\n",
    "    \n",
    "    # plot top frame values\n",
    "    yhat_frame = valid.cbind(best.predict(valid))\n",
    "    print(yhat_frame[0:10, [y, 'predict']])\n",
    "\n",
    "    # plot sorted predictions\n",
    "    yhat_frame_df = yhat_frame[[y, 'predict']].as_data_frame()\n",
    "    yhat_frame_df.sort_values(by='predict', inplace=True)\n",
    "    yhat_frame_df.reset_index(inplace=True, drop=True)\n",
    "    _ = yhat_frame_df.plot(title='Ranked Predictions Plot')\n",
    "    \n",
    "    # select best model\n",
    "    return best"
   ]
  },
  {
   "cell_type": "markdown",
   "metadata": {},
   "source": [
    "### Also define function to generate submission file (per professor's code)\n",
    "### and ranked predictions plot"
   ]
  },
  {
   "cell_type": "code",
   "execution_count": 77,
   "metadata": {},
   "outputs": [],
   "source": [
    "import re\n",
    "import time\n",
    "\n",
    "def gen_submission(model, test=test):\n",
    "\n",
    "    \"\"\" Generates submission file for Kaggle House Prices contest.\n",
    "    \n",
    "    :param model: Model with which to score test data.\n",
    "    :param test: Test data.\n",
    "    \n",
    "    \"\"\"\n",
    "    \n",
    "    # create time stamp\n",
    "    time_stamp = re.sub('[: ]', '_', time.asctime())\n",
    "\n",
    "    # create predictions column\n",
    "    sub = test['Id'].cbind(model.predict(test).exp())\n",
    "    sub.columns = ['Id', 'SalePrice']\n",
    "    \n",
    "    # save file for submission\n",
    "    sub_fname = 'C:/Users/Davee/Google Drive/GWU MBA/Summer 2018/Machine Learning/GLMsubmission_' + str(time_stamp) + '.csv'\n",
    "    h2o.download_csv(sub, sub_fname)"
   ]
  },
  {
   "cell_type": "code",
   "execution_count": 78,
   "metadata": {},
   "outputs": [],
   "source": [
    "def ranked_preds_plot(y, valid, preds):\n",
    "    \n",
    "    \"\"\" Generates ranked prediction plot.\n",
    "    \n",
    "    :param y: Name of target variable.\n",
    "    :param valid: Name of validation H2OFrame.\n",
    "    :param preds: Column vector of predictions to plot.\n",
    "\n",
    "    \"\"\"\n",
    "    \n",
    "    # plot top frame values\n",
    "    preds.columns = ['predict']\n",
    "    yhat_frame = valid.cbind(preds)\n",
    "    print(yhat_frame[0:10, [y, 'predict']])\n",
    "\n",
    "    # plot sorted predictions\n",
    "    yhat_frame_df = yhat_frame[[y, 'predict']].as_data_frame()\n",
    "    yhat_frame_df.sort_values(by='predict', inplace=True)\n",
    "    yhat_frame_df.reset_index(inplace=True, drop=True)\n",
    "    _ = yhat_frame_df.plot(title='Ranked Predictions Plot')"
   ]
  },
  {
   "cell_type": "code",
   "execution_count": 79,
   "metadata": {},
   "outputs": [],
   "source": [
    "h2o.show_progress()"
   ]
  },
  {
   "cell_type": "code",
   "execution_count": 80,
   "metadata": {},
   "outputs": [],
   "source": [
    "# Used to create a list of columns for our H2O models\n",
    "\n",
    "colselect = train.as_data_frame()\n",
    "colselect = colselect.drop('SalePrice', 1)\n",
    "glm_cols = colselect.columns.tolist()"
   ]
  },
  {
   "cell_type": "code",
   "execution_count": 81,
   "metadata": {},
   "outputs": [
    {
     "name": "stdout",
     "output_type": "stream",
     "text": [
      "glm Grid Build progress: |████████████████████████████████████████████████| 100%\n",
      "      alpha                                                    model_ids  \\\n",
      "0    [0.99]  Grid_GLM_py_8_sid_a4fa_model_python_1529618379651_1_model_3   \n",
      "1     [0.5]  Grid_GLM_py_8_sid_a4fa_model_python_1529618379651_1_model_2   \n",
      "2    [0.25]  Grid_GLM_py_8_sid_a4fa_model_python_1529618379651_1_model_1   \n",
      "3    [0.01]  Grid_GLM_py_8_sid_a4fa_model_python_1529618379651_1_model_0   \n",
      "\n",
      "   residual_deviance  \n",
      "0  5.434983282085863  \n",
      "1  5.436104981171313  \n",
      "2  5.448934385491922  \n",
      "3  5.952937462433834  \n",
      "None\n",
      "Model Details\n",
      "=============\n",
      "H2OGeneralizedLinearEstimator :  Generalized Linear Modeling\n",
      "Model Key:  Grid_GLM_py_8_sid_a4fa_model_python_1529618379651_1_model_3\n",
      "\n",
      "\n",
      "ModelMetricsRegressionGLM: glm\n",
      "** Reported on train data. **\n",
      "\n",
      "MSE: 0.010215764159561947\n",
      "RMSE: 0.10107306347173785\n",
      "MAE: 0.07202110060519969\n",
      "RMSLE: 0.007870908744551874\n",
      "R^2: 0.9342879185020695\n",
      "Mean Residual Deviance: 0.010215764159561947\n",
      "Null degrees of freedom: 992\n",
      "Residual degrees of freedom: 910\n",
      "Null deviance: 154.37425781079114\n",
      "Residual deviance: 10.144253810445013\n",
      "AIC: -1565.724556251651\n",
      "\n",
      "ModelMetricsRegressionGLM: glm\n",
      "** Reported on validation data. **\n",
      "\n",
      "MSE: 0.01189274241156644\n",
      "RMSE: 0.10905385097082285\n",
      "MAE: 0.07676992595505223\n",
      "RMSLE: 0.008549524331210303\n",
      "R^2: 0.9290932191801714\n",
      "Mean Residual Deviance: 0.01189274241156644\n",
      "Null degrees of freedom: 456\n",
      "Residual degrees of freedom: 374\n",
      "Null deviance: 76.98582338792609\n",
      "Residual deviance: 5.434983282085863\n",
      "AIC: -560.4350951095379\n",
      "Scoring History: \n"
     ]
    },
    {
     "data": {
      "text/html": [
       "<div style=\"overflow:auto\"><table style=\"width:50%\"><tr><td><b></b></td>\n",
       "<td><b>timestamp</b></td>\n",
       "<td><b>duration</b></td>\n",
       "<td><b>iteration</b></td>\n",
       "<td><b>lambda</b></td>\n",
       "<td><b>predictors</b></td>\n",
       "<td><b>deviance_train</b></td>\n",
       "<td><b>deviance_test</b></td></tr>\n",
       "<tr><td></td>\n",
       "<td>2018-06-21 18:00:35</td>\n",
       "<td> 0.000 sec</td>\n",
       "<td>1</td>\n",
       "<td>.32E0</td>\n",
       "<td>1</td>\n",
       "<td>0.1554625</td>\n",
       "<td>0.1684591</td></tr>\n",
       "<tr><td></td>\n",
       "<td>2018-06-21 18:00:35</td>\n",
       "<td> 0.013 sec</td>\n",
       "<td>2</td>\n",
       "<td>.31E0</td>\n",
       "<td>2</td>\n",
       "<td>0.1463011</td>\n",
       "<td>0.1579085</td></tr>\n",
       "<tr><td></td>\n",
       "<td>2018-06-21 18:00:35</td>\n",
       "<td> 0.022 sec</td>\n",
       "<td>3</td>\n",
       "<td>.3E0</td>\n",
       "<td>2</td>\n",
       "<td>0.1379501</td>\n",
       "<td>0.1482940</td></tr>\n",
       "<tr><td></td>\n",
       "<td>2018-06-21 18:00:35</td>\n",
       "<td> 0.030 sec</td>\n",
       "<td>4</td>\n",
       "<td>.28E0</td>\n",
       "<td>2</td>\n",
       "<td>0.1303377</td>\n",
       "<td>0.1395330</td></tr>\n",
       "<tr><td></td>\n",
       "<td>2018-06-21 18:00:35</td>\n",
       "<td> 0.059 sec</td>\n",
       "<td>5</td>\n",
       "<td>.27E0</td>\n",
       "<td>2</td>\n",
       "<td>0.1233989</td>\n",
       "<td>0.1315500</td></tr>\n",
       "<tr><td>---</td>\n",
       "<td>---</td>\n",
       "<td>---</td>\n",
       "<td>---</td>\n",
       "<td>---</td>\n",
       "<td>---</td>\n",
       "<td>---</td>\n",
       "<td>---</td></tr>\n",
       "<tr><td></td>\n",
       "<td>2018-06-21 18:00:36</td>\n",
       "<td> 1.220 sec</td>\n",
       "<td>88</td>\n",
       "<td>.57E-2</td>\n",
       "<td>84</td>\n",
       "<td>0.0100821</td>\n",
       "<td>0.0118943</td></tr>\n",
       "<tr><td></td>\n",
       "<td>2018-06-21 18:00:36</td>\n",
       "<td> 1.229 sec</td>\n",
       "<td>89</td>\n",
       "<td>.54E-2</td>\n",
       "<td>85</td>\n",
       "<td>0.0099599</td>\n",
       "<td>0.0119033</td></tr>\n",
       "<tr><td></td>\n",
       "<td>2018-06-21 18:00:36</td>\n",
       "<td> 1.242 sec</td>\n",
       "<td>90</td>\n",
       "<td>.52E-2</td>\n",
       "<td>85</td>\n",
       "<td>0.0098466</td>\n",
       "<td>0.0119219</td></tr>\n",
       "<tr><td></td>\n",
       "<td>2018-06-21 18:00:36</td>\n",
       "<td> 1.258 sec</td>\n",
       "<td>91</td>\n",
       "<td>.49E-2</td>\n",
       "<td>86</td>\n",
       "<td>0.0097427</td>\n",
       "<td>0.0119411</td></tr>\n",
       "<tr><td></td>\n",
       "<td>2018-06-21 18:00:36</td>\n",
       "<td> 1.269 sec</td>\n",
       "<td>92</td>\n",
       "<td>.47E-2</td>\n",
       "<td>86</td>\n",
       "<td>0.0096463</td>\n",
       "<td>0.0119638</td></tr></table></div>"
      ],
      "text/plain": [
       "     timestamp            duration    iteration    lambda    predictors    deviance_train        deviance_test\n",
       "---  -------------------  ----------  -----------  --------  ------------  --------------------  --------------------\n",
       "     2018-06-21 18:00:35  0.000 sec   1            .32E0     1             0.15546249071004695   0.16845911547680006\n",
       "     2018-06-21 18:00:35  0.013 sec   2            .31E0     2             0.1463011452577181    0.15790847037504227\n",
       "     2018-06-21 18:00:35  0.022 sec   3            .3E0      2             0.13795006278995964   0.14829403347940284\n",
       "     2018-06-21 18:00:35  0.030 sec   4            .28E0     2             0.1303377296561448    0.1395330362708609\n",
       "     2018-06-21 18:00:35  0.059 sec   5            .27E0     2             0.12339892463832094   0.13154999924780214\n",
       "---  ---                  ---         ---          ---       ---           ---                   ---\n",
       "     2018-06-21 18:00:36  1.220 sec   88           .57E-2    84            0.010082087526865789  0.011894297993119592\n",
       "     2018-06-21 18:00:36  1.229 sec   89           .54E-2    85            0.009959919583353693  0.01190330899347831\n",
       "     2018-06-21 18:00:36  1.242 sec   90           .52E-2    85            0.009846627653631769  0.011921910851906936\n",
       "     2018-06-21 18:00:36  1.258 sec   91           .49E-2    86            0.009742703574321778  0.011941118574509668\n",
       "     2018-06-21 18:00:36  1.269 sec   92           .47E-2    86            0.009646310917139784  0.01196380646390902"
      ]
     },
     "metadata": {},
     "output_type": "display_data"
    },
    {
     "name": "stdout",
     "output_type": "stream",
     "text": [
      "\n",
      "See the whole table with table.as_data_frame()\n",
      "\n",
      "glm prediction progress: |████████████████████████████████████████████████| 100%\n"
     ]
    },
    {
     "data": {
      "text/html": [
       "<table>\n",
       "<thead>\n",
       "<tr><th style=\"text-align: right;\">  SalePrice</th><th style=\"text-align: right;\">  predict</th></tr>\n",
       "</thead>\n",
       "<tbody>\n",
       "<tr><td style=\"text-align: right;\">    11.8494</td><td style=\"text-align: right;\">  12.0551</td></tr>\n",
       "<tr><td style=\"text-align: right;\">    12.2061</td><td style=\"text-align: right;\">  12.3262</td></tr>\n",
       "<tr><td style=\"text-align: right;\">    11.6784</td><td style=\"text-align: right;\">  11.7143</td></tr>\n",
       "<tr><td style=\"text-align: right;\">    11.7906</td><td style=\"text-align: right;\">  11.776 </td></tr>\n",
       "<tr><td style=\"text-align: right;\">    11.9117</td><td style=\"text-align: right;\">  11.962 </td></tr>\n",
       "<tr><td style=\"text-align: right;\">    11.9767</td><td style=\"text-align: right;\">  11.9211</td></tr>\n",
       "<tr><td style=\"text-align: right;\">    11.8451</td><td style=\"text-align: right;\">  11.7464</td></tr>\n",
       "<tr><td style=\"text-align: right;\">    11.1346</td><td style=\"text-align: right;\">  11.2496</td></tr>\n",
       "<tr><td style=\"text-align: right;\">    11.914 </td><td style=\"text-align: right;\">  11.8118</td></tr>\n",
       "<tr><td style=\"text-align: right;\">    11.8845</td><td style=\"text-align: right;\">  11.9063</td></tr>\n",
       "</tbody>\n",
       "</table>"
      ]
     },
     "metadata": {},
     "output_type": "display_data"
    },
    {
     "name": "stdout",
     "output_type": "stream",
     "text": [
      "\n",
      "glm prediction progress: |████████████████████████████████████████████████| 100%\n"
     ]
    },
    {
     "data": {
      "image/png": "[encoded data removed]",
      "text/plain": [
       "<Figure size 432x288 with 1 Axes>"
      ]
     },
     "metadata": {},
     "output_type": "display_data"
    }
   ],
   "source": [
    "glm_0 = glm_grid(glm_cols, 'SalePrice', train, valid)\n",
    "gen_submission(glm_0)"
   ]
  },
  {
   "cell_type": "code",
   "execution_count": 82,
   "metadata": {},
   "outputs": [],
   "source": [
    "# Initial score of 0.12759\n",
    "# After fixing warnings/errors, score of 0.12759 (did not change)\n",
    "# After fixing garage error, score of 0.12751 (improvement)\n",
    "# Changed garage error to median instead of YearBuilt, maintained score of 0.12751 (did not change) + RMSE 0.1116\n",
    "# Altered code to drop SalePrice from X variables, score of 0.12850"
   ]
  },
  {
   "cell_type": "markdown",
   "metadata": {},
   "source": [
    "### To Improve Accuracy, try additional models\n",
    "##### (All code taken from Professor's notebook)"
   ]
  },
  {
   "cell_type": "code",
   "execution_count": 83,
   "metadata": {},
   "outputs": [],
   "source": [
    "# Different submission generator\n",
    "\n",
    "import re\n",
    "import time\n",
    "\n",
    "def gen_submission2(preds, test=test):\n",
    "\n",
    "    \"\"\" Generates submission file for Kaggle House Prices contest.\n",
    "    \n",
    "    :param preds: Column vector of predictions.\n",
    "    :param test: Test data.\n",
    "    \n",
    "    \"\"\"\n",
    "    \n",
    "    # create time stamp\n",
    "    time_stamp = re.sub('[: ]', '_', time.asctime())\n",
    "\n",
    "    # create predictions column\n",
    "    sub = test['Id'].cbind(preds.exp())\n",
    "    sub.columns = ['Id', 'SalePrice']\n",
    "    \n",
    "    # save file for submission\n",
    "    sub_fname = 'C:/Users/Davee/Google Drive/GWU MBA/Summer 2018/Machine Learning/RFsubmission_' + str(time_stamp) + '.csv'\n",
    "    h2o.download_csv(sub, sub_fname)"
   ]
  },
  {
   "cell_type": "markdown",
   "metadata": {},
   "source": [
    "## Random Forest"
   ]
  },
  {
   "cell_type": "code",
   "execution_count": 84,
   "metadata": {},
   "outputs": [
    {
     "name": "stdout",
     "output_type": "stream",
     "text": [
      "drf Model Build progress: |███████████████████████████████████████████████| 100%\n",
      "Model Details\n",
      "=============\n",
      "H2ORandomForestEstimator :  Distributed Random Forest\n",
      "Model Key:  DRF_model_python_1529618379651_2\n",
      "\n",
      "\n",
      "ModelMetricsRegression: drf\n",
      "** Reported on train data. **\n",
      "\n",
      "MSE: 0.02794652031797852\n",
      "RMSE: 0.16717212781435342\n",
      "MAE: 0.11510043248693566\n",
      "RMSLE: 0.01294739375650381\n",
      "Mean Residual Deviance: 0.02794652031797852\n",
      "\n",
      "ModelMetricsRegression: drf\n",
      "** Reported on validation data. **\n",
      "\n",
      "MSE: 0.029619039864574665\n",
      "RMSE: 0.17210182992802447\n",
      "MAE: 0.11896847479525662\n",
      "RMSLE: 0.013334526575198033\n",
      "Mean Residual Deviance: 0.029619039864574665\n",
      "\n",
      "ModelMetricsRegression: drf\n",
      "** Reported on cross-validation data. **\n",
      "\n",
      "MSE: 0.02737611024535953\n",
      "RMSE: 0.1654572761934619\n",
      "MAE: 0.1138909267382869\n",
      "RMSLE: 0.012810838781440403\n",
      "Mean Residual Deviance: 0.02737611024535953\n",
      "Cross-Validation Metrics Summary: \n"
     ]
    },
    {
     "data": {
      "text/html": [
       "<div style=\"overflow:auto\"><table style=\"width:50%\"><tr><td><b></b></td>\n",
       "<td><b>mean</b></td>\n",
       "<td><b>sd</b></td>\n",
       "<td><b>cv_1_valid</b></td>\n",
       "<td><b>cv_2_valid</b></td>\n",
       "<td><b>cv_3_valid</b></td></tr>\n",
       "<tr><td>mae</td>\n",
       "<td>0.1137986</td>\n",
       "<td>0.0014720</td>\n",
       "<td>0.1117376</td>\n",
       "<td>0.1166497</td>\n",
       "<td>0.1130084</td></tr>\n",
       "<tr><td>mean_residual_deviance</td>\n",
       "<td>0.0273099</td>\n",
       "<td>0.0010638</td>\n",
       "<td>0.0264881</td>\n",
       "<td>0.0294204</td>\n",
       "<td>0.0260211</td></tr>\n",
       "<tr><td>mse</td>\n",
       "<td>0.0273099</td>\n",
       "<td>0.0010638</td>\n",
       "<td>0.0264881</td>\n",
       "<td>0.0294204</td>\n",
       "<td>0.0260211</td></tr>\n",
       "<tr><td>r2</td>\n",
       "<td>0.8239453</td>\n",
       "<td>0.0049507</td>\n",
       "<td>0.8258367</td>\n",
       "<td>0.8145826</td>\n",
       "<td>0.8314165</td></tr>\n",
       "<tr><td>residual_deviance</td>\n",
       "<td>0.0273099</td>\n",
       "<td>0.0010638</td>\n",
       "<td>0.0264881</td>\n",
       "<td>0.0294204</td>\n",
       "<td>0.0260211</td></tr>\n",
       "<tr><td>rmse</td>\n",
       "<td>0.1651953</td>\n",
       "<td>0.0031914</td>\n",
       "<td>0.1627516</td>\n",
       "<td>0.1715237</td>\n",
       "<td>0.1613107</td></tr>\n",
       "<tr><td>rmsle</td>\n",
       "<td>0.0127859</td>\n",
       "<td>0.0002874</td>\n",
       "<td>0.0124604</td>\n",
       "<td>0.0133590</td>\n",
       "<td>0.0125384</td></tr></table></div>"
      ],
      "text/plain": [
       "                        mean       sd           cv_1_valid    cv_2_valid    cv_3_valid\n",
       "----------------------  ---------  -----------  ------------  ------------  ------------\n",
       "mae                     0.113799   0.00147202   0.111738      0.11665       0.113008\n",
       "mean_residual_deviance  0.0273099  0.00106382   0.0264881     0.0294204     0.0260211\n",
       "mse                     0.0273099  0.00106382   0.0264881     0.0294204     0.0260211\n",
       "r2                      0.823945   0.00495068   0.825837      0.814583      0.831417\n",
       "residual_deviance       0.0273099  0.00106382   0.0264881     0.0294204     0.0260211\n",
       "rmse                    0.165195   0.00319139   0.162752      0.171524      0.161311\n",
       "rmsle                   0.0127859  0.000287418  0.0124604     0.013359      0.0125384"
      ]
     },
     "metadata": {},
     "output_type": "display_data"
    },
    {
     "name": "stdout",
     "output_type": "stream",
     "text": [
      "Scoring History: \n"
     ]
    },
    {
     "data": {
      "text/html": [
       "<div style=\"overflow:auto\"><table style=\"width:50%\"><tr><td><b></b></td>\n",
       "<td><b>timestamp</b></td>\n",
       "<td><b>duration</b></td>\n",
       "<td><b>number_of_trees</b></td>\n",
       "<td><b>training_rmse</b></td>\n",
       "<td><b>training_mae</b></td>\n",
       "<td><b>training_deviance</b></td>\n",
       "<td><b>validation_rmse</b></td>\n",
       "<td><b>validation_mae</b></td>\n",
       "<td><b>validation_deviance</b></td></tr>\n",
       "<tr><td></td>\n",
       "<td>2018-06-21 18:01:07</td>\n",
       "<td>27.439 sec</td>\n",
       "<td>0.0</td>\n",
       "<td>nan</td>\n",
       "<td>nan</td>\n",
       "<td>nan</td>\n",
       "<td>nan</td>\n",
       "<td>nan</td>\n",
       "<td>nan</td></tr>\n",
       "<tr><td></td>\n",
       "<td>2018-06-21 18:01:07</td>\n",
       "<td>27.482 sec</td>\n",
       "<td>1.0</td>\n",
       "<td>0.3124131</td>\n",
       "<td>0.2186631</td>\n",
       "<td>0.0976020</td>\n",
       "<td>0.3084523</td>\n",
       "<td>0.2265508</td>\n",
       "<td>0.0951428</td></tr>\n",
       "<tr><td></td>\n",
       "<td>2018-06-21 18:01:07</td>\n",
       "<td>27.531 sec</td>\n",
       "<td>2.0</td>\n",
       "<td>0.2789017</td>\n",
       "<td>0.1972450</td>\n",
       "<td>0.0777861</td>\n",
       "<td>0.2386963</td>\n",
       "<td>0.1741154</td>\n",
       "<td>0.0569759</td></tr>\n",
       "<tr><td></td>\n",
       "<td>2018-06-21 18:01:07</td>\n",
       "<td>27.581 sec</td>\n",
       "<td>3.0</td>\n",
       "<td>0.2544721</td>\n",
       "<td>0.1816209</td>\n",
       "<td>0.0647560</td>\n",
       "<td>0.2248117</td>\n",
       "<td>0.1626399</td>\n",
       "<td>0.0505403</td></tr>\n",
       "<tr><td></td>\n",
       "<td>2018-06-21 18:01:07</td>\n",
       "<td>27.638 sec</td>\n",
       "<td>4.0</td>\n",
       "<td>0.2592010</td>\n",
       "<td>0.1821827</td>\n",
       "<td>0.0671851</td>\n",
       "<td>0.2196005</td>\n",
       "<td>0.1574775</td>\n",
       "<td>0.0482244</td></tr>\n",
       "<tr><td>---</td>\n",
       "<td>---</td>\n",
       "<td>---</td>\n",
       "<td>---</td>\n",
       "<td>---</td>\n",
       "<td>---</td>\n",
       "<td>---</td>\n",
       "<td>---</td>\n",
       "<td>---</td>\n",
       "<td>---</td></tr>\n",
       "<tr><td></td>\n",
       "<td>2018-06-21 18:01:21</td>\n",
       "<td>41.392 sec</td>\n",
       "<td>179.0</td>\n",
       "<td>0.1673640</td>\n",
       "<td>0.1150722</td>\n",
       "<td>0.0280107</td>\n",
       "<td>0.1721509</td>\n",
       "<td>0.1190489</td>\n",
       "<td>0.0296359</td></tr>\n",
       "<tr><td></td>\n",
       "<td>2018-06-21 18:01:21</td>\n",
       "<td>41.515 sec</td>\n",
       "<td>180.0</td>\n",
       "<td>0.1672585</td>\n",
       "<td>0.1150886</td>\n",
       "<td>0.0279754</td>\n",
       "<td>0.1720783</td>\n",
       "<td>0.1189601</td>\n",
       "<td>0.0296109</td></tr>\n",
       "<tr><td></td>\n",
       "<td>2018-06-21 18:01:21</td>\n",
       "<td>41.619 sec</td>\n",
       "<td>181.0</td>\n",
       "<td>0.1672944</td>\n",
       "<td>0.1151462</td>\n",
       "<td>0.0279874</td>\n",
       "<td>0.1721776</td>\n",
       "<td>0.1190334</td>\n",
       "<td>0.0296451</td></tr>\n",
       "<tr><td></td>\n",
       "<td>2018-06-21 18:01:21</td>\n",
       "<td>41.727 sec</td>\n",
       "<td>182.0</td>\n",
       "<td>0.1672398</td>\n",
       "<td>0.1150366</td>\n",
       "<td>0.0279692</td>\n",
       "<td>0.1722357</td>\n",
       "<td>0.1191073</td>\n",
       "<td>0.0296651</td></tr>\n",
       "<tr><td></td>\n",
       "<td>2018-06-21 18:01:21</td>\n",
       "<td>41.828 sec</td>\n",
       "<td>183.0</td>\n",
       "<td>0.1671721</td>\n",
       "<td>0.1151004</td>\n",
       "<td>0.0279465</td>\n",
       "<td>0.1721018</td>\n",
       "<td>0.1189685</td>\n",
       "<td>0.0296190</td></tr></table></div>"
      ],
      "text/plain": [
       "     timestamp            duration    number_of_trees    training_rmse        training_mae         training_deviance     validation_rmse      validation_mae       validation_deviance\n",
       "---  -------------------  ----------  -----------------  -------------------  -------------------  --------------------  -------------------  -------------------  ---------------------\n",
       "     2018-06-21 18:01:07  27.439 sec  0.0                nan                  nan                  nan                   nan                  nan                  nan\n",
       "     2018-06-21 18:01:07  27.482 sec  1.0                0.31241314370638357  0.21866314009864732  0.09760197236050547   0.30845226713001894  0.2265508180113277   0.09514280109764855\n",
       "     2018-06-21 18:01:07  27.531 sec  2.0                0.27890167258054904  0.1972449768421262   0.07778614296822779   0.23869629632260742  0.17411537608641242  0.05697592187813001\n",
       "     2018-06-21 18:01:07  27.581 sec  3.0                0.2544720906918327   0.18162088145497318  0.06475604494107233   0.22481166720986     0.16263986277284623  0.05054028571367685\n",
       "     2018-06-21 18:01:07  27.638 sec  4.0                0.25920096851935553  0.18218270978637624  0.06718514208137194   0.21960045667624462  0.15747753639972445  0.04822436057241519\n",
       "---  ---                  ---         ---                ---                  ---                  ---                   ---                  ---                  ---\n",
       "     2018-06-21 18:01:21  41.392 sec  179.0              0.1673640491248157   0.11507223962437646  0.028010724939453724  0.17215089752339313  0.11904893339335304  0.029635931518109806\n",
       "     2018-06-21 18:01:21  41.515 sec  180.0              0.16725852507872377  0.11508860506956822  0.027975414211510063  0.17207829197634317  0.11896009937910566  0.029610938569495607\n",
       "     2018-06-21 18:01:21  41.619 sec  181.0              0.16729443797243565  0.1151461765844996   0.02798742897651312   0.17217762644511025  0.11903338746660103  0.029645135048271928\n",
       "     2018-06-21 18:01:21  41.727 sec  182.0              0.16723982551700656  0.11503663520775836  0.027969159238958798  0.17223572009234736  0.11910728797469546  0.02966514327572943\n",
       "     2018-06-21 18:01:21  41.828 sec  183.0              0.16717212781435342  0.11510043248693566  0.02794652031797852   0.17210182992802447  0.11896847479525662  0.029619039864574665"
      ]
     },
     "metadata": {},
     "output_type": "display_data"
    },
    {
     "name": "stdout",
     "output_type": "stream",
     "text": [
      "\n",
      "See the whole table with table.as_data_frame()\n",
      "Variable Importances: \n"
     ]
    },
    {
     "data": {
      "text/html": [
       "<div style=\"overflow:auto\"><table style=\"width:50%\"><tr><td><b>variable</b></td>\n",
       "<td><b>relative_importance</b></td>\n",
       "<td><b>scaled_importance</b></td>\n",
       "<td><b>percentage</b></td></tr>\n",
       "<tr><td>ExterQual</td>\n",
       "<td>1344.4860840</td>\n",
       "<td>1.0</td>\n",
       "<td>0.0612831</td></tr>\n",
       "<tr><td>Neighborhood</td>\n",
       "<td>1159.5078125</td>\n",
       "<td>0.8624171</td>\n",
       "<td>0.0528516</td></tr>\n",
       "<tr><td>KitchenQual</td>\n",
       "<td>1146.6669922</td>\n",
       "<td>0.8528664</td>\n",
       "<td>0.0522663</td></tr>\n",
       "<tr><td>YearBuilt</td>\n",
       "<td>1106.1260986</td>\n",
       "<td>0.8227129</td>\n",
       "<td>0.0504184</td></tr>\n",
       "<tr><td>GarageArea</td>\n",
       "<td>975.6389771</td>\n",
       "<td>0.7256594</td>\n",
       "<td>0.0444706</td></tr>\n",
       "<tr><td>---</td>\n",
       "<td>---</td>\n",
       "<td>---</td>\n",
       "<td>---</td></tr>\n",
       "<tr><td>Condition2_Other</td>\n",
       "<td>0.0133748</td>\n",
       "<td>0.0000099</td>\n",
       "<td>0.0000006</td></tr>\n",
       "<tr><td>Utilities_AllPub</td>\n",
       "<td>0.0</td>\n",
       "<td>0.0</td>\n",
       "<td>0.0</td></tr>\n",
       "<tr><td>Exterior2nd_AsphShn</td>\n",
       "<td>0.0</td>\n",
       "<td>0.0</td>\n",
       "<td>0.0</td></tr>\n",
       "<tr><td>SaleType_ConLw</td>\n",
       "<td>0.0</td>\n",
       "<td>0.0</td>\n",
       "<td>0.0</td></tr>\n",
       "<tr><td>SaleType_Oth</td>\n",
       "<td>0.0</td>\n",
       "<td>0.0</td>\n",
       "<td>0.0</td></tr></table></div>"
      ],
      "text/plain": [
       "variable             relative_importance    scaled_importance      percentage\n",
       "-------------------  ---------------------  ---------------------  ---------------------\n",
       "ExterQual            1344.486083984375      1.0                    0.06128306556773853\n",
       "Neighborhood         1159.5078125           0.8624171170770372     0.052851564732572104\n",
       "KitchenQual          1146.6669921875        0.8528663895050222     0.052266266868556704\n",
       "YearBuilt            1106.1260986328125     0.8227129397686406     0.05041837103126852\n",
       "GarageArea           975.6389770507812      0.7256594089538525     0.04447063313876533\n",
       "---                  ---                    ---                    ---\n",
       "Condition2_Other     0.013374795205891132   9.947886679685834e-06  6.096369916516196e-07\n",
       "Utilities_AllPub     0.0                    0.0                    0.0\n",
       "Exterior2nd_AsphShn  0.0                    0.0                    0.0\n",
       "SaleType_ConLw       0.0                    0.0                    0.0\n",
       "SaleType_Oth         0.0                    0.0                    0.0"
      ]
     },
     "metadata": {},
     "output_type": "display_data"
    },
    {
     "name": "stdout",
     "output_type": "stream",
     "text": [
      "\n",
      "See the whole table with table.as_data_frame()\n",
      "\n",
      "drf prediction progress: |████████████████████████████████████████████████| 100%\n"
     ]
    },
    {
     "data": {
      "text/html": [
       "<table>\n",
       "<thead>\n",
       "<tr><th style=\"text-align: right;\">  SalePrice</th><th style=\"text-align: right;\">  predict</th></tr>\n",
       "</thead>\n",
       "<tbody>\n",
       "<tr><td style=\"text-align: right;\">    11.8494</td><td style=\"text-align: right;\">  11.9922</td></tr>\n",
       "<tr><td style=\"text-align: right;\">    12.2061</td><td style=\"text-align: right;\">  12.1678</td></tr>\n",
       "<tr><td style=\"text-align: right;\">    11.6784</td><td style=\"text-align: right;\">  11.8078</td></tr>\n",
       "<tr><td style=\"text-align: right;\">    11.7906</td><td style=\"text-align: right;\">  11.7334</td></tr>\n",
       "<tr><td style=\"text-align: right;\">    11.9117</td><td style=\"text-align: right;\">  11.9517</td></tr>\n",
       "<tr><td style=\"text-align: right;\">    11.9767</td><td style=\"text-align: right;\">  11.9787</td></tr>\n",
       "<tr><td style=\"text-align: right;\">    11.8451</td><td style=\"text-align: right;\">  11.7903</td></tr>\n",
       "<tr><td style=\"text-align: right;\">    11.1346</td><td style=\"text-align: right;\">  11.4713</td></tr>\n",
       "<tr><td style=\"text-align: right;\">    11.914 </td><td style=\"text-align: right;\">  11.8856</td></tr>\n",
       "<tr><td style=\"text-align: right;\">    11.8845</td><td style=\"text-align: right;\">  12.0413</td></tr>\n",
       "</tbody>\n",
       "</table>"
      ]
     },
     "metadata": {},
     "output_type": "display_data"
    },
    {
     "name": "stdout",
     "output_type": "stream",
     "text": [
      "\n",
      "drf prediction progress: |████████████████████████████████████████████████| 100%\n"
     ]
    },
    {
     "data": {
      "image/png": "[encoded data removed]",
      "text/plain": [
       "<Figure size 432x288 with 1 Axes>"
      ]
     },
     "metadata": {},
     "output_type": "display_data"
    }
   ],
   "source": [
    "# initialize rf model (not using a defined function as before)\n",
    "rf_model1 = H2ORandomForestEstimator(\n",
    "    ntrees=10000,                    \n",
    "    max_depth=10, \n",
    "    col_sample_rate_per_tree=0.1,\n",
    "    sample_rate=0.8,\n",
    "    stopping_rounds=50,\n",
    "    score_each_iteration=True,\n",
    "    nfolds=3,\n",
    "    keep_cross_validation_predictions=True,\n",
    "    seed=12345)           \n",
    "\n",
    "# train rf model\n",
    "rf_model1.train(\n",
    "    x=glm_cols,\n",
    "    y='SalePrice',\n",
    "    training_frame=train,\n",
    "    validation_frame=valid)\n",
    "\n",
    "# print model information\n",
    "print(rf_model1)\n",
    "\n",
    "rf_preds1_val = rf_model1.predict(valid)\n",
    "ranked_preds_plot('SalePrice', valid, rf_preds1_val)\n",
    "rf_preds1_test = rf_model1.predict(test)\n",
    "gen_submission2(rf_preds1_test)"
   ]
  },
  {
   "cell_type": "markdown",
   "metadata": {},
   "source": [
    "## Extremely Random Forest"
   ]
  },
  {
   "cell_type": "code",
   "execution_count": 85,
   "metadata": {},
   "outputs": [
    {
     "name": "stdout",
     "output_type": "stream",
     "text": [
      "drf Model Build progress: |███████████████████████████████████████████████| 100%\n",
      "Model Details\n",
      "=============\n",
      "H2ORandomForestEstimator :  Distributed Random Forest\n",
      "Model Key:  DRF_model_python_1529618379651_3\n",
      "\n",
      "\n",
      "ModelMetricsRegression: drf\n",
      "** Reported on train data. **\n",
      "\n",
      "MSE: 0.0304350085216713\n",
      "RMSE: 0.17445632267611083\n",
      "MAE: 0.12125959622971433\n",
      "RMSLE: 0.013517078509492388\n",
      "Mean Residual Deviance: 0.0304350085216713\n",
      "\n",
      "ModelMetricsRegression: drf\n",
      "** Reported on validation data. **\n",
      "\n",
      "MSE: 0.03243340103185283\n",
      "RMSE: 0.18009275674455327\n",
      "MAE: 0.1253911356772953\n",
      "RMSLE: 0.01394126783132151\n",
      "Mean Residual Deviance: 0.03243340103185283\n",
      "\n",
      "ModelMetricsRegression: drf\n",
      "** Reported on cross-validation data. **\n",
      "\n",
      "MSE: 0.029432620546475368\n",
      "RMSE: 0.1715593790688092\n",
      "MAE: 0.11905413458394908\n",
      "RMSLE: 0.0132700984644275\n",
      "Mean Residual Deviance: 0.029432620546475368\n",
      "Cross-Validation Metrics Summary: \n"
     ]
    },
    {
     "data": {
      "text/html": [
       "<div style=\"overflow:auto\"><table style=\"width:50%\"><tr><td><b></b></td>\n",
       "<td><b>mean</b></td>\n",
       "<td><b>sd</b></td>\n",
       "<td><b>cv_1_valid</b></td>\n",
       "<td><b>cv_2_valid</b></td>\n",
       "<td><b>cv_3_valid</b></td></tr>\n",
       "<tr><td>mae</td>\n",
       "<td>0.1189759</td>\n",
       "<td>0.0017829</td>\n",
       "<td>0.1154526</td>\n",
       "<td>0.1212122</td>\n",
       "<td>0.1202630</td></tr>\n",
       "<tr><td>mean_residual_deviance</td>\n",
       "<td>0.0293875</td>\n",
       "<td>0.0007091</td>\n",
       "<td>0.0285798</td>\n",
       "<td>0.0308010</td>\n",
       "<td>0.0287816</td></tr>\n",
       "<tr><td>mse</td>\n",
       "<td>0.0293875</td>\n",
       "<td>0.0007091</td>\n",
       "<td>0.0285798</td>\n",
       "<td>0.0308010</td>\n",
       "<td>0.0287816</td></tr>\n",
       "<tr><td>r2</td>\n",
       "<td>0.8104990</td>\n",
       "<td>0.0023462</td>\n",
       "<td>0.8120832</td>\n",
       "<td>0.8058817</td>\n",
       "<td>0.813532</td></tr>\n",
       "<tr><td>residual_deviance</td>\n",
       "<td>0.0293875</td>\n",
       "<td>0.0007091</td>\n",
       "<td>0.0285798</td>\n",
       "<td>0.0308010</td>\n",
       "<td>0.0287816</td></tr>\n",
       "<tr><td>rmse</td>\n",
       "<td>0.1714031</td>\n",
       "<td>0.0020567</td>\n",
       "<td>0.1690557</td>\n",
       "<td>0.1755020</td>\n",
       "<td>0.1696515</td></tr>\n",
       "<tr><td>rmsle</td>\n",
       "<td>0.0132537</td>\n",
       "<td>0.0002106</td>\n",
       "<td>0.0129326</td>\n",
       "<td>0.0136502</td>\n",
       "<td>0.0131784</td></tr></table></div>"
      ],
      "text/plain": [
       "                        mean       sd           cv_1_valid    cv_2_valid    cv_3_valid\n",
       "----------------------  ---------  -----------  ------------  ------------  ------------\n",
       "mae                     0.118976   0.00178287   0.115453      0.121212      0.120263\n",
       "mean_residual_deviance  0.0293875  0.00070914   0.0285798     0.030801      0.0287816\n",
       "mse                     0.0293875  0.00070914   0.0285798     0.030801      0.0287816\n",
       "r2                      0.810499   0.00234623   0.812083      0.805882      0.813532\n",
       "residual_deviance       0.0293875  0.00070914   0.0285798     0.030801      0.0287816\n",
       "rmse                    0.171403   0.00205668   0.169056      0.175502      0.169652\n",
       "rmsle                   0.0132537  0.000210555  0.0129326     0.0136502     0.0131784"
      ]
     },
     "metadata": {},
     "output_type": "display_data"
    },
    {
     "name": "stdout",
     "output_type": "stream",
     "text": [
      "Scoring History: \n"
     ]
    },
    {
     "data": {
      "text/html": [
       "<div style=\"overflow:auto\"><table style=\"width:50%\"><tr><td><b></b></td>\n",
       "<td><b>timestamp</b></td>\n",
       "<td><b>duration</b></td>\n",
       "<td><b>number_of_trees</b></td>\n",
       "<td><b>training_rmse</b></td>\n",
       "<td><b>training_mae</b></td>\n",
       "<td><b>training_deviance</b></td>\n",
       "<td><b>validation_rmse</b></td>\n",
       "<td><b>validation_mae</b></td>\n",
       "<td><b>validation_deviance</b></td></tr>\n",
       "<tr><td></td>\n",
       "<td>2018-06-21 18:01:42</td>\n",
       "<td>17.704 sec</td>\n",
       "<td>0.0</td>\n",
       "<td>nan</td>\n",
       "<td>nan</td>\n",
       "<td>nan</td>\n",
       "<td>nan</td>\n",
       "<td>nan</td>\n",
       "<td>nan</td></tr>\n",
       "<tr><td></td>\n",
       "<td>2018-06-21 18:01:42</td>\n",
       "<td>17.736 sec</td>\n",
       "<td>1.0</td>\n",
       "<td>0.3273061</td>\n",
       "<td>0.2259996</td>\n",
       "<td>0.1071293</td>\n",
       "<td>0.3169249</td>\n",
       "<td>0.2269988</td>\n",
       "<td>0.1004414</td></tr>\n",
       "<tr><td></td>\n",
       "<td>2018-06-21 18:01:42</td>\n",
       "<td>17.771 sec</td>\n",
       "<td>2.0</td>\n",
       "<td>0.2886062</td>\n",
       "<td>0.2012277</td>\n",
       "<td>0.0832935</td>\n",
       "<td>0.2408029</td>\n",
       "<td>0.1747914</td>\n",
       "<td>0.0579860</td></tr>\n",
       "<tr><td></td>\n",
       "<td>2018-06-21 18:01:42</td>\n",
       "<td>17.806 sec</td>\n",
       "<td>3.0</td>\n",
       "<td>0.2660499</td>\n",
       "<td>0.1895574</td>\n",
       "<td>0.0707825</td>\n",
       "<td>0.2289591</td>\n",
       "<td>0.1614957</td>\n",
       "<td>0.0524223</td></tr>\n",
       "<tr><td></td>\n",
       "<td>2018-06-21 18:01:42</td>\n",
       "<td>17.836 sec</td>\n",
       "<td>4.0</td>\n",
       "<td>0.2667882</td>\n",
       "<td>0.1922211</td>\n",
       "<td>0.0711759</td>\n",
       "<td>0.2166564</td>\n",
       "<td>0.1559163</td>\n",
       "<td>0.0469400</td></tr>\n",
       "<tr><td>---</td>\n",
       "<td>---</td>\n",
       "<td>---</td>\n",
       "<td>---</td>\n",
       "<td>---</td>\n",
       "<td>---</td>\n",
       "<td>---</td>\n",
       "<td>---</td>\n",
       "<td>---</td>\n",
       "<td>---</td></tr>\n",
       "<tr><td></td>\n",
       "<td>2018-06-21 18:01:53</td>\n",
       "<td>29.357 sec</td>\n",
       "<td>163.0</td>\n",
       "<td>0.1747277</td>\n",
       "<td>0.1212397</td>\n",
       "<td>0.0305298</td>\n",
       "<td>0.1792312</td>\n",
       "<td>0.1249839</td>\n",
       "<td>0.0321238</td></tr>\n",
       "<tr><td></td>\n",
       "<td>2018-06-21 18:01:53</td>\n",
       "<td>29.451 sec</td>\n",
       "<td>164.0</td>\n",
       "<td>0.1746917</td>\n",
       "<td>0.1212006</td>\n",
       "<td>0.0305172</td>\n",
       "<td>0.1796249</td>\n",
       "<td>0.1252189</td>\n",
       "<td>0.0322651</td></tr>\n",
       "<tr><td></td>\n",
       "<td>2018-06-21 18:01:53</td>\n",
       "<td>29.549 sec</td>\n",
       "<td>165.0</td>\n",
       "<td>0.1745794</td>\n",
       "<td>0.1212508</td>\n",
       "<td>0.0304780</td>\n",
       "<td>0.1800763</td>\n",
       "<td>0.1254416</td>\n",
       "<td>0.0324275</td></tr>\n",
       "<tr><td></td>\n",
       "<td>2018-06-21 18:01:53</td>\n",
       "<td>29.645 sec</td>\n",
       "<td>166.0</td>\n",
       "<td>0.1746751</td>\n",
       "<td>0.1213931</td>\n",
       "<td>0.0305114</td>\n",
       "<td>0.1801426</td>\n",
       "<td>0.1254553</td>\n",
       "<td>0.0324513</td></tr>\n",
       "<tr><td></td>\n",
       "<td>2018-06-21 18:01:54</td>\n",
       "<td>29.749 sec</td>\n",
       "<td>167.0</td>\n",
       "<td>0.1744563</td>\n",
       "<td>0.1212596</td>\n",
       "<td>0.0304350</td>\n",
       "<td>0.1800928</td>\n",
       "<td>0.1253911</td>\n",
       "<td>0.0324334</td></tr></table></div>"
      ],
      "text/plain": [
       "     timestamp            duration    number_of_trees    training_rmse        training_mae         training_deviance     validation_rmse      validation_mae       validation_deviance\n",
       "---  -------------------  ----------  -----------------  -------------------  -------------------  --------------------  -------------------  -------------------  ---------------------\n",
       "     2018-06-21 18:01:42  17.704 sec  0.0                nan                  nan                  nan                   nan                  nan                  nan\n",
       "     2018-06-21 18:01:42  17.736 sec  1.0                0.32730614611563824  0.22599955832604135  0.10712931328507153   0.316924919534267    0.22699876948049866  0.10044140462180162\n",
       "     2018-06-21 18:01:42  17.771 sec  2.0                0.28860617008416     0.20122765108596447  0.0832935214106471    0.24080288615366877  0.1747913642315687   0.057986029979936765\n",
       "     2018-06-21 18:01:42  17.806 sec  3.0                0.2660498582990507   0.189557420274924    0.07078252710094494   0.2289591499242146   0.16149573879116727  0.05242229233401898\n",
       "     2018-06-21 18:01:42  17.836 sec  4.0                0.2667881963638125   0.1922211288653498   0.07117594171905618   0.2166563584912562   0.15591626250769952  0.04693997767469172\n",
       "---  ---                  ---         ---                ---                  ---                  ---                   ---                  ---                  ---\n",
       "     2018-06-21 18:01:53  29.357 sec  163.0              0.17472774109717054  0.1212397271368928   0.030529783508919862  0.17923120472839982  0.12498393603333079  0.032123824748393565\n",
       "     2018-06-21 18:01:53  29.451 sec  164.0              0.17469166287979593  0.12120059240915385  0.030517177079708274  0.1796248593864899   0.12521887867696427  0.032265090109616264\n",
       "     2018-06-21 18:01:53  29.549 sec  165.0              0.17457938855630448  0.12125082604528967  0.030477962908693135  0.18007633229292186  0.12544158038595968  0.03242748545207081\n",
       "     2018-06-21 18:01:53  29.645 sec  166.0              0.1746750955191691   0.12139308769652465  0.03051138899463085   0.1801425681151092   0.12545534433708466  0.03245134484710676\n",
       "     2018-06-21 18:01:54  29.749 sec  167.0              0.17445632267611083  0.12125959622971433  0.0304350085216713    0.18009275674455327  0.1253911356772953   0.03243340103185283"
      ]
     },
     "metadata": {},
     "output_type": "display_data"
    },
    {
     "name": "stdout",
     "output_type": "stream",
     "text": [
      "\n",
      "See the whole table with table.as_data_frame()\n",
      "Variable Importances: \n"
     ]
    },
    {
     "data": {
      "text/html": [
       "<div style=\"overflow:auto\"><table style=\"width:50%\"><tr><td><b>variable</b></td>\n",
       "<td><b>relative_importance</b></td>\n",
       "<td><b>scaled_importance</b></td>\n",
       "<td><b>percentage</b></td></tr>\n",
       "<tr><td>Neighborhood</td>\n",
       "<td>1362.9108887</td>\n",
       "<td>1.0</td>\n",
       "<td>0.0614528</td></tr>\n",
       "<tr><td>ExterQual</td>\n",
       "<td>1362.7954102</td>\n",
       "<td>0.9999153</td>\n",
       "<td>0.0614476</td></tr>\n",
       "<tr><td>YearBuilt</td>\n",
       "<td>1142.0419922</td>\n",
       "<td>0.8379433</td>\n",
       "<td>0.0514940</td></tr>\n",
       "<tr><td>GarageArea</td>\n",
       "<td>1002.2345581</td>\n",
       "<td>0.7353632</td>\n",
       "<td>0.0451902</td></tr>\n",
       "<tr><td>OverallQual</td>\n",
       "<td>854.0929565</td>\n",
       "<td>0.6266682</td>\n",
       "<td>0.0385105</td></tr>\n",
       "<tr><td>---</td>\n",
       "<td>---</td>\n",
       "<td>---</td>\n",
       "<td>---</td></tr>\n",
       "<tr><td>Utilities_AllPub</td>\n",
       "<td>0.0000034</td>\n",
       "<td>0.0000000</td>\n",
       "<td>0.0000000</td></tr>\n",
       "<tr><td>RoofStyle_Shed</td>\n",
       "<td>0.0</td>\n",
       "<td>0.0</td>\n",
       "<td>0.0</td></tr>\n",
       "<tr><td>Exterior2nd_AsphShn</td>\n",
       "<td>0.0</td>\n",
       "<td>0.0</td>\n",
       "<td>0.0</td></tr>\n",
       "<tr><td>MiscFeature_Othr</td>\n",
       "<td>0.0</td>\n",
       "<td>0.0</td>\n",
       "<td>0.0</td></tr>\n",
       "<tr><td>SaleType_Oth</td>\n",
       "<td>0.0</td>\n",
       "<td>0.0</td>\n",
       "<td>0.0</td></tr></table></div>"
      ],
      "text/plain": [
       "variable             relative_importance    scaled_importance       percentage\n",
       "-------------------  ---------------------  ----------------------  ----------------------\n",
       "Neighborhood         1362.910888671875      1.0                     0.06145283211018139\n",
       "ExterQual            1362.79541015625       0.9999152706779403      0.061447625253378046\n",
       "YearBuilt            1142.0419921875        0.8379432592987744      0.05149398643154578\n",
       "GarageArea           1002.2345581054688     0.7353632335288796      0.045190153330050345\n",
       "OverallQual          854.0929565429688      0.6266682316811354      0.03851053763028507\n",
       "---                  ---                    ---                     ---\n",
       "Utilities_AllPub     3.435294956943835e-06  2.5205572759723494e-09  1.5489538310442492e-10\n",
       "RoofStyle_Shed       0.0                    0.0                     0.0\n",
       "Exterior2nd_AsphShn  0.0                    0.0                     0.0\n",
       "MiscFeature_Othr     0.0                    0.0                     0.0\n",
       "SaleType_Oth         0.0                    0.0                     0.0"
      ]
     },
     "metadata": {},
     "output_type": "display_data"
    },
    {
     "name": "stdout",
     "output_type": "stream",
     "text": [
      "\n",
      "See the whole table with table.as_data_frame()\n",
      "\n",
      "drf prediction progress: |████████████████████████████████████████████████| 100%\n"
     ]
    },
    {
     "data": {
      "text/html": [
       "<table>\n",
       "<thead>\n",
       "<tr><th style=\"text-align: right;\">  SalePrice</th><th style=\"text-align: right;\">  predict</th></tr>\n",
       "</thead>\n",
       "<tbody>\n",
       "<tr><td style=\"text-align: right;\">    11.8494</td><td style=\"text-align: right;\">  11.9837</td></tr>\n",
       "<tr><td style=\"text-align: right;\">    12.2061</td><td style=\"text-align: right;\">  12.1645</td></tr>\n",
       "<tr><td style=\"text-align: right;\">    11.6784</td><td style=\"text-align: right;\">  11.8197</td></tr>\n",
       "<tr><td style=\"text-align: right;\">    11.7906</td><td style=\"text-align: right;\">  11.7406</td></tr>\n",
       "<tr><td style=\"text-align: right;\">    11.9117</td><td style=\"text-align: right;\">  11.9376</td></tr>\n",
       "<tr><td style=\"text-align: right;\">    11.9767</td><td style=\"text-align: right;\">  11.9685</td></tr>\n",
       "<tr><td style=\"text-align: right;\">    11.8451</td><td style=\"text-align: right;\">  11.7914</td></tr>\n",
       "<tr><td style=\"text-align: right;\">    11.1346</td><td style=\"text-align: right;\">  11.4921</td></tr>\n",
       "<tr><td style=\"text-align: right;\">    11.914 </td><td style=\"text-align: right;\">  11.8592</td></tr>\n",
       "<tr><td style=\"text-align: right;\">    11.8845</td><td style=\"text-align: right;\">  12.024 </td></tr>\n",
       "</tbody>\n",
       "</table>"
      ]
     },
     "metadata": {},
     "output_type": "display_data"
    },
    {
     "name": "stdout",
     "output_type": "stream",
     "text": [
      "\n",
      "drf prediction progress: |████████████████████████████████████████████████| 100%\n"
     ]
    },
    {
     "data": {
      "image/png": "[encoded data removed]",
      "text/plain": [
       "<Figure size 432x288 with 1 Axes>"
      ]
     },
     "metadata": {},
     "output_type": "display_data"
    }
   ],
   "source": [
    "# initialize extra trees model\n",
    "ert_model1 = H2ORandomForestEstimator(\n",
    "    ntrees=10000,                    \n",
    "    max_depth=10, \n",
    "    col_sample_rate_per_tree=0.1,\n",
    "    sample_rate=0.8,\n",
    "    stopping_rounds=50,\n",
    "    score_each_iteration=True,\n",
    "    nfolds=3,\n",
    "    keep_cross_validation_predictions=True,\n",
    "    seed=12345,\n",
    "    histogram_type='random') # <- this is what makes it ERT instead of RF\n",
    "\n",
    "# train ert model\n",
    "ert_model1.train(\n",
    "    x=glm_cols,\n",
    "    y='SalePrice',\n",
    "    training_frame=train,\n",
    "    validation_frame=valid)\n",
    "\n",
    "# print model information/create submission\n",
    "print(ert_model1)\n",
    "ert_preds1_val = ert_model1.predict(valid)\n",
    "ranked_preds_plot('SalePrice', valid, ert_preds1_val)\n",
    "ert_preds1_test = ert_model1.predict(test)\n",
    "gen_submission2(ert_preds1_test)"
   ]
  },
  {
   "cell_type": "markdown",
   "metadata": {},
   "source": [
    "## H2O Gradient Boosted Machine"
   ]
  },
  {
   "cell_type": "code",
   "execution_count": 86,
   "metadata": {},
   "outputs": [
    {
     "name": "stdout",
     "output_type": "stream",
     "text": [
      "gbm Model Build progress: |███████████████████████████████████████████████| 100%\n",
      "Model Details\n",
      "=============\n",
      "H2OGradientBoostingEstimator :  Gradient Boosting Machine\n",
      "Model Key:  GBM_model_python_1529618379651_4\n",
      "\n",
      "\n",
      "ModelMetricsRegression: gbm\n",
      "** Reported on train data. **\n",
      "\n",
      "MSE: 0.0039698124629336225\n",
      "RMSE: 0.0630064477885686\n",
      "MAE: 0.04131523239888694\n",
      "RMSLE: 0.0049475502324747055\n",
      "Mean Residual Deviance: 0.0039698124629336225\n",
      "\n",
      "ModelMetricsRegression: gbm\n",
      "** Reported on validation data. **\n",
      "\n",
      "MSE: 0.01270129141531272\n",
      "RMSE: 0.11270000627911571\n",
      "MAE: 0.07858933869928172\n",
      "RMSLE: 0.008761841187236146\n",
      "Mean Residual Deviance: 0.01270129141531272\n",
      "\n",
      "ModelMetricsRegression: gbm\n",
      "** Reported on cross-validation data. **\n",
      "\n",
      "MSE: 0.015696138671406352\n",
      "RMSE: 0.12528423153536264\n",
      "MAE: 0.08715101627429216\n",
      "RMSLE: 0.009755335694698043\n",
      "Mean Residual Deviance: 0.015696138671406352\n",
      "Cross-Validation Metrics Summary: \n"
     ]
    },
    {
     "data": {
      "text/html": [
       "<div style=\"overflow:auto\"><table style=\"width:50%\"><tr><td><b></b></td>\n",
       "<td><b>mean</b></td>\n",
       "<td><b>sd</b></td>\n",
       "<td><b>cv_1_valid</b></td>\n",
       "<td><b>cv_2_valid</b></td>\n",
       "<td><b>cv_3_valid</b></td></tr>\n",
       "<tr><td>mae</td>\n",
       "<td>0.0869699</td>\n",
       "<td>0.0029357</td>\n",
       "<td>0.0849200</td>\n",
       "<td>0.0927596</td>\n",
       "<td>0.0832301</td></tr>\n",
       "<tr><td>mean_residual_deviance</td>\n",
       "<td>0.0156031</td>\n",
       "<td>0.0014616</td>\n",
       "<td>0.0139186</td>\n",
       "<td>0.0185144</td>\n",
       "<td>0.0143763</td></tr>\n",
       "<tr><td>mse</td>\n",
       "<td>0.0156031</td>\n",
       "<td>0.0014616</td>\n",
       "<td>0.0139186</td>\n",
       "<td>0.0185144</td>\n",
       "<td>0.0143763</td></tr>\n",
       "<tr><td>r2</td>\n",
       "<td>0.8995531</td>\n",
       "<td>0.0081321</td>\n",
       "<td>0.9084831</td>\n",
       "<td>0.8833159</td>\n",
       "<td>0.9068601</td></tr>\n",
       "<tr><td>residual_deviance</td>\n",
       "<td>0.0156031</td>\n",
       "<td>0.0014616</td>\n",
       "<td>0.0139186</td>\n",
       "<td>0.0185144</td>\n",
       "<td>0.0143763</td></tr>\n",
       "<tr><td>rmse</td>\n",
       "<td>0.1246486</td>\n",
       "<td>0.0057364</td>\n",
       "<td>0.1179771</td>\n",
       "<td>0.1360676</td>\n",
       "<td>0.1199012</td></tr>\n",
       "<tr><td>rmsle</td>\n",
       "<td>0.0096987</td>\n",
       "<td>0.0004919</td>\n",
       "<td>0.0090484</td>\n",
       "<td>0.0106632</td>\n",
       "<td>0.0093847</td></tr></table></div>"
      ],
      "text/plain": [
       "                        mean        sd           cv_1_valid    cv_2_valid    cv_3_valid\n",
       "----------------------  ----------  -----------  ------------  ------------  ------------\n",
       "mae                     0.0869699   0.00293566   0.08492       0.0927596     0.0832301\n",
       "mean_residual_deviance  0.0156031   0.00146163   0.0139186     0.0185144     0.0143763\n",
       "mse                     0.0156031   0.00146163   0.0139186     0.0185144     0.0143763\n",
       "r2                      0.899553    0.00813207   0.908483      0.883316      0.90686\n",
       "residual_deviance       0.0156031   0.00146163   0.0139186     0.0185144     0.0143763\n",
       "rmse                    0.124649    0.00573644   0.117977      0.136068      0.119901\n",
       "rmsle                   0.00969875  0.000491894  0.00904837    0.0106632     0.00938468"
      ]
     },
     "metadata": {},
     "output_type": "display_data"
    },
    {
     "name": "stdout",
     "output_type": "stream",
     "text": [
      "Scoring History: \n"
     ]
    },
    {
     "data": {
      "text/html": [
       "<div style=\"overflow:auto\"><table style=\"width:50%\"><tr><td><b></b></td>\n",
       "<td><b>timestamp</b></td>\n",
       "<td><b>duration</b></td>\n",
       "<td><b>number_of_trees</b></td>\n",
       "<td><b>training_rmse</b></td>\n",
       "<td><b>training_mae</b></td>\n",
       "<td><b>training_deviance</b></td>\n",
       "<td><b>validation_rmse</b></td>\n",
       "<td><b>validation_mae</b></td>\n",
       "<td><b>validation_deviance</b></td></tr>\n",
       "<tr><td></td>\n",
       "<td>2018-06-21 18:06:36</td>\n",
       "<td> 4 min 39.937 sec</td>\n",
       "<td>0.0</td>\n",
       "<td>0.3942873</td>\n",
       "<td>0.3051797</td>\n",
       "<td>0.1554625</td>\n",
       "<td>0.4104377</td>\n",
       "<td>0.3211808</td>\n",
       "<td>0.1684591</td></tr>\n",
       "<tr><td></td>\n",
       "<td>2018-06-21 18:06:36</td>\n",
       "<td> 4 min 39.968 sec</td>\n",
       "<td>1.0</td>\n",
       "<td>0.3929094</td>\n",
       "<td>0.3039471</td>\n",
       "<td>0.1543778</td>\n",
       "<td>0.4089498</td>\n",
       "<td>0.3198085</td>\n",
       "<td>0.1672400</td></tr>\n",
       "<tr><td></td>\n",
       "<td>2018-06-21 18:06:36</td>\n",
       "<td> 4 min 40.000 sec</td>\n",
       "<td>2.0</td>\n",
       "<td>0.3917399</td>\n",
       "<td>0.3029358</td>\n",
       "<td>0.1534602</td>\n",
       "<td>0.4078327</td>\n",
       "<td>0.3188805</td>\n",
       "<td>0.1663275</td></tr>\n",
       "<tr><td></td>\n",
       "<td>2018-06-21 18:06:36</td>\n",
       "<td> 4 min 40.018 sec</td>\n",
       "<td>3.0</td>\n",
       "<td>0.3902612</td>\n",
       "<td>0.3017147</td>\n",
       "<td>0.1523038</td>\n",
       "<td>0.4061933</td>\n",
       "<td>0.3175217</td>\n",
       "<td>0.1649930</td></tr>\n",
       "<tr><td></td>\n",
       "<td>2018-06-21 18:06:36</td>\n",
       "<td> 4 min 40.033 sec</td>\n",
       "<td>4.0</td>\n",
       "<td>0.3888082</td>\n",
       "<td>0.3004311</td>\n",
       "<td>0.1511718</td>\n",
       "<td>0.4046933</td>\n",
       "<td>0.3161732</td>\n",
       "<td>0.1637766</td></tr>\n",
       "<tr><td>---</td>\n",
       "<td>---</td>\n",
       "<td>---</td>\n",
       "<td>---</td>\n",
       "<td>---</td>\n",
       "<td>---</td>\n",
       "<td>---</td>\n",
       "<td>---</td>\n",
       "<td>---</td>\n",
       "<td>---</td></tr>\n",
       "<tr><td></td>\n",
       "<td>2018-06-21 18:08:16</td>\n",
       "<td> 6 min 20.118 sec</td>\n",
       "<td>7099.0</td>\n",
       "<td>0.0664337</td>\n",
       "<td>0.0435812</td>\n",
       "<td>0.0044134</td>\n",
       "<td>0.1119568</td>\n",
       "<td>0.0776197</td>\n",
       "<td>0.0125343</td></tr>\n",
       "<tr><td></td>\n",
       "<td>2018-06-21 18:08:20</td>\n",
       "<td> 6 min 24.125 sec</td>\n",
       "<td>7364.0</td>\n",
       "<td>0.0654140</td>\n",
       "<td>0.0429958</td>\n",
       "<td>0.0042790</td>\n",
       "<td>0.1120950</td>\n",
       "<td>0.0780202</td>\n",
       "<td>0.0125653</td></tr>\n",
       "<tr><td></td>\n",
       "<td>2018-06-21 18:08:24</td>\n",
       "<td> 6 min 28.133 sec</td>\n",
       "<td>7634.0</td>\n",
       "<td>0.0645332</td>\n",
       "<td>0.0423149</td>\n",
       "<td>0.0041645</td>\n",
       "<td>0.1122551</td>\n",
       "<td>0.0784243</td>\n",
       "<td>0.0126012</td></tr>\n",
       "<tr><td></td>\n",
       "<td>2018-06-21 18:08:28</td>\n",
       "<td> 6 min 32.135 sec</td>\n",
       "<td>7940.0</td>\n",
       "<td>0.0635366</td>\n",
       "<td>0.0416979</td>\n",
       "<td>0.0040369</td>\n",
       "<td>0.1125698</td>\n",
       "<td>0.0785431</td>\n",
       "<td>0.0126720</td></tr>\n",
       "<tr><td></td>\n",
       "<td>2018-06-21 18:08:30</td>\n",
       "<td> 6 min 34.197 sec</td>\n",
       "<td>8116.0</td>\n",
       "<td>0.0630064</td>\n",
       "<td>0.0413152</td>\n",
       "<td>0.0039698</td>\n",
       "<td>0.1127000</td>\n",
       "<td>0.0785893</td>\n",
       "<td>0.0127013</td></tr></table></div>"
      ],
      "text/plain": [
       "     timestamp            duration          number_of_trees    training_rmse        training_mae          training_deviance      validation_rmse      validation_mae       validation_deviance\n",
       "---  -------------------  ----------------  -----------------  -------------------  --------------------  ---------------------  -------------------  -------------------  ---------------------\n",
       "     2018-06-21 18:06:36  4 min 39.937 sec  0.0                0.3942873257888661   0.3051796790785457    0.15546249527773542    0.4104377323539839   0.32118084436764316  0.16845913213988054\n",
       "     2018-06-21 18:06:36  4 min 39.968 sec  1.0                0.39290943868847783  0.30394713083902997   0.15437782701049474    0.4089498355680031   0.31980846395032303  0.16723996801109675\n",
       "     2018-06-21 18:06:36  4 min 40.000 sec  2.0                0.39173994621339986  0.30293576738985645   0.15346018545927742    0.40783268518115456  0.3188805217510344   0.16632749910207073\n",
       "     2018-06-21 18:06:36  4 min 40.018 sec  3.0                0.39026116741004907  0.30171469643276866   0.15230377878825435    0.4061933219263122   0.3175217404760033   0.16499301477753267\n",
       "     2018-06-21 18:06:36  4 min 40.033 sec  4.0                0.3888081625169095   0.3004311314762419    0.15117178723977548    0.4046932563288998   0.31617315317401595  0.1637766317180886\n",
       "---  ---                  ---               ---                ---                  ---                   ---                    ---                  ---                  ---\n",
       "     2018-06-21 18:08:16  6 min 20.118 sec  7099.0             0.06643365234918239  0.04358115393109432   0.004413430164452026   0.11195683666523891  0.07761969564645181  0.012534333276086985\n",
       "     2018-06-21 18:08:20  6 min 24.125 sec  7364.0             0.06541398560366424  0.04299584856446296   0.004278989512556392   0.11209501880204148  0.07802019442450665  0.012565293240230034\n",
       "     2018-06-21 18:08:24  6 min 28.133 sec  7634.0             0.0645332022371043   0.042314876122297     0.004164534190975004   0.11225513857249393  0.07842430589133699  0.012601216135929816\n",
       "     2018-06-21 18:08:28  6 min 32.135 sec  7940.0             0.06353660814919977  0.041697910304996304  0.00403690057510496    0.11256978892803364  0.07854314589787208  0.012671957379302044\n",
       "     2018-06-21 18:08:30  6 min 34.197 sec  8116.0             0.0630064477885686   0.04131523239888694   0.0039698124629336225  0.11270000627911571  0.07858933869928172  0.01270129141531272"
      ]
     },
     "metadata": {},
     "output_type": "display_data"
    },
    {
     "name": "stdout",
     "output_type": "stream",
     "text": [
      "\n",
      "See the whole table with table.as_data_frame()\n",
      "Variable Importances: \n"
     ]
    },
    {
     "data": {
      "text/html": [
       "<div style=\"overflow:auto\"><table style=\"width:50%\"><tr><td><b>variable</b></td>\n",
       "<td><b>relative_importance</b></td>\n",
       "<td><b>scaled_importance</b></td>\n",
       "<td><b>percentage</b></td></tr>\n",
       "<tr><td>OverallQual</td>\n",
       "<td>4923.1606445</td>\n",
       "<td>1.0</td>\n",
       "<td>0.4469972</td></tr>\n",
       "<tr><td>Neighborhood</td>\n",
       "<td>2413.4860840</td>\n",
       "<td>0.4902310</td>\n",
       "<td>0.2191319</td></tr>\n",
       "<tr><td>GrLivArea</td>\n",
       "<td>903.0767212</td>\n",
       "<td>0.1834343</td>\n",
       "<td>0.0819946</td></tr>\n",
       "<tr><td>KitchenQual</td>\n",
       "<td>453.3946838</td>\n",
       "<td>0.0920942</td>\n",
       "<td>0.0411659</td></tr>\n",
       "<tr><td>FireplaceQu</td>\n",
       "<td>195.1079102</td>\n",
       "<td>0.0396306</td>\n",
       "<td>0.0177148</td></tr>\n",
       "<tr><td>---</td>\n",
       "<td>---</td>\n",
       "<td>---</td>\n",
       "<td>---</td></tr>\n",
       "<tr><td>SaleType_ConLI</td>\n",
       "<td>0.0</td>\n",
       "<td>0.0</td>\n",
       "<td>0.0</td></tr>\n",
       "<tr><td>SaleType_ConLw</td>\n",
       "<td>0.0</td>\n",
       "<td>0.0</td>\n",
       "<td>0.0</td></tr>\n",
       "<tr><td>SaleType_Oth</td>\n",
       "<td>0.0</td>\n",
       "<td>0.0</td>\n",
       "<td>0.0</td></tr>\n",
       "<tr><td>SaleCondition_Alloca</td>\n",
       "<td>0.0</td>\n",
       "<td>0.0</td>\n",
       "<td>0.0</td></tr>\n",
       "<tr><td>SaleCondition_Family</td>\n",
       "<td>0.0</td>\n",
       "<td>0.0</td>\n",
       "<td>0.0</td></tr></table></div>"
      ],
      "text/plain": [
       "variable              relative_importance    scaled_importance    percentage\n",
       "--------------------  ---------------------  -------------------  --------------------\n",
       "OverallQual           4923.16064453125       1.0                  0.4469972406990357\n",
       "Neighborhood          2413.486083984375      0.49023102397954976  0.21913191502392154\n",
       "GrLivArea             903.0767211914062      0.183434339522226    0.08199464361588508\n",
       "KitchenQual           453.3946838378906      0.0920942290074428   0.041165866250632024\n",
       "FireplaceQu           195.10791015625        0.03963062029531374  0.017714777919196442\n",
       "---                   ---                    ---                  ---\n",
       "SaleType_ConLI        0.0                    0.0                  0.0\n",
       "SaleType_ConLw        0.0                    0.0                  0.0\n",
       "SaleType_Oth          0.0                    0.0                  0.0\n",
       "SaleCondition_Alloca  0.0                    0.0                  0.0\n",
       "SaleCondition_Family  0.0                    0.0                  0.0"
      ]
     },
     "metadata": {},
     "output_type": "display_data"
    },
    {
     "name": "stdout",
     "output_type": "stream",
     "text": [
      "\n",
      "See the whole table with table.as_data_frame()\n",
      "\n",
      "gbm prediction progress: |████████████████████████████████████████████████| 100%\n"
     ]
    },
    {
     "data": {
      "text/html": [
       "<table>\n",
       "<thead>\n",
       "<tr><th style=\"text-align: right;\">  SalePrice</th><th style=\"text-align: right;\">  predict</th></tr>\n",
       "</thead>\n",
       "<tbody>\n",
       "<tr><td style=\"text-align: right;\">    11.8494</td><td style=\"text-align: right;\">  12.1956</td></tr>\n",
       "<tr><td style=\"text-align: right;\">    12.2061</td><td style=\"text-align: right;\">  12.2901</td></tr>\n",
       "<tr><td style=\"text-align: right;\">    11.6784</td><td style=\"text-align: right;\">  11.745 </td></tr>\n",
       "<tr><td style=\"text-align: right;\">    11.7906</td><td style=\"text-align: right;\">  11.824 </td></tr>\n",
       "<tr><td style=\"text-align: right;\">    11.9117</td><td style=\"text-align: right;\">  11.9319</td></tr>\n",
       "<tr><td style=\"text-align: right;\">    11.9767</td><td style=\"text-align: right;\">  11.9009</td></tr>\n",
       "<tr><td style=\"text-align: right;\">    11.8451</td><td style=\"text-align: right;\">  11.7625</td></tr>\n",
       "<tr><td style=\"text-align: right;\">    11.1346</td><td style=\"text-align: right;\">  11.1759</td></tr>\n",
       "<tr><td style=\"text-align: right;\">    11.914 </td><td style=\"text-align: right;\">  11.8088</td></tr>\n",
       "<tr><td style=\"text-align: right;\">    11.8845</td><td style=\"text-align: right;\">  11.9076</td></tr>\n",
       "</tbody>\n",
       "</table>"
      ]
     },
     "metadata": {},
     "output_type": "display_data"
    },
    {
     "name": "stdout",
     "output_type": "stream",
     "text": [
      "\n",
      "gbm prediction progress: |████████████████████████████████████████████████| 100%\n"
     ]
    },
    {
     "data": {
      "image/png": "[encoded data removed]",
      "text/plain": [
       "<Figure size 432x288 with 1 Axes>"
      ]
     },
     "metadata": {},
     "output_type": "display_data"
    }
   ],
   "source": [
    "# initialize H2O GBM\n",
    "h2o_gbm_model = H2OGradientBoostingEstimator(\n",
    "    ntrees = 10000,\n",
    "    learn_rate = 0.005,\n",
    "    sample_rate = 0.1, \n",
    "    col_sample_rate = 0.8,\n",
    "    max_depth = 5,\n",
    "    nfolds = 3,\n",
    "    keep_cross_validation_predictions=True,\n",
    "    stopping_rounds = 10,\n",
    "    seed = 12345)\n",
    "\n",
    "# execute training\n",
    "h2o_gbm_model.train(x=glm_cols,\n",
    "                    y='SalePrice',\n",
    "                    training_frame=train,\n",
    "                    validation_frame=valid)\n",
    "\n",
    "# print model information/create submission\n",
    "print(h2o_gbm_model)\n",
    "h2o_gbm_preds1_val = h2o_gbm_model.predict(valid)\n",
    "ranked_preds_plot('SalePrice', valid, h2o_gbm_preds1_val)\n",
    "h2o_gbm_preds1_test = h2o_gbm_model.predict(test)\n",
    "gen_submission2(h2o_gbm_preds1_test)"
   ]
  },
  {
   "cell_type": "markdown",
   "metadata": {},
   "source": [
    "## H2O XGBoost"
   ]
  },
  {
   "cell_type": "code",
   "execution_count": 87,
   "metadata": {},
   "outputs": [],
   "source": [
    "# H2O XGBOOST IS NOT SUPPORTED ON WINDOWS CURRENTLY\n",
    "\n",
    "# initialize XGB GBM\n",
    "# h2o_xgb_model = H2OXGBoostEstimator(\n",
    "#     ntrees = 10000,\n",
    "#     learn_rate = 0.005,\n",
    "#     sample_rate = 0.1, \n",
    "#     col_sample_rate = 0.8,\n",
    "#     max_depth = 5,\n",
    "#     nfolds = 3,\n",
    "#     keep_cross_validation_predictions=True,\n",
    "#     stopping_rounds = 10,\n",
    "#     seed = 12345)\n",
    "\n",
    "# # execute training \n",
    "# h2o_xgb_model.train(x=glm_cols,\n",
    "#                     y='SalePrice',\n",
    "#                     training_frame=train,\n",
    "#                     validation_frame=valid)\n",
    "\n",
    "# # print model information/create submission\n",
    "# print(h2o_xgb_model)\n",
    "# h2o_xgb_preds1_val = h2o_xgb_model.predict(valid)\n",
    "# ranked_preds_plot('SalePrice', valid, h2o_xgb_preds1_val) \n",
    "# h2o_xgb_preds1_test = h2o_xgb_model.predict(test)\n",
    "# gen_submission2(h2o_xgb_preds1_test)"
   ]
  },
  {
   "cell_type": "markdown",
   "metadata": {},
   "source": [
    "## H2O Stacked Model of all previous models"
   ]
  },
  {
   "cell_type": "code",
   "execution_count": 88,
   "metadata": {},
   "outputs": [
    {
     "name": "stdout",
     "output_type": "stream",
     "text": [
      "stackedensemble Model Build progress: |███████████████████████████████████| 100%\n",
      "Model Details\n",
      "=============\n",
      "H2OStackedEnsembleEstimator :  Stacked Ensemble\n",
      "Model Key:  StackedEnsemble_model_python_1529618379651_5\n",
      "No model summary for this model\n",
      "\n",
      "\n",
      "ModelMetricsRegressionGLM: stackedensemble\n",
      "** Reported on train data. **\n",
      "\n",
      "MSE: 0.0033277874159356306\n",
      "RMSE: 0.057686977871402055\n",
      "MAE: 0.0403200210530789\n",
      "RMSLE: 0.004503376169256075\n",
      "R^2: 0.9785942750372649\n",
      "Mean Residual Deviance: 0.0033277874159356306\n",
      "Null degrees of freedom: 992\n",
      "Residual degrees of freedom: 989\n",
      "Null deviance: 154.37425781079114\n",
      "Residual deviance: 3.304492904024081\n",
      "AIC: -2837.497575093726\n",
      "\n",
      "ModelMetricsRegressionGLM: stackedensemble\n",
      "** Reported on validation data. **\n",
      "\n",
      "MSE: 0.012712766326572042\n",
      "RMSE: 0.11275090388361435\n",
      "MAE: 0.07988444214055701\n",
      "RMSLE: 0.00876190758843001\n",
      "R^2: 0.9242040814189961\n",
      "Mean Residual Deviance: 0.012712766326572042\n",
      "Null degrees of freedom: 456\n",
      "Residual degrees of freedom: 453\n",
      "Null deviance: 76.98582338792609\n",
      "Residual deviance: 5.809734211243423\n",
      "AIC: -687.9630761587163\n",
      "\n",
      "stackedensemble prediction progress: |████████████████████████████████████| 100%\n"
     ]
    },
    {
     "data": {
      "text/html": [
       "<table>\n",
       "<thead>\n",
       "<tr><th style=\"text-align: right;\">  SalePrice</th><th style=\"text-align: right;\">  predict</th></tr>\n",
       "</thead>\n",
       "<tbody>\n",
       "<tr><td style=\"text-align: right;\">    11.8494</td><td style=\"text-align: right;\">  12.1518</td></tr>\n",
       "<tr><td style=\"text-align: right;\">    12.2061</td><td style=\"text-align: right;\">  12.2761</td></tr>\n",
       "<tr><td style=\"text-align: right;\">    11.6784</td><td style=\"text-align: right;\">  11.7451</td></tr>\n",
       "<tr><td style=\"text-align: right;\">    11.7906</td><td style=\"text-align: right;\">  11.7863</td></tr>\n",
       "<tr><td style=\"text-align: right;\">    11.9117</td><td style=\"text-align: right;\">  11.9321</td></tr>\n",
       "<tr><td style=\"text-align: right;\">    11.9767</td><td style=\"text-align: right;\">  11.9154</td></tr>\n",
       "<tr><td style=\"text-align: right;\">    11.8451</td><td style=\"text-align: right;\">  11.7535</td></tr>\n",
       "<tr><td style=\"text-align: right;\">    11.1346</td><td style=\"text-align: right;\">  11.2014</td></tr>\n",
       "<tr><td style=\"text-align: right;\">    11.914 </td><td style=\"text-align: right;\">  11.8158</td></tr>\n",
       "<tr><td style=\"text-align: right;\">    11.8845</td><td style=\"text-align: right;\">  11.938 </td></tr>\n",
       "</tbody>\n",
       "</table>"
      ]
     },
     "metadata": {},
     "output_type": "display_data"
    },
    {
     "name": "stdout",
     "output_type": "stream",
     "text": [
      "\n",
      "stackedensemble prediction progress: |████████████████████████████████████| 100%\n"
     ]
    },
    {
     "data": {
      "image/png": "[encoded data removed]",
      "text/plain": [
       "<Figure size 432x288 with 1 Axes>"
      ]
     },
     "metadata": {},
     "output_type": "display_data"
    }
   ],
   "source": [
    "stack = H2OStackedEnsembleEstimator(training_frame=train, \n",
    "                                    validation_frame=valid, \n",
    "                                    base_models=[rf_model1, ert_model1, \n",
    "                                                 h2o_gbm_model])\n",
    "\n",
    "stack.train(x=glm_cols,\n",
    "            y='SalePrice',\n",
    "            training_frame=train,\n",
    "            validation_frame=valid)\n",
    "\n",
    "# print model information/create submission\n",
    "print(stack)\n",
    "stack_preds1_val = stack.predict(valid)\n",
    "ranked_preds_plot('SalePrice', valid, stack_preds1_val) \n",
    "stack_preds1_test = stack.predict(test)\n",
    "gen_submission2(stack_preds1_test)"
   ]
  },
  {
   "cell_type": "markdown",
   "metadata": {},
   "source": [
    "## XGBoost Model"
   ]
  },
  {
   "cell_type": "code",
   "execution_count": 89,
   "metadata": {},
   "outputs": [],
   "source": [
    "# Different submission generator\n",
    "\n",
    "import re\n",
    "import time\n",
    "\n",
    "def gen_submission3(preds, test=test):\n",
    "\n",
    "    \"\"\" Generates submission file for Kaggle House Prices contest.\n",
    "    \n",
    "    :param preds: Column vector of predictions.\n",
    "    :param test: Test data.\n",
    "    \n",
    "    \"\"\"\n",
    "    \n",
    "    # create time stamp\n",
    "    time_stamp = re.sub('[: ]', '_', time.asctime())\n",
    "\n",
    "    # create predictions column\n",
    "    sub = test['Id'].cbind(preds.exp())\n",
    "    sub.columns = ['Id', 'SalePrice']\n",
    "    \n",
    "    # save file for submission\n",
    "    sub_fname = 'C:/Users/Davee/Google Drive/GWU MBA/Summer 2018/Machine Learning/submission_XGBoost.csv'\n",
    "    h2o.download_csv(sub, sub_fname)"
   ]
  },
  {
   "cell_type": "code",
   "execution_count": 92,
   "metadata": {},
   "outputs": [
    {
     "name": "stdout",
     "output_type": "stream",
     "text": [
      "[0]\ttrain-rmse:0.380429\teval-rmse:0.396433\n",
      "Multiple eval metrics have been passed: 'eval-rmse' will be used for early stopping.\n",
      "\n",
      "Will train until eval-rmse hasn't improved in 50 rounds.\n",
      "[1]\ttrain-rmse:0.368248\teval-rmse:0.384038\n",
      "[2]\ttrain-rmse:0.356451\teval-rmse:0.371982\n",
      "[3]\ttrain-rmse:0.345604\teval-rmse:0.362656\n",
      "[4]\ttrain-rmse:0.334213\teval-rmse:0.35149\n",
      "[5]\ttrain-rmse:0.326092\teval-rmse:0.343439\n",
      "[6]\ttrain-rmse:0.31777\teval-rmse:0.336112\n",
      "[7]\ttrain-rmse:0.30836\teval-rmse:0.326717\n",
      "[8]\ttrain-rmse:0.299284\teval-rmse:0.31847\n",
      "[9]\ttrain-rmse:0.290561\teval-rmse:0.308865\n",
      "[10]\ttrain-rmse:0.283037\teval-rmse:0.301968\n",
      "[11]\ttrain-rmse:0.275097\teval-rmse:0.293688\n",
      "[12]\ttrain-rmse:0.268855\teval-rmse:0.287352\n",
      "[13]\ttrain-rmse:0.263138\teval-rmse:0.282175\n",
      "[14]\ttrain-rmse:0.255587\teval-rmse:0.274634\n",
      "[15]\ttrain-rmse:0.250165\teval-rmse:0.269508\n",
      "[16]\ttrain-rmse:0.243465\teval-rmse:0.262806\n",
      "[17]\ttrain-rmse:0.237786\teval-rmse:0.256686\n",
      "[18]\ttrain-rmse:0.232495\teval-rmse:0.250796\n",
      "[19]\ttrain-rmse:0.227586\teval-rmse:0.246502\n",
      "[20]\ttrain-rmse:0.222453\teval-rmse:0.239633\n",
      "[21]\ttrain-rmse:0.217646\teval-rmse:0.234787\n",
      "[22]\ttrain-rmse:0.213283\teval-rmse:0.2308\n",
      "[23]\ttrain-rmse:0.210105\teval-rmse:0.22755\n",
      "[24]\ttrain-rmse:0.205478\teval-rmse:0.222963\n",
      "[25]\ttrain-rmse:0.201587\teval-rmse:0.219094\n",
      "[26]\ttrain-rmse:0.198801\teval-rmse:0.216473\n",
      "[27]\ttrain-rmse:0.194781\teval-rmse:0.212386\n",
      "[28]\ttrain-rmse:0.190547\teval-rmse:0.20841\n",
      "[29]\ttrain-rmse:0.18772\teval-rmse:0.205028\n",
      "[30]\ttrain-rmse:0.184034\teval-rmse:0.201805\n",
      "[31]\ttrain-rmse:0.180638\teval-rmse:0.197591\n",
      "[32]\ttrain-rmse:0.177632\teval-rmse:0.194502\n",
      "[33]\ttrain-rmse:0.174568\teval-rmse:0.191724\n",
      "[34]\ttrain-rmse:0.171397\teval-rmse:0.188371\n",
      "[35]\ttrain-rmse:0.168988\teval-rmse:0.186018\n",
      "[36]\ttrain-rmse:0.166602\teval-rmse:0.183959\n",
      "[37]\ttrain-rmse:0.165013\teval-rmse:0.182111\n",
      "[38]\ttrain-rmse:0.162355\teval-rmse:0.180076\n",
      "[39]\ttrain-rmse:0.159494\teval-rmse:0.177248\n",
      "[40]\ttrain-rmse:0.156913\teval-rmse:0.175293\n",
      "[41]\ttrain-rmse:0.153986\teval-rmse:0.172725\n",
      "[42]\ttrain-rmse:0.152186\teval-rmse:0.170787\n",
      "[43]\ttrain-rmse:0.14998\teval-rmse:0.168402\n",
      "[44]\ttrain-rmse:0.148728\teval-rmse:0.167273\n",
      "[45]\ttrain-rmse:0.146804\teval-rmse:0.165167\n",
      "[46]\ttrain-rmse:0.145153\teval-rmse:0.163834\n",
      "[47]\ttrain-rmse:0.143144\teval-rmse:0.161212\n",
      "[48]\ttrain-rmse:0.142077\teval-rmse:0.159783\n",
      "[49]\ttrain-rmse:0.14046\teval-rmse:0.158581\n",
      "[50]\ttrain-rmse:0.139175\teval-rmse:0.15735\n",
      "[51]\ttrain-rmse:0.137283\teval-rmse:0.155128\n",
      "[52]\ttrain-rmse:0.135874\teval-rmse:0.153916\n",
      "[53]\ttrain-rmse:0.135066\teval-rmse:0.153186\n",
      "[54]\ttrain-rmse:0.13385\teval-rmse:0.151873\n",
      "[55]\ttrain-rmse:0.133009\teval-rmse:0.151072\n",
      "[56]\ttrain-rmse:0.13229\teval-rmse:0.150241\n",
      "[57]\ttrain-rmse:0.131271\teval-rmse:0.149881\n",
      "[58]\ttrain-rmse:0.13025\teval-rmse:0.149015\n",
      "[59]\ttrain-rmse:0.128823\teval-rmse:0.148022\n",
      "[60]\ttrain-rmse:0.127972\teval-rmse:0.14702\n",
      "[61]\ttrain-rmse:0.126971\teval-rmse:0.146106\n",
      "[62]\ttrain-rmse:0.126115\teval-rmse:0.14497\n",
      "[63]\ttrain-rmse:0.125411\teval-rmse:0.144341\n",
      "[64]\ttrain-rmse:0.124884\teval-rmse:0.144399\n",
      "[65]\ttrain-rmse:0.124051\teval-rmse:0.143647\n",
      "[66]\ttrain-rmse:0.123525\teval-rmse:0.143224\n",
      "[67]\ttrain-rmse:0.122705\teval-rmse:0.142299\n",
      "[68]\ttrain-rmse:0.122148\teval-rmse:0.14191\n",
      "[69]\ttrain-rmse:0.120905\teval-rmse:0.140399\n",
      "[70]\ttrain-rmse:0.120153\teval-rmse:0.139969\n",
      "[71]\ttrain-rmse:0.119668\teval-rmse:0.139693\n",
      "[72]\ttrain-rmse:0.118749\teval-rmse:0.138723\n",
      "[73]\ttrain-rmse:0.117974\teval-rmse:0.138086\n",
      "[74]\ttrain-rmse:0.117693\teval-rmse:0.137563\n",
      "[75]\ttrain-rmse:0.116625\teval-rmse:0.136555\n",
      "[76]\ttrain-rmse:0.11629\teval-rmse:0.136204\n",
      "[77]\ttrain-rmse:0.115232\teval-rmse:0.13509\n",
      "[78]\ttrain-rmse:0.114366\teval-rmse:0.134117\n",
      "[79]\ttrain-rmse:0.113682\teval-rmse:0.133481\n",
      "[80]\ttrain-rmse:0.113172\teval-rmse:0.132776\n",
      "[81]\ttrain-rmse:0.112948\teval-rmse:0.132877\n",
      "[82]\ttrain-rmse:0.112465\teval-rmse:0.132917\n",
      "[83]\ttrain-rmse:0.111554\teval-rmse:0.131924\n",
      "[84]\ttrain-rmse:0.111092\teval-rmse:0.132068\n",
      "[85]\ttrain-rmse:0.1107\teval-rmse:0.131958\n",
      "[86]\ttrain-rmse:0.110476\teval-rmse:0.131606\n",
      "[87]\ttrain-rmse:0.109893\teval-rmse:0.131381\n",
      "[88]\ttrain-rmse:0.109055\teval-rmse:0.130551\n",
      "[89]\ttrain-rmse:0.108543\teval-rmse:0.130232\n",
      "[90]\ttrain-rmse:0.10766\teval-rmse:0.12984\n",
      "[91]\ttrain-rmse:0.107098\teval-rmse:0.129987\n",
      "[92]\ttrain-rmse:0.106945\teval-rmse:0.129985\n",
      "[93]\ttrain-rmse:0.106282\teval-rmse:0.129493\n",
      "[94]\ttrain-rmse:0.105734\teval-rmse:0.128852\n",
      "[95]\ttrain-rmse:0.105254\teval-rmse:0.128356\n",
      "[96]\ttrain-rmse:0.104968\teval-rmse:0.128209\n",
      "[97]\ttrain-rmse:0.104676\teval-rmse:0.127931\n",
      "[98]\ttrain-rmse:0.10404\teval-rmse:0.12696\n",
      "[99]\ttrain-rmse:0.103467\teval-rmse:0.126546\n",
      "[100]\ttrain-rmse:0.102948\teval-rmse:0.12602\n",
      "[101]\ttrain-rmse:0.102669\teval-rmse:0.125685\n",
      "[102]\ttrain-rmse:0.10246\teval-rmse:0.125386\n",
      "[103]\ttrain-rmse:0.102323\teval-rmse:0.124995\n",
      "[104]\ttrain-rmse:0.1021\teval-rmse:0.124607\n",
      "[105]\ttrain-rmse:0.101755\teval-rmse:0.124711\n",
      "[106]\ttrain-rmse:0.101546\teval-rmse:0.12445\n",
      "[107]\ttrain-rmse:0.101292\teval-rmse:0.124262\n",
      "[108]\ttrain-rmse:0.100865\teval-rmse:0.12429\n",
      "[109]\ttrain-rmse:0.100391\teval-rmse:0.12417\n",
      "[110]\ttrain-rmse:0.100227\teval-rmse:0.12407\n",
      "[111]\ttrain-rmse:0.099905\teval-rmse:0.123442\n",
      "[112]\ttrain-rmse:0.099597\teval-rmse:0.123392\n",
      "[113]\ttrain-rmse:0.099261\teval-rmse:0.123294\n",
      "[114]\ttrain-rmse:0.098848\teval-rmse:0.12283\n",
      "[115]\ttrain-rmse:0.09873\teval-rmse:0.12247\n",
      "[116]\ttrain-rmse:0.098522\teval-rmse:0.122299\n",
      "[117]\ttrain-rmse:0.098298\teval-rmse:0.122279\n",
      "[118]\ttrain-rmse:0.098208\teval-rmse:0.122171\n",
      "[119]\ttrain-rmse:0.097505\teval-rmse:0.121941\n",
      "[120]\ttrain-rmse:0.09713\teval-rmse:0.122304\n",
      "[121]\ttrain-rmse:0.096903\teval-rmse:0.122037\n",
      "[122]\ttrain-rmse:0.096529\teval-rmse:0.122104\n",
      "[123]\ttrain-rmse:0.096586\teval-rmse:0.122294\n",
      "[124]\ttrain-rmse:0.096073\teval-rmse:0.121923\n",
      "[125]\ttrain-rmse:0.095749\teval-rmse:0.121713\n",
      "[126]\ttrain-rmse:0.095497\teval-rmse:0.121359\n",
      "[127]\ttrain-rmse:0.0954\teval-rmse:0.121305\n",
      "[128]\ttrain-rmse:0.095361\teval-rmse:0.121376\n",
      "[129]\ttrain-rmse:0.095244\teval-rmse:0.121358\n",
      "[130]\ttrain-rmse:0.094846\teval-rmse:0.120866\n",
      "[131]\ttrain-rmse:0.094607\teval-rmse:0.120841\n",
      "[132]\ttrain-rmse:0.094321\teval-rmse:0.120324\n",
      "[133]\ttrain-rmse:0.094044\teval-rmse:0.120303\n",
      "[134]\ttrain-rmse:0.093587\teval-rmse:0.120488\n",
      "[135]\ttrain-rmse:0.093209\teval-rmse:0.120029\n",
      "[136]\ttrain-rmse:0.09292\teval-rmse:0.11995\n",
      "[137]\ttrain-rmse:0.092776\teval-rmse:0.12\n",
      "[138]\ttrain-rmse:0.092651\teval-rmse:0.119843\n",
      "[139]\ttrain-rmse:0.092453\teval-rmse:0.119272\n",
      "[140]\ttrain-rmse:0.092143\teval-rmse:0.119117\n",
      "[141]\ttrain-rmse:0.091552\teval-rmse:0.119183\n",
      "[142]\ttrain-rmse:0.091474\teval-rmse:0.119191\n",
      "[143]\ttrain-rmse:0.091296\teval-rmse:0.119382\n",
      "[144]\ttrain-rmse:0.091226\teval-rmse:0.119295\n",
      "[145]\ttrain-rmse:0.091133\teval-rmse:0.119176\n",
      "[146]\ttrain-rmse:0.09107\teval-rmse:0.119246\n",
      "[147]\ttrain-rmse:0.09084\teval-rmse:0.119312\n",
      "[148]\ttrain-rmse:0.090877\teval-rmse:0.119354\n",
      "[149]\ttrain-rmse:0.090695\teval-rmse:0.119571\n",
      "[150]\ttrain-rmse:0.090557\teval-rmse:0.119492\n",
      "[151]\ttrain-rmse:0.090357\teval-rmse:0.119808\n",
      "[152]\ttrain-rmse:0.090201\teval-rmse:0.11949\n",
      "[153]\ttrain-rmse:0.090006\teval-rmse:0.119625\n",
      "[154]\ttrain-rmse:0.089991\teval-rmse:0.119988\n",
      "[155]\ttrain-rmse:0.089769\teval-rmse:0.120064\n",
      "[156]\ttrain-rmse:0.089627\teval-rmse:0.120259\n",
      "[157]\ttrain-rmse:0.089437\teval-rmse:0.12046\n",
      "[158]\ttrain-rmse:0.089037\teval-rmse:0.120405\n",
      "[159]\ttrain-rmse:0.088787\teval-rmse:0.120043\n",
      "[160]\ttrain-rmse:0.088708\teval-rmse:0.120068\n",
      "[161]\ttrain-rmse:0.088204\teval-rmse:0.119127\n",
      "[162]\ttrain-rmse:0.088163\teval-rmse:0.118969\n",
      "[163]\ttrain-rmse:0.087966\teval-rmse:0.118659\n",
      "[164]\ttrain-rmse:0.088009\teval-rmse:0.11862\n",
      "[165]\ttrain-rmse:0.087769\teval-rmse:0.118671\n",
      "[166]\ttrain-rmse:0.087584\teval-rmse:0.118764\n",
      "[167]\ttrain-rmse:0.087441\teval-rmse:0.118689\n",
      "[168]\ttrain-rmse:0.08748\teval-rmse:0.118372\n",
      "[169]\ttrain-rmse:0.08722\teval-rmse:0.118503\n",
      "[170]\ttrain-rmse:0.086973\teval-rmse:0.118551\n",
      "[171]\ttrain-rmse:0.086742\teval-rmse:0.118412\n",
      "[172]\ttrain-rmse:0.086645\teval-rmse:0.118333\n",
      "[173]\ttrain-rmse:0.086372\teval-rmse:0.118361\n",
      "[174]\ttrain-rmse:0.085984\teval-rmse:0.117939\n",
      "[175]\ttrain-rmse:0.085816\teval-rmse:0.117994\n",
      "[176]\ttrain-rmse:0.085626\teval-rmse:0.118281\n",
      "[177]\ttrain-rmse:0.085526\teval-rmse:0.118187\n",
      "[178]\ttrain-rmse:0.085356\teval-rmse:0.118188\n",
      "[179]\ttrain-rmse:0.085161\teval-rmse:0.117936\n",
      "[180]\ttrain-rmse:0.084972\teval-rmse:0.11767\n",
      "[181]\ttrain-rmse:0.084922\teval-rmse:0.117791\n",
      "[182]\ttrain-rmse:0.084664\teval-rmse:0.11772\n"
     ]
    },
    {
     "name": "stdout",
     "output_type": "stream",
     "text": [
      "[183]\ttrain-rmse:0.084459\teval-rmse:0.117781\n",
      "[184]\ttrain-rmse:0.084152\teval-rmse:0.117756\n",
      "[185]\ttrain-rmse:0.084051\teval-rmse:0.117575\n",
      "[186]\ttrain-rmse:0.084019\teval-rmse:0.117289\n",
      "[187]\ttrain-rmse:0.083817\teval-rmse:0.116976\n",
      "[188]\ttrain-rmse:0.083771\teval-rmse:0.117014\n",
      "[189]\ttrain-rmse:0.08357\teval-rmse:0.11687\n",
      "[190]\ttrain-rmse:0.083497\teval-rmse:0.116908\n",
      "[191]\ttrain-rmse:0.083481\teval-rmse:0.116869\n",
      "[192]\ttrain-rmse:0.083318\teval-rmse:0.11664\n",
      "[193]\ttrain-rmse:0.083238\teval-rmse:0.116432\n",
      "[194]\ttrain-rmse:0.083039\teval-rmse:0.116499\n",
      "[195]\ttrain-rmse:0.083007\teval-rmse:0.116352\n",
      "[196]\ttrain-rmse:0.082977\teval-rmse:0.116477\n",
      "[197]\ttrain-rmse:0.082604\teval-rmse:0.116448\n",
      "[198]\ttrain-rmse:0.082456\teval-rmse:0.116071\n",
      "[199]\ttrain-rmse:0.08225\teval-rmse:0.11613\n",
      "[200]\ttrain-rmse:0.08215\teval-rmse:0.116198\n",
      "[201]\ttrain-rmse:0.081933\teval-rmse:0.116242\n",
      "[202]\ttrain-rmse:0.081818\teval-rmse:0.116371\n",
      "[203]\ttrain-rmse:0.08167\teval-rmse:0.116493\n",
      "[204]\ttrain-rmse:0.081482\teval-rmse:0.116497\n",
      "[205]\ttrain-rmse:0.081206\teval-rmse:0.116439\n",
      "[206]\ttrain-rmse:0.081076\teval-rmse:0.116096\n",
      "[207]\ttrain-rmse:0.080923\teval-rmse:0.116126\n",
      "[208]\ttrain-rmse:0.080644\teval-rmse:0.115981\n",
      "[209]\ttrain-rmse:0.080405\teval-rmse:0.115928\n",
      "[210]\ttrain-rmse:0.080334\teval-rmse:0.11602\n",
      "[211]\ttrain-rmse:0.080262\teval-rmse:0.115721\n",
      "[212]\ttrain-rmse:0.08014\teval-rmse:0.11589\n",
      "[213]\ttrain-rmse:0.080059\teval-rmse:0.11554\n",
      "[214]\ttrain-rmse:0.07993\teval-rmse:0.115557\n",
      "[215]\ttrain-rmse:0.079731\teval-rmse:0.115467\n",
      "[216]\ttrain-rmse:0.079487\teval-rmse:0.115479\n",
      "[217]\ttrain-rmse:0.079395\teval-rmse:0.115521\n",
      "[218]\ttrain-rmse:0.079302\teval-rmse:0.11532\n",
      "[219]\ttrain-rmse:0.079165\teval-rmse:0.115292\n",
      "[220]\ttrain-rmse:0.079089\teval-rmse:0.115291\n",
      "[221]\ttrain-rmse:0.079048\teval-rmse:0.115276\n",
      "[222]\ttrain-rmse:0.078901\teval-rmse:0.115409\n",
      "[223]\ttrain-rmse:0.078769\teval-rmse:0.115538\n",
      "[224]\ttrain-rmse:0.078514\teval-rmse:0.115309\n",
      "[225]\ttrain-rmse:0.078436\teval-rmse:0.115368\n",
      "[226]\ttrain-rmse:0.078306\teval-rmse:0.115253\n",
      "[227]\ttrain-rmse:0.078094\teval-rmse:0.115294\n",
      "[228]\ttrain-rmse:0.078067\teval-rmse:0.1157\n",
      "[229]\ttrain-rmse:0.07794\teval-rmse:0.115859\n",
      "[230]\ttrain-rmse:0.077876\teval-rmse:0.115793\n",
      "[231]\ttrain-rmse:0.077758\teval-rmse:0.115652\n",
      "[232]\ttrain-rmse:0.077643\teval-rmse:0.115534\n",
      "[233]\ttrain-rmse:0.07759\teval-rmse:0.115523\n",
      "[234]\ttrain-rmse:0.077411\teval-rmse:0.115468\n",
      "[235]\ttrain-rmse:0.077318\teval-rmse:0.115721\n",
      "[236]\ttrain-rmse:0.077233\teval-rmse:0.115686\n",
      "[237]\ttrain-rmse:0.077066\teval-rmse:0.115582\n",
      "[238]\ttrain-rmse:0.076921\teval-rmse:0.115642\n",
      "[239]\ttrain-rmse:0.076798\teval-rmse:0.115583\n",
      "[240]\ttrain-rmse:0.076725\teval-rmse:0.115388\n",
      "[241]\ttrain-rmse:0.07655\teval-rmse:0.115342\n",
      "[242]\ttrain-rmse:0.076428\teval-rmse:0.115532\n",
      "[243]\ttrain-rmse:0.076395\teval-rmse:0.115542\n",
      "[244]\ttrain-rmse:0.076183\teval-rmse:0.115455\n",
      "[245]\ttrain-rmse:0.076115\teval-rmse:0.115474\n",
      "[246]\ttrain-rmse:0.075941\teval-rmse:0.115478\n",
      "[247]\ttrain-rmse:0.075825\teval-rmse:0.115253\n",
      "[248]\ttrain-rmse:0.075791\teval-rmse:0.115309\n",
      "[249]\ttrain-rmse:0.075698\teval-rmse:0.115267\n",
      "[250]\ttrain-rmse:0.075434\teval-rmse:0.115364\n",
      "[251]\ttrain-rmse:0.075319\teval-rmse:0.11525\n",
      "[252]\ttrain-rmse:0.075335\teval-rmse:0.115168\n",
      "[253]\ttrain-rmse:0.075245\teval-rmse:0.115272\n",
      "[254]\ttrain-rmse:0.075264\teval-rmse:0.115243\n",
      "[255]\ttrain-rmse:0.075153\teval-rmse:0.115315\n",
      "[256]\ttrain-rmse:0.075062\teval-rmse:0.115393\n",
      "[257]\ttrain-rmse:0.074838\teval-rmse:0.115383\n",
      "[258]\ttrain-rmse:0.074729\teval-rmse:0.1156\n",
      "[259]\ttrain-rmse:0.074591\teval-rmse:0.116049\n",
      "[260]\ttrain-rmse:0.074477\teval-rmse:0.115985\n",
      "[261]\ttrain-rmse:0.074363\teval-rmse:0.116082\n",
      "[262]\ttrain-rmse:0.074277\teval-rmse:0.115915\n",
      "[263]\ttrain-rmse:0.074144\teval-rmse:0.116045\n",
      "[264]\ttrain-rmse:0.074007\teval-rmse:0.115731\n",
      "[265]\ttrain-rmse:0.073792\teval-rmse:0.11555\n",
      "[266]\ttrain-rmse:0.073604\teval-rmse:0.115697\n",
      "[267]\ttrain-rmse:0.073616\teval-rmse:0.115687\n",
      "[268]\ttrain-rmse:0.073595\teval-rmse:0.115636\n",
      "[269]\ttrain-rmse:0.073471\teval-rmse:0.115339\n",
      "[270]\ttrain-rmse:0.073383\teval-rmse:0.115181\n",
      "[271]\ttrain-rmse:0.073289\teval-rmse:0.11502\n",
      "[272]\ttrain-rmse:0.073184\teval-rmse:0.114882\n",
      "[273]\ttrain-rmse:0.073026\teval-rmse:0.114782\n",
      "[274]\ttrain-rmse:0.072926\teval-rmse:0.114585\n",
      "[275]\ttrain-rmse:0.072824\teval-rmse:0.114519\n",
      "[276]\ttrain-rmse:0.072733\teval-rmse:0.114416\n",
      "[277]\ttrain-rmse:0.072695\teval-rmse:0.114541\n",
      "[278]\ttrain-rmse:0.072569\teval-rmse:0.114594\n",
      "[279]\ttrain-rmse:0.072475\teval-rmse:0.114509\n",
      "[280]\ttrain-rmse:0.07245\teval-rmse:0.114632\n",
      "[281]\ttrain-rmse:0.072321\teval-rmse:0.114738\n",
      "[282]\ttrain-rmse:0.072227\teval-rmse:0.11453\n",
      "[283]\ttrain-rmse:0.072206\teval-rmse:0.114311\n",
      "[284]\ttrain-rmse:0.072047\teval-rmse:0.114211\n",
      "[285]\ttrain-rmse:0.071781\teval-rmse:0.114154\n",
      "[286]\ttrain-rmse:0.071702\teval-rmse:0.114344\n",
      "[287]\ttrain-rmse:0.071803\teval-rmse:0.114692\n",
      "[288]\ttrain-rmse:0.071621\teval-rmse:0.114368\n",
      "[289]\ttrain-rmse:0.071586\teval-rmse:0.114362\n",
      "[290]\ttrain-rmse:0.071511\teval-rmse:0.114334\n",
      "[291]\ttrain-rmse:0.071344\teval-rmse:0.114426\n",
      "[292]\ttrain-rmse:0.071284\teval-rmse:0.114416\n",
      "[293]\ttrain-rmse:0.071075\teval-rmse:0.114596\n",
      "[294]\ttrain-rmse:0.071039\teval-rmse:0.114655\n",
      "[295]\ttrain-rmse:0.070977\teval-rmse:0.114576\n",
      "[296]\ttrain-rmse:0.070846\teval-rmse:0.114878\n",
      "[297]\ttrain-rmse:0.070877\teval-rmse:0.114829\n",
      "[298]\ttrain-rmse:0.070745\teval-rmse:0.114596\n",
      "[299]\ttrain-rmse:0.070638\teval-rmse:0.114681\n",
      "[300]\ttrain-rmse:0.070394\teval-rmse:0.114726\n",
      "[301]\ttrain-rmse:0.070335\teval-rmse:0.114679\n",
      "[302]\ttrain-rmse:0.070251\teval-rmse:0.114839\n",
      "[303]\ttrain-rmse:0.070209\teval-rmse:0.114942\n",
      "[304]\ttrain-rmse:0.070077\teval-rmse:0.115024\n",
      "[305]\ttrain-rmse:0.069846\teval-rmse:0.114711\n",
      "[306]\ttrain-rmse:0.06963\teval-rmse:0.114784\n",
      "[307]\ttrain-rmse:0.069581\teval-rmse:0.114843\n",
      "[308]\ttrain-rmse:0.069436\teval-rmse:0.11459\n",
      "[309]\ttrain-rmse:0.069316\teval-rmse:0.114729\n",
      "[310]\ttrain-rmse:0.069266\teval-rmse:0.114641\n",
      "[311]\ttrain-rmse:0.069209\teval-rmse:0.114575\n",
      "[312]\ttrain-rmse:0.069163\teval-rmse:0.114689\n",
      "[313]\ttrain-rmse:0.068981\teval-rmse:0.114643\n",
      "[314]\ttrain-rmse:0.068891\teval-rmse:0.114667\n",
      "[315]\ttrain-rmse:0.068848\teval-rmse:0.114675\n",
      "[316]\ttrain-rmse:0.068696\teval-rmse:0.114599\n",
      "[317]\ttrain-rmse:0.068505\teval-rmse:0.114472\n",
      "[318]\ttrain-rmse:0.068401\teval-rmse:0.114492\n",
      "[319]\ttrain-rmse:0.068287\teval-rmse:0.114629\n",
      "[320]\ttrain-rmse:0.068188\teval-rmse:0.114633\n",
      "[321]\ttrain-rmse:0.068108\teval-rmse:0.114567\n",
      "[322]\ttrain-rmse:0.068007\teval-rmse:0.114681\n",
      "[323]\ttrain-rmse:0.067949\teval-rmse:0.114709\n",
      "[324]\ttrain-rmse:0.067862\teval-rmse:0.114664\n",
      "[325]\ttrain-rmse:0.067696\teval-rmse:0.114549\n",
      "[326]\ttrain-rmse:0.067514\teval-rmse:0.114615\n",
      "[327]\ttrain-rmse:0.067525\teval-rmse:0.114559\n",
      "[328]\ttrain-rmse:0.067467\teval-rmse:0.114619\n",
      "[329]\ttrain-rmse:0.06741\teval-rmse:0.114545\n",
      "[330]\ttrain-rmse:0.067377\teval-rmse:0.114342\n",
      "[331]\ttrain-rmse:0.067188\teval-rmse:0.114469\n",
      "[332]\ttrain-rmse:0.067084\teval-rmse:0.114552\n",
      "[333]\ttrain-rmse:0.066958\teval-rmse:0.114975\n",
      "[334]\ttrain-rmse:0.066907\teval-rmse:0.114998\n",
      "[335]\ttrain-rmse:0.066793\teval-rmse:0.114988\n",
      "Stopping. Best iteration:\n",
      "[285]\ttrain-rmse:0.071781\teval-rmse:0.114154\n",
      "\n",
      "Parse progress: |█████████████████████████████████████████████████████████| 100%\n"
     ]
    },
    {
     "data": {
      "text/html": [
       "<table>\n",
       "<thead>\n",
       "<tr><th style=\"text-align: right;\">  SalePrice</th><th style=\"text-align: right;\">  predict</th></tr>\n",
       "</thead>\n",
       "<tbody>\n",
       "<tr><td style=\"text-align: right;\">    11.8494</td><td style=\"text-align: right;\">  12.0045</td></tr>\n",
       "<tr><td style=\"text-align: right;\">    12.2061</td><td style=\"text-align: right;\">  12.2268</td></tr>\n",
       "<tr><td style=\"text-align: right;\">    11.6784</td><td style=\"text-align: right;\">  11.814 </td></tr>\n",
       "<tr><td style=\"text-align: right;\">    11.7906</td><td style=\"text-align: right;\">  11.8356</td></tr>\n",
       "<tr><td style=\"text-align: right;\">    11.9117</td><td style=\"text-align: right;\">  11.8796</td></tr>\n",
       "<tr><td style=\"text-align: right;\">    11.9767</td><td style=\"text-align: right;\">  11.9014</td></tr>\n",
       "<tr><td style=\"text-align: right;\">    11.8451</td><td style=\"text-align: right;\">  11.7788</td></tr>\n",
       "<tr><td style=\"text-align: right;\">    11.1346</td><td style=\"text-align: right;\">  11.1157</td></tr>\n",
       "<tr><td style=\"text-align: right;\">    11.914 </td><td style=\"text-align: right;\">  11.8188</td></tr>\n",
       "<tr><td style=\"text-align: right;\">    11.8845</td><td style=\"text-align: right;\">  11.992 </td></tr>\n",
       "</tbody>\n",
       "</table>"
      ]
     },
     "metadata": {},
     "output_type": "display_data"
    },
    {
     "name": "stdout",
     "output_type": "stream",
     "text": [
      "\n",
      "Parse progress: |█████████████████████████████████████████████████████████| 100%\n"
     ]
    },
    {
     "data": {
      "image/png": "[encoded data removed]",
      "text/plain": [
       "<Figure size 432x288 with 1 Axes>"
      ]
     },
     "metadata": {},
     "output_type": "display_data"
    }
   ],
   "source": [
    "ave_y = train['SalePrice'].mean()[0]\n",
    "\n",
    "colselect2 = num_train_fin.as_data_frame()\n",
    "colselect2 = colselect2.drop('SalePrice', 1)\n",
    "glm_cols2 = colselect2.columns.tolist()\n",
    "\n",
    "# XGBoost uses SVMLight data structure, not Numpy arrays or Pandas data frames \n",
    "dtrain1 = xgb.DMatrix(num_train_fin.as_data_frame()[glm_cols2],\n",
    "                      num_train_fin.as_data_frame()['SalePrice'])\n",
    "dvalid1 = xgb.DMatrix(num_valid_fin.as_data_frame()[glm_cols2],\n",
    "                      num_valid_fin.as_data_frame()['SalePrice'])\n",
    "dtest = xgb.DMatrix(num_test_fin.as_data_frame()[glm_cols2])\n",
    "\n",
    "# tuning parameters\n",
    "params1 = {\n",
    "    'objective': 'reg:linear',\n",
    "    'booster': 'gbtree', \n",
    "    'eval_metric': 'rmse',\n",
    "    'eta': 0.05,\n",
    "    'subsample': 0.1, \n",
    "    'colsample_bytree': 0.8,\n",
    "    'max_depth': 6,\n",
    "    'reg_alpha' : 0.09,\n",
    "    'reg_lambda' : 0.6,\n",
    "    'base_score': ave_y,\n",
    "    'silent': 0,\n",
    "    'seed': 42,\n",
    "}\n",
    "\n",
    "# watchlist is used for early stopping\n",
    "watchlist = [(dtrain1, 'train'), (dvalid1, 'eval')]\n",
    "\n",
    "# train model\n",
    "xgb_model1 = xgb.train(params1, \n",
    "                       dtrain1, \n",
    "                       10000,\n",
    "                       evals=watchlist, \n",
    "                       early_stopping_rounds=50, \n",
    "                       verbose_eval=True)\n",
    "\n",
    "# create assessment stats and submission file\n",
    "xgb_preds1_val = h2o.H2OFrame(xgb_model1.predict(dvalid1).tolist())\n",
    "ranked_preds_plot('SalePrice', valid, xgb_preds1_val) \n",
    "xgb_preds1_test = h2o.H2OFrame(xgb_model1.predict(dtest).tolist())\n",
    "gen_submission3(xgb_preds1_test)"
   ]
  },
  {
   "cell_type": "markdown",
   "metadata": {},
   "source": [
    "## Blended Scikit Learn Lasso and XGBoost Model\n",
    "1. https://www.kaggle.com/davidprakash/xgboost"
   ]
  },
  {
   "cell_type": "markdown",
   "metadata": {},
   "source": [
    "### First we build our XGBoost Model"
   ]
  },
  {
   "cell_type": "code",
   "execution_count": 93,
   "metadata": {},
   "outputs": [
    {
     "data": {
      "text/plain": [
       "XGBRegressor(base_score=0.5, booster='gbtree', colsample_bylevel=1,\n",
       "       colsample_bytree=0.2, gamma=0.0, learning_rate=0.05,\n",
       "       max_delta_step=0, max_depth=6, min_child_weight=1.5, missing=None,\n",
       "       n_estimators=7200, n_jobs=1, nthread=None, objective='reg:linear',\n",
       "       random_state=0, reg_alpha=0.9, reg_lambda=0.6, scale_pos_weight=1,\n",
       "       seed=42, silent=1, subsample=0.2)"
      ]
     },
     "execution_count": 93,
     "metadata": {},
     "output_type": "execute_result"
    }
   ],
   "source": [
    "# First I need to take my numerical only h2o frames and convert them back to pandas data frames\n",
    "train_df_pre = num_train_fin.as_data_frame()\n",
    "train_df = train_df_pre.drop('SalePrice', 1)\n",
    "test_df = num_test_fin.as_data_frame()\n",
    "\n",
    "# I also need to create a prediction (y) value dataframe\n",
    "label_df = train_df_pre[\"SalePrice\"]\n",
    "\n",
    "# Then I can build my XGBoost model (using the parameters from Prakash notebook)\n",
    "xgbmod2 = xgb.XGBRegressor(\n",
    "                 colsample_bytree=0.2,\n",
    "                 gamma=0.0,\n",
    "                 learning_rate=0.05,\n",
    "                 max_depth=6,\n",
    "                 min_child_weight=1.5,\n",
    "                 n_estimators=7200,                                                                  \n",
    "                 reg_alpha=0.9,\n",
    "                 reg_lambda=0.6,\n",
    "                 subsample=0.2,\n",
    "                 seed=42,\n",
    "                 silent=1)\n",
    "\n",
    "# Fit this model to the training data\n",
    "xgbmod2.fit(train_df, label_df)"
   ]
  },
  {
   "cell_type": "code",
   "execution_count": 94,
   "metadata": {},
   "outputs": [],
   "source": [
    "# RMSE error function for training\n",
    "\n",
    "from sklearn.metrics import mean_squared_error\n",
    "def rmse(y_true, y_pred):\n",
    "    return np.sqrt(mean_squared_error(y_true, y_pred))"
   ]
  },
  {
   "cell_type": "code",
   "execution_count": 95,
   "metadata": {},
   "outputs": [
    {
     "name": "stdout",
     "output_type": "stream",
     "text": [
      "XGBoost score on training set:  0.04363994447889395\n"
     ]
    }
   ],
   "source": [
    "# Run prediction on training set and get our RMSE\n",
    "y_pred1 = xgbmod2.predict(train_df)\n",
    "y_test1 = label_df\n",
    "rmse_xgb=rmse(y_test1, y_pred1)\n",
    "print(\"XGBoost score on training set: \", rmse_xgb)"
   ]
  },
  {
   "cell_type": "code",
   "execution_count": 96,
   "metadata": {},
   "outputs": [],
   "source": [
    "# Run prediction on the Kaggle test set.\n",
    "y_pred_xgb = xgbmod2.predict(test_df)"
   ]
  },
  {
   "cell_type": "markdown",
   "metadata": {},
   "source": [
    "### Then we build our Scikit Learn Lasso model"
   ]
  },
  {
   "cell_type": "code",
   "execution_count": 97,
   "metadata": {},
   "outputs": [
    {
     "data": {
      "text/plain": [
       "Lasso(alpha=0.00099, copy_X=True, fit_intercept=True, max_iter=50000,\n",
       "   normalize=False, positive=False, precompute=False, random_state=None,\n",
       "   selection='cyclic', tol=0.0001, warm_start=False)"
      ]
     },
     "execution_count": 97,
     "metadata": {},
     "output_type": "execute_result"
    }
   ],
   "source": [
    "from sklearn.linear_model import Lasso\n",
    "\n",
    "# Use alpha and lasso model from Prakash notebook\n",
    "best_alpha = 0.00099\n",
    "\n",
    "scikl = Lasso(alpha=best_alpha, max_iter=50000)\n",
    "\n",
    "# Fit the model to our training data\n",
    "scikl.fit(train_df, label_df)"
   ]
  },
  {
   "cell_type": "code",
   "execution_count": 98,
   "metadata": {},
   "outputs": [
    {
     "name": "stdout",
     "output_type": "stream",
     "text": [
      "Lasso score on training set:  0.10362776033174974\n"
     ]
    }
   ],
   "source": [
    "# Run prediction on training set and get our RMSE\n",
    "y_pred2 = scikl.predict(train_df)\n",
    "y_test2 = label_df\n",
    "rmse_lasso=rmse(y_test2, y_pred2)\n",
    "print(\"Lasso score on training set: \", rmse_lasso)"
   ]
  },
  {
   "cell_type": "code",
   "execution_count": 99,
   "metadata": {},
   "outputs": [],
   "source": [
    "# Run prediction on the Kaggle test set.\n",
    "y_pred_lasso = scikl.predict(test_df)"
   ]
  },
  {
   "cell_type": "code",
   "execution_count": 121,
   "metadata": {},
   "outputs": [
    {
     "data": {
      "text/plain": [
       "array([11.68793638, 11.80228401, 12.10977297, ..., 12.05486194,\n",
       "       11.65058616, 12.34108199])"
      ]
     },
     "execution_count": 121,
     "metadata": {},
     "output_type": "execute_result"
    }
   ],
   "source": [
    "y_pred_lasso"
   ]
  },
  {
   "cell_type": "markdown",
   "metadata": {},
   "source": [
    "### Then we blend and create our results"
   ]
  },
  {
   "cell_type": "code",
   "execution_count": 100,
   "metadata": {},
   "outputs": [],
   "source": [
    "# Blend the two models\n",
    "\n",
    "# Add them together and weight the lasso model more heavily then average\n",
    "y_pred =  (y_pred_xgb + y_pred_lasso*1.1) / 2.1\n",
    "y_pred = np.exp(y_pred)\n",
    "\n",
    "# Output to file for submission\n",
    "pred_df = pd.DataFrame(y_pred, index=test_df[\"Id\"], columns=[\"SalePrice\"])\n",
    "pred_df.to_csv('blendedoutput.csv', header=True, index_label='Id')"
   ]
  },
  {
   "cell_type": "markdown",
   "metadata": {},
   "source": [
    "## Final Attempt will be to expand on our Blending but with our best models"
   ]
  },
  {
   "cell_type": "code",
   "execution_count": 132,
   "metadata": {},
   "outputs": [
    {
     "name": "stdout",
     "output_type": "stream",
     "text": [
      "glm prediction progress: |████████████████████████████████████████████████| 100%\n"
     ]
    }
   ],
   "source": [
    "# Our Top two scores (ignoring the blended model)\n",
    "\n",
    "# GLM with RMSE 0.10905\n",
    "\n",
    "sub = test['Id'].cbind(glm_0.predict(test))\n",
    "sub.columns = ['Id', 'SalePrice']\n",
    "glmblend = sub.as_data_frame()\n",
    "y_pred_glm = glmblend['SalePrice'].values"
   ]
  },
  {
   "cell_type": "code",
   "execution_count": 133,
   "metadata": {},
   "outputs": [],
   "source": [
    "# XGBoost with RMSE 0.11415\n",
    "\n",
    "sub2 = test['Id'].cbind(xgb_preds1_test)\n",
    "sub2.columns = ['Id', 'SalePrice']\n",
    "xgbblend = sub2.as_data_frame()\n",
    "y_pred_xgb1 = xgbblend['SalePrice'].values"
   ]
  },
  {
   "cell_type": "code",
   "execution_count": 137,
   "metadata": {},
   "outputs": [],
   "source": [
    "# Then we blend the two models\n",
    "\n",
    "y_pred =  (y_pred_glm + y_pred_xgb1) / 2\n",
    "y_pred = np.exp(y_pred)\n",
    "\n",
    "# Output to file for submission\n",
    "pred_df = pd.DataFrame(y_pred, index=test_df[\"Id\"], columns=[\"SalePrice\"])\n",
    "pred_df.to_csv('blendedoutput2.csv', header=True, index_label='Id')"
   ]
  },
  {
   "cell_type": "code",
   "execution_count": null,
   "metadata": {},
   "outputs": [],
   "source": [
    "# This improved our pre-blending scores to 0.12629"
   ]
  },
  {
   "cell_type": "code",
   "execution_count": 138,
   "metadata": {},
   "outputs": [],
   "source": [
    "# I will now blend these two models with our Scikit Learn and XGB Blended Model\n",
    "\n",
    "y_pred =  (y_pred_glm + y_pred_xgb1 + y_pred_xgb + y_pred_lasso) / 4\n",
    "y_pred = np.exp(y_pred)\n",
    "\n",
    "# Output to file for submission\n",
    "pred_df = pd.DataFrame(y_pred, index=test_df[\"Id\"], columns=[\"SalePrice\"])\n",
    "pred_df.to_csv('blendedoutput3.csv', header=True, index_label='Id')\n"
   ]
  },
  {
   "cell_type": "code",
   "execution_count": null,
   "metadata": {},
   "outputs": [],
   "source": [
    "# This continued to improve our pre-blending scores to 0.12330"
   ]
  },
  {
   "cell_type": "code",
   "execution_count": 140,
   "metadata": {},
   "outputs": [],
   "source": [
    "# I will now try to weight our Lasso model more heavily\n",
    "\n",
    "y_pred =  (y_pred_glm + y_pred_xgb1 + y_pred_xgb + y_pred_lasso*1.1) / 4.1\n",
    "y_pred = np.exp(y_pred)\n",
    "\n",
    "# Output to file for submission\n",
    "pred_df = pd.DataFrame(y_pred, index=test_df[\"Id\"], columns=[\"SalePrice\"])\n",
    "pred_df.to_csv('blendedoutput4.csv', header=True, index_label='Id')"
   ]
  },
  {
   "cell_type": "code",
   "execution_count": null,
   "metadata": {},
   "outputs": [],
   "source": [
    "# This is our best score yet: 0.12316"
   ]
  },
  {
   "cell_type": "code",
   "execution_count": 141,
   "metadata": {},
   "outputs": [],
   "source": [
    "# I will now try to weight our Lasso model even more heavily\n",
    "\n",
    "y_pred =  (y_pred_glm + y_pred_xgb1 + y_pred_xgb + y_pred_lasso*1.25) / 4.25\n",
    "y_pred = np.exp(y_pred)\n",
    "\n",
    "# Output to file for submission\n",
    "pred_df = pd.DataFrame(y_pred, index=test_df[\"Id\"], columns=[\"SalePrice\"])\n",
    "pred_df.to_csv('blendedoutput5.csv', header=True, index_label='Id')"
   ]
  },
  {
   "cell_type": "code",
   "execution_count": null,
   "metadata": {},
   "outputs": [],
   "source": [
    "# Continued Improvement: 0.12298"
   ]
  },
  {
   "cell_type": "code",
   "execution_count": 142,
   "metadata": {},
   "outputs": [],
   "source": [
    "# I will now try to weight our Lasso model even more heavily\n",
    "\n",
    "y_pred =  (y_pred_glm + y_pred_xgb1 + y_pred_xgb + y_pred_lasso*2) / 5\n",
    "y_pred = np.exp(y_pred)\n",
    "\n",
    "# Output to file for submission\n",
    "pred_df = pd.DataFrame(y_pred, index=test_df[\"Id\"], columns=[\"SalePrice\"])\n",
    "pred_df.to_csv('blendedoutput6.csv', header=True, index_label='Id')"
   ]
  },
  {
   "cell_type": "code",
   "execution_count": null,
   "metadata": {},
   "outputs": [],
   "source": [
    "# Continued Improvement: 0.12235"
   ]
  },
  {
   "cell_type": "code",
   "execution_count": 143,
   "metadata": {},
   "outputs": [],
   "source": [
    "# I will now try to weight our Lasso model even more heavily\n",
    "\n",
    "y_pred =  (y_pred_glm + y_pred_xgb1 + y_pred_xgb + y_pred_lasso*4) / 7\n",
    "y_pred = np.exp(y_pred)\n",
    "\n",
    "# Output to file for submission\n",
    "pred_df = pd.DataFrame(y_pred, index=test_df[\"Id\"], columns=[\"SalePrice\"])\n",
    "pred_df.to_csv('blendedoutput7.csv', header=True, index_label='Id')"
   ]
  },
  {
   "cell_type": "code",
   "execution_count": null,
   "metadata": {},
   "outputs": [],
   "source": [
    "# Continued Improvement: 0.12181"
   ]
  },
  {
   "cell_type": "code",
   "execution_count": 144,
   "metadata": {},
   "outputs": [],
   "source": [
    "# I will now try to weight our Lasso model even more heavily\n",
    "\n",
    "y_pred =  (y_pred_glm + y_pred_xgb1 + y_pred_xgb + y_pred_lasso*8) / 11\n",
    "y_pred = np.exp(y_pred)\n",
    "\n",
    "# Output to file for submission\n",
    "pred_df = pd.DataFrame(y_pred, index=test_df[\"Id\"], columns=[\"SalePrice\"])\n",
    "pred_df.to_csv('blendedoutput8.csv', header=True, index_label='Id')"
   ]
  },
  {
   "cell_type": "code",
   "execution_count": null,
   "metadata": {},
   "outputs": [],
   "source": [
    "# Very Large Increase Caused issues and dropped the score: 0.12183"
   ]
  },
  {
   "cell_type": "code",
   "execution_count": 145,
   "metadata": {},
   "outputs": [],
   "source": [
    "# I will now try to weight our Lasso model even more heavily\n",
    "\n",
    "y_pred =  (y_pred_glm + y_pred_xgb1 + y_pred_xgb + y_pred_lasso*6) / 9\n",
    "y_pred = np.exp(y_pred)\n",
    "\n",
    "# Output to file for submission\n",
    "pred_df = pd.DataFrame(y_pred, index=test_df[\"Id\"], columns=[\"SalePrice\"])\n",
    "pred_df.to_csv('blendedoutput9.csv', header=True, index_label='Id')"
   ]
  },
  {
   "cell_type": "code",
   "execution_count": null,
   "metadata": {},
   "outputs": [],
   "source": [
    "# Last attempt is to simply drop the other two model but use a heavy weight on our Sci Kit Learn Model"
   ]
  },
  {
   "cell_type": "code",
   "execution_count": 146,
   "metadata": {},
   "outputs": [],
   "source": [
    "# Blend the two models\n",
    "\n",
    "# Add them together and weight the lasso model more heavily then average\n",
    "y_pred =  (y_pred_xgb + y_pred_lasso*6) / 7\n",
    "y_pred = np.exp(y_pred)\n",
    "\n",
    "# Output to file for submission\n",
    "pred_df = pd.DataFrame(y_pred, index=test_df[\"Id\"], columns=[\"SalePrice\"])\n",
    "pred_df.to_csv('blendedoutput10.csv', header=True, index_label='Id')"
   ]
  },
  {
   "cell_type": "markdown",
   "metadata": {},
   "source": [
    "# Final Model Comparison"
   ]
  },
  {
   "cell_type": "code",
   "execution_count": null,
   "metadata": {},
   "outputs": [],
   "source": [
    "## GLM: Score 0.12850 + Validation RMSE 0.10905\n",
    "## Random Forest: Score 0.18307 + Validation RMSE 0.17210\n",
    "## Extremely Random Forest: Score 0.19277 + Validation RMSE 0.18009\n",
    "## H2O Gradient Boosted Machine: Score 0.13062 + Validation RMSE 0.12528\n",
    "## H2O XGBoost: NOT SUPPORTED ON WINDOWS MACHINES\n",
    "## H2O Stacked (All Models): Score 0.12952 + Validation RMSE 0.11275 (might be overfitting -> train RMSE 0.0548)\n",
    "## XGBoost: Score 0.13258 + Validation RMSE 0.11415\n",
    "## Blended Model: Score 0.12322\n",
    "## Blended Model 2: Score 0.12629 (Better than GLM)\n",
    "## Blended Model 3: Score 0.12330\n",
    "## Blended Model 4: Score 0.12316\n",
    "## Blended Model 5: Score 0.12298\n",
    "## Blended Model 6: Score 0.12235 \n",
    "## Blended Model 7: Score 0.12181 \n",
    "## Blended Model 8: Score 0.12183 (dropped from previous high)\n",
    "## Blended Model 9: Score 0.12176 (BEST SCORE)\n",
    "## Blended Model 10: Score 0.12221 (not an improvement)"
   ]
  },
  {
   "cell_type": "markdown",
   "metadata": {},
   "source": [
    "### For future improvement: blending of more models, changing of weighting in blending, changing of parameters for certain models, and changes / improvements to data pre-processing"
   ]
  },
  {
   "cell_type": "code",
   "execution_count": null,
   "metadata": {},
   "outputs": [],
   "source": []
  }
 ],
 "metadata": {
  "celltoolbar": "Raw Cell Format",
  "kernelspec": {
   "display_name": "Python 3",
   "language": "python",
   "name": "python3"
  },
  "language_info": {
   "codemirror_mode": {
    "name": "ipython",
    "version": 3
   },
   "file_extension": ".py",
   "mimetype": "text/x-python",
   "name": "python",
   "nbconvert_exporter": "python",
   "pygments_lexer": "ipython3",
   "version": "3.6.4"
  }
 },
 "nbformat": 4,
 "nbformat_minor": 2
}
